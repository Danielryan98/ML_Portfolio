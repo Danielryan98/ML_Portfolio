{
 "cells": [
  {
   "cell_type": "markdown",
   "id": "b6da5f75",
   "metadata": {},
   "source": [
    "# Clustering"
   ]
  },
  {
   "cell_type": "code",
   "execution_count": 54,
   "id": "519ff5ef",
   "metadata": {},
   "outputs": [],
   "source": [
    "# Python ≥3.5 is required\n",
    "import sys\n",
    "assert sys.version_info >= (3, 5)\n",
    "\n",
    "# Scikit-Learn ≥0.20 is required\n",
    "import sklearn\n",
    "assert sklearn.__version__ >= \"0.20\"\n",
    "\n",
    "# Common imports\n",
    "import numpy as np\n",
    "import os\n",
    "from sklearn.metrics import homogeneity_score\n",
    "\n",
    "# to make this notebook's output stable across runs\n",
    "np.random.seed(42)\n",
    "\n",
    "# To plot pretty figures\n",
    "%matplotlib inline\n",
    "import matplotlib as mpl\n",
    "import matplotlib.pyplot as plt\n",
    "mpl.rc('axes', labelsize=14)\n",
    "mpl.rc('xtick', labelsize=12)\n",
    "mpl.rc('ytick', labelsize=12)\n",
    "\n",
    "# Ignore useless warnings (see SciPy issue #5998)\n",
    "import warnings\n",
    "warnings.filterwarnings(action=\"ignore\", message=\"^internal gelsd\")"
   ]
  },
  {
   "cell_type": "code",
   "execution_count": 55,
   "id": "b123f020",
   "metadata": {},
   "outputs": [],
   "source": [
    "import pandas as pd\n",
    "\n",
    "batch_size = 512\n",
    "train_data = np.array(pd.read_csv(r'C:\\Users\\ryand\\Desktop\\Data Mining & ML\\Fashion\\fashion-mnist_train.csv'))\n",
    "test_data = np.array(pd.read_csv(r'C:\\Users\\ryand\\Desktop\\Data Mining & ML\\Fashion\\fashion-mnist_test.csv'))\n",
    "\n",
    "X_train = train_data[:, 1:785]\n",
    "y_train = train_data[:, 0]\n",
    "X_test = test_data[:, 1:785]\n",
    "y_test = test_data[:, 0]"
   ]
  },
  {
   "cell_type": "markdown",
   "id": "d4ae900b",
   "metadata": {},
   "source": [
    "# K-means"
   ]
  },
  {
   "cell_type": "markdown",
   "id": "ae46bb12",
   "metadata": {},
   "source": [
    "## Fit and Predict\n",
    "\n",
    "`fit_predict` Compute cluster centers and predict cluster index for each sample.\n",
    "\n",
    "\n",
    "\n",
    "`kmeans.fit_predict` <- Important to learn <a href=\"https://scikit-learn.org/stable/modules/generated/sklearn.cluster.KMeans.html#sklearn.cluster.KMeans.fit_predict\">Documentation Link</a>"
   ]
  },
  {
   "cell_type": "code",
   "execution_count": 56,
   "id": "40c239ce",
   "metadata": {},
   "outputs": [],
   "source": [
    "from sklearn.cluster import KMeans"
   ]
  },
  {
   "cell_type": "code",
   "execution_count": 57,
   "id": "ba4496d2",
   "metadata": {},
   "outputs": [],
   "source": [
    "k = 10 #10 classes\n",
    "kmeans = KMeans(n_clusters=k, random_state=42) #Define the kmeans algorithm with 10 clusters\n",
    "y_pred = kmeans.fit_predict(X_train) #Assign the images in the dataset a cluster"
   ]
  },
  {
   "cell_type": "code",
   "execution_count": 58,
   "id": "36ea2215",
   "metadata": {},
   "outputs": [
    {
     "data": {
      "text/plain": [
       "array([0, 8, 3, ..., 4, 4, 1])"
      ]
     },
     "execution_count": 58,
     "metadata": {},
     "output_type": "execute_result"
    }
   ],
   "source": [
    "y_pred"
   ]
  },
  {
   "cell_type": "code",
   "execution_count": 59,
   "id": "2117de66",
   "metadata": {},
   "outputs": [
    {
     "name": "stdout",
     "output_type": "stream",
     "text": [
      "0.5012376251559566\n"
     ]
    }
   ],
   "source": [
    "print(homogeneity_score(y_train, y_pred))"
   ]
  },
  {
   "cell_type": "markdown",
   "id": "c6e92697",
   "metadata": {},
   "source": [
    "50% homogeneity score, so basically certain clusters contain images from multiple classes"
   ]
  },
  {
   "cell_type": "markdown",
   "id": "6d338e25",
   "metadata": {},
   "source": [
    "Each instance was assigned to one of the 10 clusters. In the context of clustering, an instance’s label is the index of the cluster that this instance gets assigned to by the algorithm: this is not to be confused with the class labels in classification."
   ]
  },
  {
   "cell_type": "code",
   "execution_count": 103,
   "id": "3a15ba36",
   "metadata": {},
   "outputs": [
    {
     "data": {
      "text/plain": [
       "True"
      ]
     },
     "execution_count": 103,
     "metadata": {},
     "output_type": "execute_result"
    }
   ],
   "source": [
    "y_pred is kmeans.labels_"
   ]
  },
  {
   "cell_type": "markdown",
   "id": "8bb513b4",
   "metadata": {},
   "source": [
    "And the following 10 centroids (i.e., cluster centers) were estimated:"
   ]
  },
  {
   "cell_type": "code",
   "execution_count": 104,
   "id": "cae7d469",
   "metadata": {},
   "outputs": [
    {
     "data": {
      "text/plain": [
       "array([[-7.26415456e-18,  1.71013254e-03,  2.43693886e-02, ...,\n",
       "         5.94698589e-01,  4.28388200e-01,  9.19196238e-02],\n",
       "       [-9.21571847e-18,  7.11236625e-17, -4.09394740e-16, ...,\n",
       "         2.17603713e-14,  1.07691633e-14, -1.11022302e-15],\n",
       "       [ 1.83606557e-03,  4.19672131e-03,  2.15081967e-02, ...,\n",
       "         3.07540984e+00,  1.40708197e+00,  9.12786885e-02],\n",
       "       ...,\n",
       "       [ 2.65005963e-04,  9.80522062e-03,  6.63839936e-02, ...,\n",
       "         2.57002783e+00,  5.70557838e-01,  5.37962104e-02],\n",
       "       [-9.43255890e-18,  3.01904320e-03,  3.01904320e-03, ...,\n",
       "         2.78680910e-03,  2.32234092e-03, -9.43689571e-16],\n",
       "       [ 3.52208074e-03,  9.88891899e-03,  8.38526145e-02, ...,\n",
       "         7.27445137e-02,  2.53318884e-02,  3.11568681e-03]])"
      ]
     },
     "execution_count": 104,
     "metadata": {},
     "output_type": "execute_result"
    }
   ],
   "source": [
    "kmeans.cluster_centers_"
   ]
  },
  {
   "cell_type": "markdown",
   "id": "05758831",
   "metadata": {},
   "source": [
    "Note that the `KMeans` instance preserves the labels of the instances it was trained on. Somewhat confusingly, in this context, the _label_ of an instance is the index of the cluster that instance gets assigned to:"
   ]
  },
  {
   "cell_type": "code",
   "execution_count": 105,
   "id": "88330384",
   "metadata": {},
   "outputs": [
    {
     "data": {
      "text/plain": [
       "array([0, 8, 3, ..., 4, 4, 1])"
      ]
     },
     "execution_count": 105,
     "metadata": {},
     "output_type": "execute_result"
    }
   ],
   "source": [
    "labelpred = kmeans.labels_\n",
    "labelpred"
   ]
  },
  {
   "cell_type": "markdown",
   "id": "6215eec1",
   "metadata": {},
   "source": [
    "##### Initial Inertia - sum of squared distances - lower value is better - measures how internally coherent/logical clusters are (how close each instance is to its centroid)"
   ]
  },
  {
   "cell_type": "code",
   "execution_count": 106,
   "id": "7b05a3de",
   "metadata": {},
   "outputs": [
    {
     "data": {
      "text/plain": [
       "123913600595.06837"
      ]
     },
     "execution_count": 106,
     "metadata": {},
     "output_type": "execute_result"
    }
   ],
   "source": [
    "kmeans.inertia_"
   ]
  },
  {
   "cell_type": "code",
   "execution_count": 107,
   "id": "b456a0e4",
   "metadata": {},
   "outputs": [],
   "source": [
    "y_pred = kmeans.predict(X_test)"
   ]
  },
  {
   "cell_type": "code",
   "execution_count": 108,
   "id": "3093e048",
   "metadata": {},
   "outputs": [
    {
     "name": "stdout",
     "output_type": "stream",
     "text": [
      "0.49876163409216845\n"
     ]
    }
   ],
   "source": [
    "print(homogeneity_score(y_test, y_pred))"
   ]
  },
  {
   "cell_type": "code",
   "execution_count": 109,
   "id": "e7f0847e",
   "metadata": {},
   "outputs": [
    {
     "name": "stdout",
     "output_type": "stream",
     "text": [
      "Accuracy: 0.011\n"
     ]
    }
   ],
   "source": [
    "from sklearn.metrics import accuracy_score\n",
    "\n",
    "acc = accuracy_score(y_train, labelpred)\n",
    "print('Accuracy: %.3f' % acc)"
   ]
  },
  {
   "cell_type": "markdown",
   "id": "681356d9",
   "metadata": {},
   "source": [
    "# Hard Clustering vs Soft Clustering\n",
    "Instead of assigning each instance to a single cluster, which is called hard clustering, it can be useful to give each instance a score per cluster, which is called soft clustering. "
   ]
  },
  {
   "cell_type": "markdown",
   "id": "4e3ff0a4",
   "metadata": {},
   "source": [
    "`kmeans.transform` Transforms X to a cluster-distance space.\n",
    "\n",
    "`kmeans.transform` <- Important to learn <a href=\"https://scikit-learn.org/stable/modules/generated/sklearn.cluster.KMeans.html#sklearn.cluster.KMeans.transform\">Documentation Link</a>"
   ]
  },
  {
   "cell_type": "code",
   "execution_count": 13,
   "id": "8ce6ebd7",
   "metadata": {},
   "outputs": [
    {
     "data": {
      "text/plain": [
       "array([[1833.59762914, 3241.17867176, 3483.62903025, ..., 2778.14122469,\n",
       "        2848.72641721, 2749.90343554],\n",
       "       [2205.54220106, 1788.20537288, 2102.94070011, ..., 2340.68040632,\n",
       "        1135.81627444, 3208.69661985],\n",
       "       [2706.70170562, 3597.59245592, 3484.99314509, ..., 2271.53666158,\n",
       "        3343.72104187, 1884.28590207],\n",
       "       ...,\n",
       "       [2831.28265477, 2979.82651792, 2921.98422809, ..., 2254.89135883,\n",
       "        2872.65942697, 2285.08420638],\n",
       "       [2009.86729265, 3047.69533014, 3181.56917383, ..., 2727.16946893,\n",
       "        2577.35448027, 3097.58176423],\n",
       "       [2094.32994589, 1799.18131203, 2774.22960594, ..., 2811.54510518,\n",
       "        2103.9915849 , 3440.84573969]])"
      ]
     },
     "execution_count": 13,
     "metadata": {},
     "output_type": "execute_result"
    }
   ],
   "source": [
    "kmeans.transform(X_train)"
   ]
  },
  {
   "cell_type": "markdown",
   "id": "bd70f96f",
   "metadata": {},
   "source": [
    "### K-Means Algorithm"
   ]
  },
  {
   "cell_type": "markdown",
   "id": "4cea0486",
   "metadata": {},
   "source": [
    "The K-Means algorithm is one of the fastest clustering algorithms, but also one of the simplest:\n",
    "* First initialize $k$ centroids randomly: $k$ distinct instances are chosen randomly from the dataset and the centroids are placed at their locations.\n",
    "* Repeat until convergence (i.e., until the centroids stop moving):\n",
    "    * Assign each instance to the closest centroid.\n",
    "    * Update the centroids to be the mean of the instances that are assigned to them."
   ]
  },
  {
   "cell_type": "markdown",
   "id": "4bce4bf9",
   "metadata": {},
   "source": [
    "The `KMeans` class applies an optimized algorithm by default. To get the original K-Means algorithm (for educational purposes only), you must set `init=\"random\"`, `n_init=1`and `algorithm=\"full\"`. These hyperparameters will be explained below."
   ]
  },
  {
   "cell_type": "markdown",
   "id": "1af25dee",
   "metadata": {},
   "source": [
    "Let's run the K-Means algorithm for 1, 2 and 3 iterations, to see how the centroids move around:"
   ]
  },
  {
   "cell_type": "code",
   "execution_count": 14,
   "id": "f896d297",
   "metadata": {},
   "outputs": [
    {
     "data": {
      "text/plain": [
       "KMeans(algorithm='full', init='random', max_iter=3, n_clusters=5, n_init=1,\n",
       "       random_state=1)"
      ]
     },
     "execution_count": 14,
     "metadata": {},
     "output_type": "execute_result"
    }
   ],
   "source": [
    "kmeans_iter1 = KMeans(n_clusters=5, init=\"random\", n_init=1,\n",
    "                     algorithm=\"full\", max_iter=1, random_state=1)\n",
    "kmeans_iter2 = KMeans(n_clusters=5, init=\"random\", n_init=1,\n",
    "                     algorithm=\"full\", max_iter=2, random_state=1)\n",
    "kmeans_iter3 = KMeans(n_clusters=5, init=\"random\", n_init=1,\n",
    "                     algorithm=\"full\", max_iter=3, random_state=1)\n",
    "kmeans_iter1.fit(X_train)\n",
    "kmeans_iter2.fit(X_train)\n",
    "kmeans_iter3.fit(X_train)"
   ]
  },
  {
   "cell_type": "code",
   "execution_count": 84,
   "id": "0f0fe8c6",
   "metadata": {},
   "outputs": [
    {
     "data": {
      "text/plain": [
       "184019582123.818"
      ]
     },
     "execution_count": 84,
     "metadata": {},
     "output_type": "execute_result"
    }
   ],
   "source": [
    "kmeans_iter1.inertia_"
   ]
  },
  {
   "cell_type": "code",
   "execution_count": 85,
   "id": "d6cbec48",
   "metadata": {},
   "outputs": [
    {
     "data": {
      "text/plain": [
       "179756934571.2874"
      ]
     },
     "execution_count": 85,
     "metadata": {},
     "output_type": "execute_result"
    }
   ],
   "source": [
    "kmeans_iter2.inertia_"
   ]
  },
  {
   "cell_type": "code",
   "execution_count": 86,
   "id": "c0c6d460",
   "metadata": {},
   "outputs": [
    {
     "data": {
      "text/plain": [
       "174954772443.16772"
      ]
     },
     "execution_count": 86,
     "metadata": {},
     "output_type": "execute_result"
    }
   ],
   "source": [
    "kmeans_iter3.inertia_"
   ]
  },
  {
   "cell_type": "markdown",
   "id": "8aaae6ee",
   "metadata": {},
   "source": [
    "### Inertia "
   ]
  },
  {
   "cell_type": "markdown",
   "id": "9d9ccd77",
   "metadata": {},
   "source": [
    "To select the best model, we will need a way to evaluate a K-Mean model's performance. Unfortunately, clustering is an unsupervised task, so we do not have the targets. But at least we can measure the distance between each instance and its centroid. This is the idea behind the _inertia_ metric:"
   ]
  },
  {
   "cell_type": "code",
   "execution_count": 16,
   "id": "9cb8ff83",
   "metadata": {},
   "outputs": [
    {
     "data": {
      "text/plain": [
       "123913600595.06837"
      ]
     },
     "execution_count": 16,
     "metadata": {},
     "output_type": "execute_result"
    }
   ],
   "source": [
    "kmeans.inertia_"
   ]
  },
  {
   "cell_type": "markdown",
   "id": "74998017",
   "metadata": {},
   "source": [
    "As you can easily verify, inertia is the sum of the squared distances between each training instance and its closest centroid:"
   ]
  },
  {
   "cell_type": "code",
   "execution_count": 17,
   "id": "0aad8771",
   "metadata": {},
   "outputs": [
    {
     "data": {
      "text/plain": [
       "123913600595.06718"
      ]
     },
     "execution_count": 17,
     "metadata": {},
     "output_type": "execute_result"
    }
   ],
   "source": [
    "X_dist = kmeans.transform(X_train)\n",
    "np.sum(X_dist[np.arange(len(X_dist)), kmeans.labels_]**2)"
   ]
  },
  {
   "cell_type": "markdown",
   "id": "39c14413",
   "metadata": {},
   "source": [
    "### Multiple Initializations"
   ]
  },
  {
   "cell_type": "markdown",
   "id": "cc3563bc",
   "metadata": {},
   "source": [
    "So one approach to solve the variability issue is to simply run the K-Means algorithm multiple times with different random initializations, and select the solution that minimizes the inertia. For example, here are the inertias of the two \"bad\" models shown in the previous figure:"
   ]
  },
  {
   "cell_type": "code",
   "execution_count": 19,
   "id": "519fed1d",
   "metadata": {},
   "outputs": [
    {
     "data": {
      "text/plain": [
       "KMeans(algorithm='full', init='random', n_clusters=5, n_init=1, random_state=64)"
      ]
     },
     "execution_count": 19,
     "metadata": {},
     "output_type": "execute_result"
    }
   ],
   "source": [
    "kmeans_rnd_init1 = KMeans(n_clusters=5, init=\"random\", n_init=1,\n",
    "                         algorithm=\"full\", random_state=44)\n",
    "kmeans_rnd_init2 = KMeans(n_clusters=5, init=\"random\", n_init=1,\n",
    "                         algorithm=\"full\", random_state=64)\n",
    "\n",
    "kmeans_rnd_init1.fit(X_train)\n",
    "kmeans_rnd_init2.fit(X_train)"
   ]
  },
  {
   "cell_type": "code",
   "execution_count": 20,
   "id": "c4b76d29",
   "metadata": {},
   "outputs": [
    {
     "data": {
      "text/plain": [
       "153169780725.82684"
      ]
     },
     "execution_count": 20,
     "metadata": {},
     "output_type": "execute_result"
    }
   ],
   "source": [
    "kmeans_rnd_init1.inertia_"
   ]
  },
  {
   "cell_type": "code",
   "execution_count": 21,
   "id": "271b59c9",
   "metadata": {},
   "outputs": [
    {
     "data": {
      "text/plain": [
       "152974722478.92603"
      ]
     },
     "execution_count": 21,
     "metadata": {},
     "output_type": "execute_result"
    }
   ],
   "source": [
    "kmeans_rnd_init2.inertia_"
   ]
  },
  {
   "cell_type": "markdown",
   "id": "04c77dae",
   "metadata": {},
   "source": [
    "As you can see, they have a higher inertia than the first \"good\" model we trained 123913600595.06837, which means they are probably worse."
   ]
  },
  {
   "cell_type": "markdown",
   "id": "ff687bbc",
   "metadata": {},
   "source": [
    "When you set the `n_init` hyperparameter, Scikit-Learn runs the original algorithm `n_init` times, and selects the solution that minimizes the inertia. By default, Scikit-Learn sets `n_init=10`."
   ]
  },
  {
   "cell_type": "code",
   "execution_count": 110,
   "id": "f355791a",
   "metadata": {},
   "outputs": [
    {
     "data": {
      "text/plain": [
       "KMeans(algorithm='full', init='random', n_clusters=10, random_state=11)"
      ]
     },
     "execution_count": 110,
     "metadata": {},
     "output_type": "execute_result"
    }
   ],
   "source": [
    "kmeans_rnd_10_inits = KMeans(n_clusters=10, init=\"random\", n_init=10,\n",
    "                              algorithm=\"full\", random_state=11)\n",
    "kmeans_rnd_10_inits.fit(X_train)"
   ]
  },
  {
   "cell_type": "code",
   "execution_count": 111,
   "id": "7d7ae950",
   "metadata": {},
   "outputs": [
    {
     "data": {
      "text/plain": [
       "123913634607.16289"
      ]
     },
     "execution_count": 111,
     "metadata": {},
     "output_type": "execute_result"
    }
   ],
   "source": [
    "kmeans_rnd_10_inits.inertia_"
   ]
  },
  {
   "cell_type": "markdown",
   "id": "1caf640e",
   "metadata": {},
   "source": [
    "As you can see, we end up with the initial model, which is certainly the optimal K-Means solution (at least in terms of inertia, and assuming $k=10$)."
   ]
  },
  {
   "cell_type": "markdown",
   "id": "be811b4e",
   "metadata": {},
   "source": [
    "### Finding the optimal number of clusters"
   ]
  },
  {
   "cell_type": "markdown",
   "id": "002782c4",
   "metadata": {},
   "source": [
    "What if the number of clusters was set to 3, 8, 10, 15, 20, 30, 40, 50, and 100"
   ]
  },
  {
   "cell_type": "code",
   "execution_count": 24,
   "id": "e8be3405",
   "metadata": {},
   "outputs": [],
   "source": [
    "kmeans_dict = {}\n",
    "ssd_dict = {} #Sum of squared distance\n",
    "num_clusters = [3, 8, 10, 15, 20, 30, 40, 50, 100]\n",
    "\n",
    "for i in num_clusters:\n",
    "    kmeans_dict[i] = KMeans(n_clusters=i, random_state=42)\n",
    "\n",
    "for k, v in kmeans_dict.items():\n",
    "    kmeans_dict[k] = v.fit(X_train)\n",
    "\n",
    "\n",
    "for k, v in kmeans_dict.items():\n",
    "    ssd_dict[k] = v.inertia_\n"
   ]
  },
  {
   "cell_type": "code",
   "execution_count": 25,
   "id": "9645a615",
   "metadata": {},
   "outputs": [
    {
     "name": "stdout",
     "output_type": "stream",
     "text": [
      "Inertia for kmeans n_clusters=3 is 179836700612.142\n",
      "Inertia for kmeans n_clusters=8 is 131872407195.94499\n",
      "Inertia for kmeans n_clusters=10 is 123913600595.06837\n",
      "Inertia for kmeans n_clusters=15 is 111191661691.78065\n",
      "Inertia for kmeans n_clusters=20 is 103885390772.46913\n",
      "Inertia for kmeans n_clusters=30 is 96312197247.72006\n",
      "Inertia for kmeans n_clusters=40 is 91242586597.38637\n",
      "Inertia for kmeans n_clusters=50 is 87986323767.76566\n",
      "Inertia for kmeans n_clusters=100 is 78649793094.36066\n"
     ]
    }
   ],
   "source": [
    "for k, v in ssd_dict.items():\n",
    "    print(\"Inertia for kmeans n_clusters=\" + str(k) + \" is \" + str(v))"
   ]
  },
  {
   "cell_type": "markdown",
   "id": "7c6c529c",
   "metadata": {},
   "source": [
    "Intertia is lower with more clusters. The more clusters there are, the closer each instance will be to its closest centroid, and therefore the lower the inertia will be. (The sum of squared distances is lower)."
   ]
  },
  {
   "cell_type": "code",
   "execution_count": 26,
   "id": "76db0c62",
   "metadata": {},
   "outputs": [],
   "source": [
    "y_pred_dict = {}\n",
    "\n",
    "for k, v in kmeans_dict.items():\n",
    "    y_pred_dict[k] = (v.fit_predict(X_train))"
   ]
  },
  {
   "cell_type": "code",
   "execution_count": 27,
   "id": "0654e6d9",
   "metadata": {},
   "outputs": [],
   "source": [
    "from sklearn.metrics import homogeneity_score"
   ]
  },
  {
   "cell_type": "code",
   "execution_count": 28,
   "id": "1fee8af2",
   "metadata": {
    "scrolled": true
   },
   "outputs": [
    {
     "name": "stdout",
     "output_type": "stream",
     "text": [
      "Homogeneity score for n_clusters=3 is 0.24660970169689944\n",
      "Homogeneity score for n_clusters=8 is 0.4732106848497327\n",
      "Homogeneity score for n_clusters=10 is 0.5012376251559566\n",
      "Homogeneity score for n_clusters=15 is 0.5983041448695275\n",
      "Homogeneity score for n_clusters=20 is 0.6109169456237296\n",
      "Homogeneity score for n_clusters=30 is 0.6317672786394706\n",
      "Homogeneity score for n_clusters=40 is 0.6565586359517213\n",
      "Homogeneity score for n_clusters=50 is 0.6687713236657383\n",
      "Homogeneity score for n_clusters=100 is 0.7110697693085035\n"
     ]
    }
   ],
   "source": [
    "count = 0\n",
    "\n",
    "for k, v in y_pred_dict.items(): \n",
    "    print(\"Homogeneity score for n_clusters=\" + str(num_clusters[count]) + \" is \" + str(homogeneity_score(y_train, v)))\n",
    "    count+=1"
   ]
  },
  {
   "cell_type": "markdown",
   "id": "95e76f3a",
   "metadata": {},
   "source": [
    "The more clusters there are, the better chance there is at having less cross over of classes, because classes are split into more clusters - homogeneity wants one class per cluster"
   ]
  },
  {
   "cell_type": "code",
   "execution_count": 29,
   "id": "0a047645",
   "metadata": {},
   "outputs": [],
   "source": [
    "from sklearn.cluster import KMeans\n",
    "from sklearn.neighbors import NearestNeighbors\n",
    "from sklearn.model_selection import train_test_split"
   ]
  },
  {
   "cell_type": "code",
   "execution_count": 30,
   "id": "4e8807d2",
   "metadata": {},
   "outputs": [],
   "source": [
    "sum_of_squared_distances = []\n",
    "for k, v in ssd_dict.items():\n",
    "    sum_of_squared_distances.append(v)"
   ]
  },
  {
   "cell_type": "code",
   "execution_count": 31,
   "id": "9370f3d5",
   "metadata": {},
   "outputs": [
    {
     "data": {
      "image/png": "[encoded data removed]",
      "text/plain": [
       "<Figure size 432x288 with 1 Axes>"
      ]
     },
     "metadata": {
      "needs_background": "light"
     },
     "output_type": "display_data"
    }
   ],
   "source": [
    "plt.plot(num_clusters, sum_of_squared_distances, 'bo-')\n",
    "plt.xlabel('Num. of clusters')\n",
    "plt.ylabel('Sum of squared distances')\n",
    "plt.title('Elbow Method For Optimal k')\n",
    "plt.show()"
   ]
  },
  {
   "cell_type": "markdown",
   "id": "2388c4dc",
   "metadata": {},
   "source": [
    "From this elbow plot we can see that the optimal number of clusters is somewhere between 10 and 25, so lets look at cluster totals 1, 10, 11, 12, 13, 14, 15, 16, 17, 18, 19, 20, 21, 22, 23, and 31"
   ]
  },
  {
   "cell_type": "code",
   "execution_count": 32,
   "id": "dd11719f",
   "metadata": {},
   "outputs": [],
   "source": [
    "kmeans_dict = {}\n",
    "ssd_dict = {} #Sum of squared distance\n",
    "num_clusters = [1, 10, 11, 12, 13, 14, 15, 16, 17, 18, 19, 20, 21, 22, 23, 31]\n",
    "\n",
    "for i in num_clusters:\n",
    "    kmeans_dict[i] = KMeans(n_clusters=i, random_state=42)\n",
    "\n",
    "for k, v in kmeans_dict.items():\n",
    "    kmeans_dict[k] = v.fit(X_train)\n",
    "\n",
    "\n",
    "for k, v in kmeans_dict.items():\n",
    "    ssd_dict[k] = v.inertia_"
   ]
  },
  {
   "cell_type": "code",
   "execution_count": 33,
   "id": "b221408b",
   "metadata": {},
   "outputs": [],
   "source": [
    "sum_of_squared_distances = []\n",
    "for k, v in ssd_dict.items():\n",
    "    sum_of_squared_distances.append(v)"
   ]
  },
  {
   "cell_type": "code",
   "execution_count": 34,
   "id": "6f033ebc",
   "metadata": {},
   "outputs": [
    {
     "data": {
      "image/png": "[encoded data removed]",
      "text/plain": [
       "<Figure size 432x288 with 1 Axes>"
      ]
     },
     "metadata": {
      "needs_background": "light"
     },
     "output_type": "display_data"
    }
   ],
   "source": [
    "plt.plot(num_clusters, sum_of_squared_distances, 'bo-')\n",
    "plt.xlabel('Num. of clusters')\n",
    "plt.ylabel('Sum of squared distances')\n",
    "plt.title('Elbow Method For Optimal k')\n",
    "plt.show()"
   ]
  },
  {
   "cell_type": "markdown",
   "id": "9d57a3b3",
   "metadata": {},
   "source": [
    "This didn't help too much, the initial thought is that 10 is the optimal because its a hard elbow, but if 10 wasn't a cluster argument, 11 would have been the initial thought. Cluster numbers 10 to 15 seem to be pretty optimal."
   ]
  },
  {
   "cell_type": "markdown",
   "id": "f342a1bb",
   "metadata": {},
   "source": [
    "# Gaussian Mixture"
   ]
  },
  {
   "cell_type": "code",
   "execution_count": 48,
   "id": "ec4d5554",
   "metadata": {},
   "outputs": [
    {
     "data": {
      "text/plain": [
       "array([[1.45305800e-03, 8.34162928e-03, 5.53776550e-02, ...,\n",
       "        2.32268630e+00, 3.35360396e-01, 9.84850424e-03],\n",
       "       [0.00000000e+00, 2.58352716e-03, 2.71489294e-03, ...,\n",
       "        3.45404446e+00, 1.70197516e+00, 1.68542306e-01]])"
      ]
     },
     "execution_count": 48,
     "metadata": {},
     "output_type": "execute_result"
    }
   ],
   "source": [
    "from sklearn.mixture import GaussianMixture\n",
    "\n",
    "gm = GaussianMixture(n_components=2, random_state=0).fit(X_train)\n",
    "gm.means_"
   ]
  },
  {
   "cell_type": "code",
   "execution_count": 49,
   "id": "3820e467",
   "metadata": {},
   "outputs": [
    {
     "data": {
      "text/plain": [
       "array([1, 1, 0, ..., 0, 1, 1], dtype=int64)"
      ]
     },
     "execution_count": 49,
     "metadata": {},
     "output_type": "execute_result"
    }
   ],
   "source": [
    "gm.predict(X_train)"
   ]
  },
  {
   "cell_type": "code",
   "execution_count": 50,
   "id": "6255f89c",
   "metadata": {},
   "outputs": [
    {
     "name": "stdout",
     "output_type": "stream",
     "text": [
      "0.23569132598991122\n"
     ]
    }
   ],
   "source": [
    "y_pred = gm.predict(X_train)\n",
    "print(homogeneity_score(y_train, y_pred))"
   ]
  },
  {
   "cell_type": "markdown",
   "id": "5fe727aa",
   "metadata": {},
   "source": [
    "A low homogeneity score because i'v only allowed for two 'classes'"
   ]
  },
  {
   "cell_type": "code",
   "execution_count": 51,
   "id": "8d925927",
   "metadata": {},
   "outputs": [
    {
     "data": {
      "text/plain": [
       "array([[0.00000000e+00, 0.00000000e+00, 0.00000000e+00, ...,\n",
       "        0.00000000e+00, 0.00000000e+00, 0.00000000e+00],\n",
       "       [0.00000000e+00, 0.00000000e+00, 0.00000000e+00, ...,\n",
       "        1.52833018e+00, 0.00000000e+00, 0.00000000e+00],\n",
       "       [2.28440891e-03, 2.45573958e-02, 9.70873786e-02, ...,\n",
       "        1.33529412e+01, 6.04397487e+00, 7.98972016e-01],\n",
       "       ...,\n",
       "       [2.88065844e-02, 3.08641975e-02, 1.44032922e-01, ...,\n",
       "        1.94938272e+01, 8.68106996e+00, 4.60905350e-01],\n",
       "       [0.00000000e+00, 4.91159136e-04, 2.75049116e-02, ...,\n",
       "        2.95186640e-01, 2.15618861e-01, 6.58153242e-02],\n",
       "       [0.00000000e+00, 8.20170109e-02, 4.80558931e-01, ...,\n",
       "        9.79100851e+00, 2.33718104e+00, 2.66707169e-01]])"
      ]
     },
     "execution_count": 51,
     "metadata": {},
     "output_type": "execute_result"
    }
   ],
   "source": [
    "from sklearn.mixture import GaussianMixture\n",
    "\n",
    "gm = GaussianMixture(n_components=10, random_state=0).fit(X_train)\n",
    "gm.means_"
   ]
  },
  {
   "cell_type": "code",
   "execution_count": 52,
   "id": "f0ab4bcd",
   "metadata": {},
   "outputs": [
    {
     "data": {
      "text/plain": [
       "array([8, 5, 1, ..., 1, 2, 5], dtype=int64)"
      ]
     },
     "execution_count": 52,
     "metadata": {},
     "output_type": "execute_result"
    }
   ],
   "source": [
    "gm.predict(X_train)"
   ]
  },
  {
   "cell_type": "code",
   "execution_count": 53,
   "id": "17937a5e",
   "metadata": {},
   "outputs": [
    {
     "name": "stdout",
     "output_type": "stream",
     "text": [
      "0.46218185165346665\n"
     ]
    }
   ],
   "source": [
    "y_pred = gm.predict(X_train)\n",
    "print(homogeneity_score(y_train, y_pred))"
   ]
  },
  {
   "cell_type": "markdown",
   "id": "690e0246",
   "metadata": {},
   "source": [
    "With 10 clusters the homogeneity improves"
   ]
  },
  {
   "cell_type": "markdown",
   "id": "94ba7266",
   "metadata": {},
   "source": [
    "# Affinity Propagation"
   ]
  },
  {
   "cell_type": "code",
   "execution_count": 38,
   "id": "8222e440",
   "metadata": {},
   "outputs": [],
   "source": [
    "X = X_train[:1000]"
   ]
  },
  {
   "cell_type": "code",
   "execution_count": 39,
   "id": "3f533f7c",
   "metadata": {},
   "outputs": [],
   "source": [
    "from sklearn.cluster import AffinityPropagation"
   ]
  },
  {
   "cell_type": "code",
   "execution_count": 40,
   "id": "10cf142b",
   "metadata": {},
   "outputs": [
    {
     "data": {
      "text/plain": [
       "AffinityPropagation(random_state=42)"
      ]
     },
     "execution_count": 40,
     "metadata": {},
     "output_type": "execute_result"
    }
   ],
   "source": [
    "clustering = AffinityPropagation(random_state=42).fit(X)\n",
    "clustering"
   ]
  },
  {
   "cell_type": "code",
   "execution_count": 41,
   "id": "fdd2ebcb",
   "metadata": {},
   "outputs": [
    {
     "data": {
      "text/plain": [
       "array([12, 20,  0,  3, 31, 11, 37, 32, 33, 34, 10, 32,  7, 10, 39, 42, 27,\n",
       "       31, 19, 21, 18, 15, 17, 36, 19, 28,  0, 11, 41, 49,  7, 14, 15, 42,\n",
       "       37, 23, 32, 28, 24, 37,  0, 42, 16, 44, 44, 15, 46,  6, 41, 46, 23,\n",
       "       39, 24,  0, 48, 28, 23, 34,  8,  0,  7, 20, 17, 19,  1, 34,  1, 45,\n",
       "        4, 49,  2, 43, 48, 17, 11, 13, 37,  0, 18, 15,  9,  2, 33, 34, 48,\n",
       "        8,  6,  9, 18, 11, 10, 41,  3, 48, 41, 21, 41,  4,  2,  9, 12, 32,\n",
       "       44, 32, 40,  3, 30, 32, 39, 48, 10, 41, 24,  5, 16,  6, 17, 16,  9,\n",
       "        9, 46, 36, 44, 11, 40, 10, 21, 15,  7, 41, 41, 42, 40,  8, 41, 24,\n",
       "        8, 47, 32, 47, 44, 39, 21, 42,  9,  8, 32, 41, 23, 31,  6,  2, 17,\n",
       "       34,  4,  3,  6, 32, 39, 47, 22,  7, 21,  6,  3, 29, 23, 15,  6, 32,\n",
       "       10, 23, 24,  8, 44,  0, 47, 22, 17, 27,  2, 21, 42, 14, 38, 31, 32,\n",
       "       11, 19, 46, 18, 48, 41,  6,  7,  6, 32, 18, 17, 32, 37, 27, 32, 33,\n",
       "       41, 48, 33, 41,  8, 23, 11, 23, 24, 49, 46, 41, 40, 12,  9,  5, 21,\n",
       "       14, 10, 19, 37, 46, 38, 20, 36, 30,  4, 46, 28, 11, 25, 15, 14, 49,\n",
       "       37, 23,  1, 49, 27, 10, 32, 15, 41,  2, 37, 13, 33, 46, 32, 23,  9,\n",
       "       18, 23, 19, 21, 31, 14, 20, 47, 11, 20, 45, 28, 33, 40,  8, 47,  0,\n",
       "       23,  8, 41, 33, 32, 41, 32, 19, 48,  4, 33, 39, 47, 42, 31, 47, 15,\n",
       "        1, 30, 17, 41, 46, 32, 12, 33, 32,  7, 33, 17, 38, 22, 45, 37, 39,\n",
       "       42,  9,  0, 18, 48, 27, 12, 24, 41, 21, 10,  9, 23, 27,  8, 19, 41,\n",
       "       19, 46, 44, 32,  0, 15,  1, 46, 16, 25, 46, 13,  6, 32, 24, 27, 21,\n",
       "       14, 46, 37, 33, 39, 46, 36, 46, 44, 43, 38, 18, 32,  2, 17, 35, 33,\n",
       "       10, 41, 33, 24, 41, 38, 15, 36, 35, 40, 46,  2,  7, 37, 48, 48,  9,\n",
       "       32, 42, 19,  7, 33,  6, 41, 40,  1, 30, 27, 40, 14, 16, 42, 17,  1,\n",
       "       18, 19, 41,  8, 42, 41, 16, 19,  1, 44, 10, 36, 41, 18, 19, 36,  9,\n",
       "       36, 31, 19,  1, 39, 17, 20, 14, 19,  3,  8, 21, 47, 18, 43,  0, 22,\n",
       "       16,  3, 39,  9,  6, 41, 17, 43, 23,  1, 24, 46, 39, 23, 42,  9, 14,\n",
       "       42, 32,  2, 23, 32, 25, 41, 32,  2, 33, 38, 10, 40,  2, 36, 10, 10,\n",
       "       23, 24, 33, 17, 42, 31, 41, 14, 31, 20, 22, 25, 41,  3,  1,  3, 44,\n",
       "       23,  4,  9, 19, 32, 21, 10, 44, 37,  2, 10, 32, 42, 47, 35, 16, 15,\n",
       "       14, 32, 26, 19, 18,  9, 48, 12, 29, 49, 11,  0, 21,  3,  2, 39,  7,\n",
       "       48, 37,  8, 24, 20, 27, 41, 48, 15, 16, 32, 25, 48,  8,  7, 24, 37,\n",
       "        1, 28, 10, 11, 49, 28, 32, 15, 41, 18,  8, 21, 12, 29, 41, 41, 25,\n",
       "       41, 32, 37, 37,  4, 31, 48, 24,  6, 33, 41,  4, 11, 40, 45, 44, 30,\n",
       "       25, 15, 21, 42, 35,  7, 28, 18,  2, 39, 31, 33, 32, 47,  4,  9,  7,\n",
       "       21, 42, 46, 28, 33, 42, 43, 23, 18, 42, 37, 41, 20, 32,  4, 41,  1,\n",
       "       37, 11, 16, 17, 18, 10, 41,  0, 20, 35,  9, 37, 27, 33,  2, 17, 23,\n",
       "       42, 34, 32, 23,  1, 32, 14, 22, 24, 18,  6,  1, 35, 32,  3, 12, 41,\n",
       "       14, 33, 27, 42, 49, 18, 41, 46, 41, 48, 42, 47,  2, 18, 18, 41, 37,\n",
       "       28, 36, 12,  2, 41, 33, 46, 14, 37,  1,  8, 48, 25, 10, 33, 17, 14,\n",
       "        3, 19, 44, 20, 18, 37, 32, 25,  0, 32, 27, 23, 15, 38, 42,  7, 41,\n",
       "        7, 19, 41, 36, 36, 45, 36,  3, 25, 11, 34, 44, 32, 24,  1, 16,  0,\n",
       "        9, 41, 21, 48, 49, 22, 28, 39, 44, 48, 10, 23, 39,  4, 44, 37, 28,\n",
       "       42, 28, 11,  1,  7, 18, 33, 47, 47, 28, 21, 35, 20,  4,  4, 41, 14,\n",
       "       37, 17, 46, 43,  6, 49, 10, 46, 34,  0, 19, 19,  3, 39, 32, 27, 41,\n",
       "       16, 48, 48, 44, 32,  8, 36, 32,  5, 25, 37, 14, 45,  6, 34, 37,  0,\n",
       "       29, 17,  6, 49, 18, 47,  5, 28, 49, 40, 25, 31, 33, 31, 33,  3,  0,\n",
       "       41, 41,  9, 23, 41, 46, 18, 11, 14,  9, 41, 48, 40, 12,  9, 21, 49,\n",
       "       33, 24, 34, 42,  3, 23, 43, 15,  9,  3,  7, 42, 27, 21, 14, 11, 33,\n",
       "       15, 35, 29, 43, 32, 26, 20, 39, 41, 18, 18,  0, 35,  9, 24,  9, 15,\n",
       "       39, 11, 33, 38, 28, 14, 46, 14,  8, 44,  5,  5,  6, 41, 16, 42, 42,\n",
       "       19, 15, 36, 18, 32, 25, 44, 42, 31,  3, 45, 17, 33, 48, 46, 19, 32,\n",
       "       41, 28, 48, 18, 17,  3, 28, 20,  9, 27,  0, 24, 45, 42,  6, 20, 44,\n",
       "       42, 12, 23, 46, 39, 45, 48,  0, 36, 21,  1, 43,  5, 33, 33,  8,  3,\n",
       "       45, 47, 10, 48, 20, 20, 41, 15, 33, 44, 15,  3,  2, 28,  6, 15, 14,\n",
       "        7,  2,  7, 28, 15, 19, 12, 39, 33, 40, 46, 19,  3, 32, 19,  1, 14,\n",
       "       24, 11, 35, 23, 44, 47, 49, 28, 32, 23, 19, 15,  1, 25, 37, 34,  6,\n",
       "       33, 41,  4, 28, 20, 28, 42, 28, 39, 23, 32, 39, 44,  3, 48,  7,  5,\n",
       "       41, 32,  2, 49,  2, 11, 10,  3, 31, 41, 18, 19, 32,  2, 21, 42, 19,\n",
       "       46, 32, 47,  1, 42, 49, 41, 19,  2, 12,  5,  0,  4, 47],\n",
       "      dtype=int64)"
      ]
     },
     "execution_count": 41,
     "metadata": {},
     "output_type": "execute_result"
    }
   ],
   "source": [
    "clustering.labels_"
   ]
  },
  {
   "cell_type": "code",
   "execution_count": 42,
   "id": "463bb5ac",
   "metadata": {},
   "outputs": [
    {
     "name": "stdout",
     "output_type": "stream",
     "text": [
      "0.6658886359078774\n"
     ]
    }
   ],
   "source": [
    "y_pred = clustering.predict(X)\n",
    "print(homogeneity_score(y_train[:1000], y_pred))"
   ]
  },
  {
   "cell_type": "code",
   "execution_count": 43,
   "id": "da2a9a0e",
   "metadata": {},
   "outputs": [
    {
     "data": {
      "text/plain": [
       "array([[0, 0, 0, ..., 0, 0, 0],\n",
       "       [0, 0, 0, ..., 0, 0, 0],\n",
       "       [0, 0, 0, ..., 6, 0, 0],\n",
       "       ...,\n",
       "       [0, 0, 0, ..., 0, 0, 0],\n",
       "       [0, 0, 0, ..., 0, 0, 0],\n",
       "       [0, 0, 0, ..., 0, 0, 0]], dtype=int64)"
      ]
     },
     "execution_count": 43,
     "metadata": {},
     "output_type": "execute_result"
    }
   ],
   "source": [
    "clustering.cluster_centers_"
   ]
  },
  {
   "cell_type": "markdown",
   "id": "790f1186",
   "metadata": {},
   "source": [
    "# Mean Shift"
   ]
  },
  {
   "cell_type": "code",
   "execution_count": null,
   "id": "0f4d3bd4",
   "metadata": {},
   "outputs": [],
   "source": [
    "from sklearn.cluster import MeanShift\n",
    "\n",
    "clustering = MeanShift(bandwidth=2).fit(X)\n",
    "clustering.labels_"
   ]
  },
  {
   "cell_type": "code",
   "execution_count": 45,
   "id": "efcfd4e1",
   "metadata": {},
   "outputs": [],
   "source": [
    "y_pred = clustering.predict(X)"
   ]
  },
  {
   "cell_type": "code",
   "execution_count": 46,
   "id": "9cbc18ce",
   "metadata": {},
   "outputs": [
    {
     "name": "stdout",
     "output_type": "stream",
     "text": [
      "0.9999999999999998\n"
     ]
    }
   ],
   "source": [
    "print(homogeneity_score(y_train[:1000], y_pred))"
   ]
  },
  {
   "cell_type": "markdown",
   "id": "5692f50e",
   "metadata": {},
   "source": [
    "Almost homogeneous, this is because the mean shift has classified each cluster as a different label. So better homogeneous performance from mean shift, but it's obviosuly not true to labels, and the result is insignificantly pointless."
   ]
  },
  {
   "cell_type": "markdown",
   "id": "f39add8c",
   "metadata": {},
   "source": [
    "# Hierarchical | Agglomerative Clustering "
   ]
  },
  {
   "cell_type": "code",
   "execution_count": 47,
   "id": "8f2c2c74",
   "metadata": {},
   "outputs": [
    {
     "data": {
      "text/plain": [
       "AgglomerativeClustering()"
      ]
     },
     "execution_count": 47,
     "metadata": {},
     "output_type": "execute_result"
    }
   ],
   "source": [
    "from sklearn.cluster import AgglomerativeClustering\n",
    "\n",
    "clustering = AgglomerativeClustering().fit(X)\n",
    "clustering"
   ]
  },
  {
   "cell_type": "code",
   "execution_count": 48,
   "id": "1dab77fa",
   "metadata": {},
   "outputs": [],
   "source": [
    "y_pred = clustering.labels_"
   ]
  },
  {
   "cell_type": "code",
   "execution_count": 79,
   "id": "575fd6f6",
   "metadata": {},
   "outputs": [
    {
     "name": "stdout",
     "output_type": "stream",
     "text": [
      "COUNT\n",
      "Zero: 2339\n",
      "One: 6511\n",
      "Two: 7626\n",
      "Three: 9659\n",
      "Four: 2588\n",
      "Five: 9062\n",
      "Six: 2980\n",
      "Seven: 7547\n",
      "Eight: 4306\n",
      "Nine: 7382\n",
      "Ten: 10\n",
      "Other: 0\n"
     ]
    }
   ],
   "source": [
    "zero = 0\n",
    "one = 0\n",
    "two = 0\n",
    "three = 0\n",
    "four = 0\n",
    "five = 0\n",
    "six = 0\n",
    "seven = 0\n",
    "eight = 0\n",
    "nine = 0\n",
    "ten = 10\n",
    "other = 0\n",
    "\n",
    "for i in y_pred:\n",
    "    if i == 0:\n",
    "        zero+=1\n",
    "    elif i == 1:\n",
    "        one+=1\n",
    "    elif i == 2:\n",
    "        two+=1\n",
    "    elif i == 3:\n",
    "        three+=1\n",
    "    elif i == 4:\n",
    "        four+=1\n",
    "    elif i == 5:\n",
    "        five+=1\n",
    "    elif i == 6:\n",
    "        six+=1\n",
    "    elif i == 7:\n",
    "        seven+=1\n",
    "    elif i == 8:\n",
    "        eight+=1\n",
    "    elif i == 9:\n",
    "        nine+=1\n",
    "    elif i == 10:\n",
    "        ten+=1\n",
    "    else:\n",
    "        other+=1\n",
    "\n",
    "print(\"COUNT\")\n",
    "print(\"Zero: \" + str(zero))\n",
    "print(\"One: \" + str(one))\n",
    "print(\"Two: \" + str(two))\n",
    "print(\"Three: \" + str(three))\n",
    "print(\"Four: \" + str(four))\n",
    "print(\"Five: \" + str(five)) \n",
    "print(\"Six: \" + str(six))\n",
    "print(\"Seven: \" + str(seven)) \n",
    "print(\"Eight: \" + str(eight)) \n",
    "print(\"Nine: \" + str(nine))\n",
    "print(\"Ten: \" + str(ten))\n",
    "print(\"Other: \" + str(other))"
   ]
  },
  {
   "cell_type": "code",
   "execution_count": 49,
   "id": "1254720f",
   "metadata": {},
   "outputs": [
    {
     "name": "stdout",
     "output_type": "stream",
     "text": [
      "0.13807696066021058\n"
     ]
    }
   ],
   "source": [
    "print(homogeneity_score(y_train[:1000], y_pred))"
   ]
  },
  {
   "cell_type": "markdown",
   "id": "d65b7d77",
   "metadata": {},
   "source": [
    "# Birch"
   ]
  },
  {
   "cell_type": "code",
   "execution_count": 80,
   "id": "bb299b5d",
   "metadata": {},
   "outputs": [
    {
     "data": {
      "text/plain": [
       "Birch(n_clusters=None)"
      ]
     },
     "execution_count": 80,
     "metadata": {},
     "output_type": "execute_result"
    }
   ],
   "source": [
    "from sklearn.cluster import Birch\n",
    "brc = Birch(n_clusters=None)\n",
    "brc.fit(X)"
   ]
  },
  {
   "cell_type": "code",
   "execution_count": 81,
   "id": "00dd3104",
   "metadata": {},
   "outputs": [],
   "source": [
    "y_pred = brc.predict(X)"
   ]
  },
  {
   "cell_type": "code",
   "execution_count": 82,
   "id": "1791d6a2",
   "metadata": {},
   "outputs": [
    {
     "name": "stdout",
     "output_type": "stream",
     "text": [
      "1.0\n"
     ]
    }
   ],
   "source": [
    "print(homogeneity_score(y_train[:1000], y_pred))"
   ]
  },
  {
   "cell_type": "markdown",
   "id": "18e4b777",
   "metadata": {},
   "source": [
    "Homogeneous because there are 0 clusters. Every single image is given a different label."
   ]
  },
  {
   "cell_type": "code",
   "execution_count": 83,
   "id": "c7981dc3",
   "metadata": {},
   "outputs": [
    {
     "data": {
      "text/plain": [
       "array([963,  11, 531, 879, 781, 915, 827, 327, 678,   0, 861, 294, 365,\n",
       "       523, 652, 267, 964, 828, 759, 424,   1, 113, 760, 965, 829, 916,\n",
       "       532, 699, 158, 782, 357, 880, 114, 268, 830,  89, 201, 644, 581,\n",
       "       761, 533, 269, 917, 382, 383, 115, 653, 159, 295, 220,  12, 221,\n",
       "       645, 534, 490, 600,  13, 737, 384, 535,  48,  14, 700, 831,  49,\n",
       "       738,   2, 918,  90, 783, 919, 920, 471, 832, 601,  62, 762, 536,\n",
       "       222,  15, 784, 654, 602,   3, 472, 223, 116, 425, 202, 537, 921,\n",
       "       380, 881, 473, 160, 385, 203, 117, 922, 426, 966, 328, 701, 329,\n",
       "       427, 833, 967,  16, 224, 474, 582, 161, 646, 475, 923,  17, 702,\n",
       "       924, 428, 429, 225, 925, 270, 703, 785, 834, 296,  18,   4, 162,\n",
       "       163, 204, 430, 835,   5, 538, 431, 491, 297, 492, 882, 226, 386,\n",
       "       271, 786, 387, 298,   6,  19, 787, 118, 599, 704, 388,  63, 883,\n",
       "       119,   7, 227, 493, 366, 330, 205, 120, 884,  91,  20, 121, 122,\n",
       "       331, 739, 926, 539, 705, 389, 540, 494, 927, 836,  92, 655, 390,\n",
       "       272, 885, 968, 788, 332, 603, 789, 706, 228, 432, 164, 123, 333,\n",
       "       124, 334, 229, 837, 206, 790,  93, 335, 583, 299, 433, 584, 165,\n",
       "       391, 928, 656,  21, 647, 495, 657, 166, 434, 969, 435, 476, 436,\n",
       "       791, 862, 763, 792, 658, 970,  64, 585, 971, 381, 230, 541, 604,\n",
       "       929, 125, 838, 496, 793,  22,  23, 477,  94, 839,  24, 126, 127,\n",
       "       605, 840, 972, 542, 659, 336,  25, 497, 231, 930, 764, 437, 841,\n",
       "       842,  95, 498, 606,  96, 931, 679, 607, 438, 392, 439, 543,  26,\n",
       "       393, 167, 544, 337, 168, 300, 478, 440, 128, 608, 707, 499, 273,\n",
       "       794, 441, 129,  50, 932, 708, 169, 232, 301, 973, 609, 338, 367,\n",
       "       610, 795, 974, 933, 934, 843, 935, 274, 500, 545, 233, 501,  97,\n",
       "       975, 586, 170, 302, 863, 502,  27,  98, 394, 796, 171, 765, 709,\n",
       "       395, 303, 546,   8, 339, 660, 936, 740, 710, 976, 130, 304, 611,\n",
       "       131, 396, 886, 661, 844, 547, 711, 662, 612, 663, 712, 937, 977,\n",
       "       234, 305, 587, 713, 938, 613, 524, 172, 548, 614, 340, 978, 132,\n",
       "       664, 939, 442, 665, 666, 358, 845, 443, 503, 444, 359, 275, 797,\n",
       "       368, 615, 133, 134, 445,  51, 940,  65, 446, 846, 941, 276, 714,\n",
       "        52, 235, 766,  28, 715, 236, 173, 942, 767,  53, 887, 716, 680,\n",
       "       341, 207, 397, 616, 447, 681, 847, 798,  29, 717, 718,  66, 888,\n",
       "       768, 889, 398, 399, 448, 237, 943, 549, 369, 944, 864, 238, 799,\n",
       "       174, 175, 719, 979,  30,  31, 550, 239, 240,  32, 277, 400, 890,\n",
       "       208, 342, 588, 945, 343, 741, 176, 344, 980, 617, 981, 865, 449,\n",
       "       589, 682, 891, 866,  33, 590, 618, 525, 278, 800, 345, 892, 801,\n",
       "        67, 370, 742, 199, 867,  34, 893, 401,  99, 200, 450, 802, 346,\n",
       "       402, 720, 403, 848, 619, 868, 306, 279, 504, 371, 946, 135, 769,\n",
       "       209, 372, 770, 241, 803, 451, 982, 983, 505, 648, 551, 404, 894,\n",
       "       591, 721,  54, 405, 804, 406, 620,  68, 100, 177, 407,  35, 947,\n",
       "       307, 743, 506, 408,  36, 592, 771,  37, 552, 869, 621, 507, 553,\n",
       "       308, 136, 178, 242, 409, 309, 984, 101, 179, 137, 744, 180, 310,\n",
       "       805, 806,  38, 807, 508, 622, 181, 623, 182, 102, 722, 452, 948,\n",
       "       410, 985, 949,  39, 453, 210, 950, 360, 649, 243, 593, 723, 808,\n",
       "       554, 311, 509, 986, 809,  55, 411, 211, 624, 555, 556, 280, 951,\n",
       "       952, 244, 212, 772, 183,  40, 312,  41, 184,  56, 810, 625, 953,\n",
       "       526, 245, 870, 185, 557,  69,  70, 811, 812, 103, 626, 683, 724,\n",
       "       954, 281, 745, 282,  71,  57, 313, 895, 373, 684, 246, 104,  42,\n",
       "       955, 314, 896, 987, 186, 897, 627, 105, 283, 510, 247, 187, 725,\n",
       "       315, 454, 284, 511, 685, 248, 249, 188, 849, 628, 686, 988, 687,\n",
       "       189, 629, 667, 813, 850,  43, 412, 479, 746, 871, 688, 726, 898,\n",
       "       899, 773, 413,  72, 213, 851, 316, 747, 558, 317,  73,  44, 138,\n",
       "       989, 285,  58, 190, 361, 774, 191, 689, 690, 374, 668, 900, 748,\n",
       "       630, 749, 286, 287, 631, 347, 956, 559, 814, 192, 414, 455, 512,\n",
       "       375, 560, 727, 728, 456, 872,  74, 729, 139, 901, 852, 632, 214,\n",
       "       561, 633, 250,  59, 251, 562, 457, 513, 563, 318, 957,  75, 669,\n",
       "       990, 193, 902, 853, 730, 670, 991, 106, 480, 873, 252, 750, 564,\n",
       "       854, 775, 874, 253, 348, 107, 319,  76, 458, 481, 415, 320, 416,\n",
       "       691, 349, 417, 751, 855, 903, 376, 140, 752, 776, 565, 992, 856,\n",
       "       141, 514, 254, 459, 418, 650, 515, 460, 753, 815, 692, 816, 634,\n",
       "       875, 566, 194, 142, 817,  77, 195, 671, 255, 635, 876, 461, 321,\n",
       "       462, 463, 993, 818, 419, 516, 636, 637, 754, 288, 904,  78, 994,\n",
       "       143, 464, 905, 350, 256, 108,   9, 906, 651, 693, 144,  79, 109,\n",
       "       995, 322, 377,  80, 257, 145, 258, 259, 567, 958, 819, 694, 465,\n",
       "       351, 260, 527, 695, 996, 528, 857, 672, 858, 731, 289, 482, 483,\n",
       "       146, 147,  81, 290, 261, 777, 352, 696, 262, 323, 755, 420, 324,\n",
       "       859, 907, 959, 732, 638, 484, 673, 820, 215, 196, 568, 485, 263,\n",
       "       733, 908, 569,  82, 821, 110, 570, 571, 960, 421, 148,  83, 422,\n",
       "       291, 997,  60, 674, 264, 378, 486, 529, 594,  10, 353, 756, 487,\n",
       "       639, 572, 423, 909, 961, 517, 595, 518,  84,  85, 197, 149, 697,\n",
       "       910, 150, 911, 596, 573, 111, 151, 912, 379, 574, 362, 640, 152,\n",
       "       822, 998, 734, 575, 466, 675, 778, 913, 325, 823,  45, 877, 641,\n",
       "       530, 962,  46, 292, 467, 519, 576, 326,  86, 779, 153,  47, 757,\n",
       "       780, 758, 154, 577, 198, 112, 578,  87, 579, 216, 642, 265,  88,\n",
       "       217, 735, 266, 914, 468, 363, 488, 155, 354, 643, 520, 597, 676,\n",
       "       736, 878, 860, 355, 364, 824, 218, 598, 469, 293, 825, 677, 356,\n",
       "       470,  61, 219, 521, 156, 826, 698, 999, 489, 580, 157, 522])"
      ]
     },
     "execution_count": 83,
     "metadata": {},
     "output_type": "execute_result"
    }
   ],
   "source": [
    "y_pred"
   ]
  },
  {
   "cell_type": "markdown",
   "id": "2815ef9e",
   "metadata": {},
   "source": [
    "* The advantage here is that it is unsupervised learning, clustering finds similarities in the images, which is almost like classifying without training which is impressive. This also saves time as training can take time.\n",
    "* Clustering with other algorithms that weren't K-means was problematic due to the amount of memory needed to do the computations, so I had to only select 1000 images.\n",
    "* Finding the optimal K value by a graph isn't the most precise method of finding an optimal value, it was quite hard to determine where the actual perfect elbow point was.\n",
    "* It shouldnt be compared to naive bayes because naive bayes gets the chance to train, and therefore will perform more accurate classifying in comparison to the clustering algorithms just finding similarities in images and grouping them together.\n",
    "* Naive Bayes classified an image as either something or not something, which is a different process to what takes place here where images are grouped together, K-means is not returning true or false."
   ]
  },
  {
   "cell_type": "markdown",
   "id": "b0cd47a7",
   "metadata": {},
   "source": [
    "# Categorical Naive Bayes"
   ]
  },
  {
   "cell_type": "code",
   "execution_count": 39,
   "id": "9f9668fc",
   "metadata": {},
   "outputs": [],
   "source": [
    "y_train_0 = (y_train == 0)\n",
    "\n",
    "import numpy as np\n",
    "\n",
    "rng = np.random.RandomState(1)\n",
    "\n",
    "X = X_train\n",
    "Y = y_train_0\n",
    "\n",
    "from sklearn.naive_bayes import CategoricalNB\n",
    "clf = CategoricalNB()\n",
    "clf.fit(X, Y)\n",
    "CategoricalNB()\n",
    "CategoricalPredictions = clf.predict(X)"
   ]
  },
  {
   "cell_type": "code",
   "execution_count": 40,
   "id": "32c888fc",
   "metadata": {},
   "outputs": [
    {
     "name": "stdout",
     "output_type": "stream",
     "text": [
      "-----  -----\n",
      "False  46815\n",
      "True   13185\n",
      "-----  -----\n"
     ]
    }
   ],
   "source": [
    "from tabulate import tabulate\n",
    "\n",
    "countFalse = 0\n",
    "countTrue = 0\n",
    "\n",
    "for i in CategoricalPredictions:\n",
    "    if i == False:\n",
    "        countFalse += 1\n",
    "    elif i == True:\n",
    "        countTrue += 1\n",
    "        \n",
    "print(tabulate([['False', countFalse],['True', countTrue]]))"
   ]
  },
  {
   "cell_type": "code",
   "execution_count": 41,
   "id": "faa44796",
   "metadata": {},
   "outputs": [
    {
     "name": "stdout",
     "output_type": "stream",
     "text": [
      "0.8706833333333334\n",
      "52241\n"
     ]
    }
   ],
   "source": [
    "from sklearn.metrics import accuracy_score\n",
    "y_pred = CategoricalPredictions\n",
    "y_true = y_train_0\n",
    "print(accuracy_score(y_true, y_pred))\n",
    "\n",
    "print(accuracy_score(y_true, y_pred, normalize=False))\n",
    "\n",
    "accuracy = accuracy_score(y_true, y_pred)\n"
   ]
  },
  {
   "cell_type": "code",
   "execution_count": 42,
   "id": "c05dc184",
   "metadata": {},
   "outputs": [
    {
     "data": {
      "text/plain": [
       "array([[46528,  7472],\n",
       "       [  287,  5713]], dtype=int64)"
      ]
     },
     "execution_count": 42,
     "metadata": {},
     "output_type": "execute_result"
    }
   ],
   "source": [
    "from sklearn.metrics import confusion_matrix\n",
    "\n",
    "confusion_matrix(y_true, y_pred)"
   ]
  },
  {
   "cell_type": "code",
   "execution_count": 43,
   "id": "a8c4c557",
   "metadata": {},
   "outputs": [
    {
     "data": {
      "text/plain": [
       "0.777384214395509"
      ]
     },
     "execution_count": 43,
     "metadata": {},
     "output_type": "execute_result"
    }
   ],
   "source": [
    "46528 / (52380 + 7472)"
   ]
  },
  {
   "cell_type": "markdown",
   "id": "f146ac93",
   "metadata": {},
   "source": [
    "# Precision"
   ]
  },
  {
   "cell_type": "code",
   "execution_count": 44,
   "id": "a8249e5e",
   "metadata": {},
   "outputs": [
    {
     "data": {
      "text/plain": [
       "0.433295411452408"
      ]
     },
     "execution_count": 44,
     "metadata": {},
     "output_type": "execute_result"
    }
   ],
   "source": [
    "from sklearn.metrics import precision_score, recall_score\n",
    "\n",
    "precision_score(y_true, y_pred)"
   ]
  },
  {
   "cell_type": "markdown",
   "id": "bd03bf09",
   "metadata": {},
   "source": [
    "# Recall"
   ]
  },
  {
   "cell_type": "code",
   "execution_count": 45,
   "id": "c37649cc",
   "metadata": {},
   "outputs": [
    {
     "data": {
      "text/plain": [
       "0.9521666666666667"
      ]
     },
     "execution_count": 45,
     "metadata": {},
     "output_type": "execute_result"
    }
   ],
   "source": [
    "recall_score(y_true, y_pred)"
   ]
  },
  {
   "cell_type": "markdown",
   "id": "79b30996",
   "metadata": {},
   "source": [
    "# F1 Score - balance between precision and recall"
   ]
  },
  {
   "cell_type": "code",
   "execution_count": 46,
   "id": "75d375fc",
   "metadata": {},
   "outputs": [
    {
     "data": {
      "text/plain": [
       "0.5955694553036226"
      ]
     },
     "execution_count": 46,
     "metadata": {},
     "output_type": "execute_result"
    }
   ],
   "source": [
    "from sklearn.metrics import f1_score\n",
    "\n",
    "f1_score(y_true, y_pred)"
   ]
  },
  {
   "cell_type": "markdown",
   "id": "46b69b8e",
   "metadata": {},
   "source": [
    "# Homogeneity Score"
   ]
  },
  {
   "cell_type": "code",
   "execution_count": 47,
   "id": "47011cd0",
   "metadata": {},
   "outputs": [
    {
     "name": "stdout",
     "output_type": "stream",
     "text": [
      "0.44784891740454147\n"
     ]
    }
   ],
   "source": [
    "print(homogeneity_score(y_true, y_pred))"
   ]
  }
 ],
 "metadata": {
  "kernelspec": {
   "display_name": "Python 3",
   "language": "python",
   "name": "python3"
  },
  "language_info": {
   "codemirror_mode": {
    "name": "ipython",
    "version": 3
   },
   "file_extension": ".py",
   "mimetype": "text/x-python",
   "name": "python",
   "nbconvert_exporter": "python",
   "pygments_lexer": "ipython3",
   "version": "3.8.8"
  }
 },
 "nbformat": 4,
 "nbformat_minor": 5
}
