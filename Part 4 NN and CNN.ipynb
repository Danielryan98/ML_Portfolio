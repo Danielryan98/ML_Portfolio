{
 "cells": [
  {
   "cell_type": "code",
   "execution_count": 1,
   "id": "d69dcf5c",
   "metadata": {},
   "outputs": [],
   "source": [
    "# Python ≥3.5 is required\n",
    "import sys\n",
    "assert sys.version_info >= (3, 5)\n",
    "\n",
    "# Scikit-Learn ≥0.20 is \n",
    "import sklearn\n",
    "assert sklearn.__version__ >= \"0.20\"\n",
    "\n",
    "# Common imports\n",
    "import numpy as np\n",
    "import os\n",
    "from sklearn.metrics import confusion_matrix\n",
    "from sklearn.model_selection import cross_val_predict\n",
    "\n",
    "# to make this notebook's output stable across runs\n",
    "np.random.seed(42)\n",
    "\n",
    "# To plot pretty figures\n",
    "%matplotlib inline\n",
    "import matplotlib as mpl\n",
    "import matplotlib.pyplot as plt\n",
    "mpl.rc('axes', labelsize=14)\n",
    "mpl.rc('xtick', labelsize=12)\n",
    "mpl.rc('ytick', labelsize=12)"
   ]
  },
  {
   "cell_type": "code",
   "execution_count": 2,
   "id": "43c19b65",
   "metadata": {},
   "outputs": [],
   "source": [
    "import pandas as pd\n",
    "\n",
    "batch_size = 512\n",
    "train_data = np.array(pd.read_csv(r'C:\\Users\\ryand\\Desktop\\Data Mining & ML\\Fashion\\fashion-mnist_train.csv'))\n",
    "test_data = np.array(pd.read_csv(r'C:\\Users\\ryand\\Desktop\\Data Mining & ML\\Fashion\\fashion-mnist_test.csv'))\n",
    "\n",
    "X_train = train_data[:, 1:785]\n",
    "y_train = train_data[:, 0]\n",
    "X_test = test_data[:, 1:785]\n",
    "y_test = test_data[:, 0]"
   ]
  },
  {
   "cell_type": "code",
   "execution_count": 5,
   "id": "7c1bdb41",
   "metadata": {},
   "outputs": [],
   "source": [
    "from sklearn.linear_model import SGDClassifier\n",
    "from sklearn.model_selection import cross_val_score\n",
    "from sklearn.metrics import accuracy_score"
   ]
  },
  {
   "cell_type": "code",
   "execution_count": 7,
   "id": "226f79d0",
   "metadata": {},
   "outputs": [],
   "source": [
    "clf = SGDClassifier(random_state=42)"
   ]
  },
  {
   "cell_type": "code",
   "execution_count": 8,
   "id": "1751dd8a",
   "metadata": {},
   "outputs": [
    {
     "data": {
      "text/plain": [
       "SGDClassifier(random_state=42)"
      ]
     },
     "execution_count": 8,
     "metadata": {},
     "output_type": "execute_result"
    }
   ],
   "source": [
    "clf.fit(X_train, y_train)"
   ]
  },
  {
   "cell_type": "code",
   "execution_count": 9,
   "id": "ab67a89d",
   "metadata": {},
   "outputs": [],
   "source": [
    "y_train_pred = clf.predict(X_train)"
   ]
  },
  {
   "cell_type": "code",
   "execution_count": 10,
   "id": "1253b885",
   "metadata": {},
   "outputs": [],
   "source": [
    "y_test_pred = clf.predict(X_test)"
   ]
  },
  {
   "cell_type": "code",
   "execution_count": 11,
   "id": "e97c70f5",
   "metadata": {},
   "outputs": [],
   "source": [
    "cross_val_y_train_pred = cross_val_predict(clf, X_train, y_train, cv=10)"
   ]
  },
  {
   "cell_type": "markdown",
   "id": "afc2d849",
   "metadata": {},
   "source": [
    "# Confusion Matrix'"
   ]
  },
  {
   "cell_type": "markdown",
   "id": "16e8ab9b",
   "metadata": {},
   "source": [
    "### Training Set Matrix"
   ]
  },
  {
   "cell_type": "code",
   "execution_count": 15,
   "id": "b0157b38",
   "metadata": {},
   "outputs": [
    {
     "data": {
      "text/plain": [
       "array([[5567,   51,  138,   60,   67,    4,   60,    1,   52,    0],\n",
       "       [  25, 5872,   26,   61,   12,    0,    2,    0,    2,    0],\n",
       "       [ 128,    7, 4620,   17, 1169,    0,   45,    0,   14,    0],\n",
       "       [ 803,  278,  112, 4323,  428,    4,   39,    0,   13,    0],\n",
       "       [  65,   30,  389,   53, 5417,    1,   37,    0,    8,    0],\n",
       "       [   7,    5,   10,    3,    2, 5599,    2,  175,   70,  127],\n",
       "       [1703,   30, 1109,   68, 1706,    0, 1289,    0,   94,    1],\n",
       "       [   0,    0,    0,    0,    1,  223,    0, 5531,   20,  225],\n",
       "       [  60,    4,   83,   18,   63,   38,   32,   17, 5683,    2],\n",
       "       [   2,    1,    3,    0,    0,  109,    1,  142,    5, 5737]],\n",
       "      dtype=int64)"
      ]
     },
     "execution_count": 15,
     "metadata": {},
     "output_type": "execute_result"
    }
   ],
   "source": [
    "confusion_matrix(y_train, y_train_pred)"
   ]
  },
  {
   "cell_type": "markdown",
   "id": "90cea63c",
   "metadata": {},
   "source": [
    "Linear classifier SGD doesn't look too great with the training images, and it was fitted with these images. Good amount of true positives by the looks of it though."
   ]
  },
  {
   "cell_type": "code",
   "execution_count": 16,
   "id": "3199fc75",
   "metadata": {},
   "outputs": [],
   "source": [
    "train_cnf_matrix = confusion_matrix(y_train, y_train_pred)"
   ]
  },
  {
   "cell_type": "code",
   "execution_count": 17,
   "id": "be63b907",
   "metadata": {},
   "outputs": [],
   "source": [
    "train_FP = train_cnf_matrix.sum(axis=0) - np.diag(train_cnf_matrix) \n",
    "train_FN = train_cnf_matrix.sum(axis=1) - np.diag(train_cnf_matrix)\n",
    "train_TP = np.diag(train_cnf_matrix)\n",
    "train_TN = train_cnf_matrix.sum() - (train_FP + train_FN + train_TP)\n",
    "train_FP = train_FP.astype(float)\n",
    "train_FN = train_FN.astype(float)\n",
    "train_TP = train_TP.astype(float)\n",
    "train_TN = train_TN.astype(float)\n",
    "\n",
    "avg_train_FP=0\n",
    "avg_train_FN=0\n",
    "avg_train_TP=0\n",
    "avg_train_TN=0\n",
    "\n",
    "for i in train_FP:\n",
    "    avg_train_FP+=i\n",
    "    \n",
    "for i in train_FN:\n",
    "    avg_train_FN+=i\n",
    "    \n",
    "for i in train_TP:\n",
    "    avg_train_TP+=i\n",
    "\n",
    "for i in train_TN:\n",
    "    avg_train_TN+=i\n",
    "    \n",
    "avg_train_FP = avg_train_FP/10\n",
    "avg_train_FN = avg_train_FN/10\n",
    "avg_train_TP = avg_train_TP/10\n",
    "avg_train_TN = avg_train_TN/10"
   ]
  },
  {
   "cell_type": "markdown",
   "id": "cfe946a9",
   "metadata": {},
   "source": [
    "### Cross-validation Matrix"
   ]
  },
  {
   "cell_type": "code",
   "execution_count": 12,
   "id": "f44540c4",
   "metadata": {},
   "outputs": [
    {
     "data": {
      "text/plain": [
       "array([[4378,   56,  264,  363,   96,    8,  682,    2,  145,    6],\n",
       "       [  22, 5743,   39,  131,   28,    0,   21,    1,   11,    4],\n",
       "       [  80,   17, 4292,   55, 1047,    0,  415,    2,   92,    0],\n",
       "       [ 250,  116,  138, 4992,  267,    3,  165,    4,   51,   14],\n",
       "       [  14,   20,  901,  270, 4060,    1,  684,    0,   50,    0],\n",
       "       [   6,   11,   19,    2,    3, 5152,   29,  361,  133,  284],\n",
       "       [ 791,   27,  997,  290,  989,    0, 2674,    1,  229,    2],\n",
       "       [   0,    0,    0,    0,    1,  181,    9, 5457,   26,  326],\n",
       "       [  39,    7,   75,   41,   46,   34,  105,   35, 5609,    9],\n",
       "       [   0,    3,    3,    0,    0,   94,    6,  292,   16, 5586]],\n",
       "      dtype=int64)"
      ]
     },
     "execution_count": 12,
     "metadata": {},
     "output_type": "execute_result"
    }
   ],
   "source": [
    "confusion_matrix(y_train, cross_val_y_train_pred)"
   ]
  },
  {
   "cell_type": "markdown",
   "id": "733596e5",
   "metadata": {},
   "source": [
    "Like without cv, class 6 is not being predicted well. We can see that class 6 and 4 are the worst predicted | class 6 is shirts, class 4 is coats, very similar items of clothing, and this is partly why the classifier will struggle."
   ]
  },
  {
   "cell_type": "code",
   "execution_count": 13,
   "id": "6feacaf4",
   "metadata": {},
   "outputs": [],
   "source": [
    "cv_cnf_matrix = confusion_matrix(y_train, cross_val_y_train_pred)"
   ]
  },
  {
   "cell_type": "code",
   "execution_count": 14,
   "id": "d974dacf",
   "metadata": {},
   "outputs": [],
   "source": [
    "CV_FP = cv_cnf_matrix.sum(axis=0) - np.diag(cv_cnf_matrix) \n",
    "CV_FN = cv_cnf_matrix.sum(axis=1) - np.diag(cv_cnf_matrix)\n",
    "CV_TP = np.diag(cv_cnf_matrix)\n",
    "CV_TN = cv_cnf_matrix.sum() - (CV_FP + CV_FN + CV_TP)\n",
    "CV_FP = CV_FP.astype(float)\n",
    "CV_FN = CV_FN.astype(float)\n",
    "CV_TP = CV_TP.astype(float)\n",
    "CV_TN = CV_TN.astype(float)\n",
    "\n",
    "avg_cv_FP=0\n",
    "avg_cv_FN=0\n",
    "avg_cv_TP=0\n",
    "avg_cv_TN=0\n",
    "\n",
    "for i in CV_FP:\n",
    "    avg_cv_FP+=i\n",
    "    \n",
    "for i in CV_FN:\n",
    "    avg_cv_FN+=i\n",
    "    \n",
    "for i in CV_TP:\n",
    "    avg_cv_TP+=i\n",
    "\n",
    "for i in CV_TN:\n",
    "    avg_cv_TN+=i\n",
    "    \n",
    "avg_cv_FP = avg_cv_FP/10\n",
    "avg_cv_FN = avg_cv_FN/10\n",
    "avg_cv_TP = avg_cv_TP/10\n",
    "avg_cv_TN = avg_cv_TN/10"
   ]
  },
  {
   "cell_type": "markdown",
   "id": "e63bc1e0",
   "metadata": {},
   "source": [
    "### Test Set Matrix"
   ]
  },
  {
   "cell_type": "code",
   "execution_count": 19,
   "id": "a158d234",
   "metadata": {},
   "outputs": [
    {
     "data": {
      "text/plain": [
       "array([[902,  13,  35,  11,   8,   2,  13,   0,  16,   0],\n",
       "       [  6, 978,   6,   5,   1,   0,   3,   1,   0,   0],\n",
       "       [ 24,   5, 755,   4, 195,   0,  12,   0,   5,   0],\n",
       "       [130,  53,  22, 724,  62,   0,   4,   1,   4,   0],\n",
       "       [ 10,   3,  69,  10, 899,   1,   7,   0,   1,   0],\n",
       "       [  5,   4,   2,   1,   1, 883,   1,  51,  14,  38],\n",
       "       [292,  10, 172,  17, 281,   0, 213,   0,  15,   0],\n",
       "       [  0,   0,   0,   0,   0,  43,   0, 892,   2,  63],\n",
       "       [ 13,   1,  19,   6,   7,  11,  11,   6, 926,   0],\n",
       "       [  1,   0,   2,   0,   1,  24,   0,  31,   2, 939]], dtype=int64)"
      ]
     },
     "execution_count": 19,
     "metadata": {},
     "output_type": "execute_result"
    }
   ],
   "source": [
    "cfm = confusion_matrix(y_test, y_test_pred)\n",
    "confusion_matrix(y_test, y_test_pred)"
   ]
  },
  {
   "cell_type": "markdown",
   "id": "66ec7860",
   "metadata": {},
   "source": [
    "Okay on the test set, struggling with class 6 again. 0, 2, and 4 are tshirt, pullover, and coat | similar items and the ability to differentiate between them here is clearly not so great."
   ]
  },
  {
   "cell_type": "code",
   "execution_count": 20,
   "id": "5395f04d",
   "metadata": {},
   "outputs": [],
   "source": [
    "test_cnf_matrix = confusion_matrix(y_test, y_test_pred)"
   ]
  },
  {
   "cell_type": "code",
   "execution_count": 21,
   "id": "1b9de967",
   "metadata": {},
   "outputs": [],
   "source": [
    "test_FP = test_cnf_matrix.sum(axis=0) - np.diag(test_cnf_matrix) \n",
    "test_FN = test_cnf_matrix.sum(axis=1) - np.diag(test_cnf_matrix)\n",
    "test_TP = np.diag(test_cnf_matrix)\n",
    "test_TN = test_cnf_matrix.sum() - (test_FP + test_FN + test_TP)\n",
    "test_FP = test_FP.astype(float)\n",
    "test_FN = test_FN.astype(float)\n",
    "test_TP = test_TP.astype(float)\n",
    "test_TN = test_TN.astype(float)\n",
    "\n",
    "avg_test_FP=0\n",
    "avg_test_FN=0\n",
    "avg_test_TP=0\n",
    "avg_test_TN=0\n",
    "\n",
    "for i in test_FP:\n",
    "    avg_test_FP+=i\n",
    "    \n",
    "for i in test_FN:\n",
    "    avg_test_FN+=i\n",
    "    \n",
    "for i in test_TP:\n",
    "    avg_test_TP+=i\n",
    "\n",
    "for i in test_TN:\n",
    "    avg_test_TN+=i\n",
    "    \n",
    "avg_test_FP = avg_test_FP/10\n",
    "avg_test_FN = avg_test_FN/10\n",
    "avg_test_TP = avg_test_TP/10\n",
    "avg_test_TN = avg_test_TN/10"
   ]
  },
  {
   "cell_type": "markdown",
   "id": "7456a60d",
   "metadata": {},
   "source": [
    "# Accuracy"
   ]
  },
  {
   "cell_type": "markdown",
   "id": "36e88972",
   "metadata": {},
   "source": [
    "Accuracy is highest on the training set, and this shows slightly that the classifier has learnt the training data a little too much, and so it is overfitting slightly, and therefore based off of these accuracies, it doesnt generalize superbly, but it also doesnt generalize really poorly, it just generalizes okay to the new data."
   ]
  },
  {
   "cell_type": "markdown",
   "id": "d45a3e15",
   "metadata": {},
   "source": [
    "### SGD Train"
   ]
  },
  {
   "cell_type": "code",
   "execution_count": 18,
   "id": "d4152554",
   "metadata": {},
   "outputs": [
    {
     "name": "stdout",
     "output_type": "stream",
     "text": [
      "0.8273\n",
      "49638\n"
     ]
    }
   ],
   "source": [
    "from sklearn.metrics import accuracy_score\n",
    "\n",
    "print(accuracy_score(y_train, y_train_pred))\n",
    "\n",
    "print(accuracy_score(y_train, y_train_pred, normalize=False))\n",
    "\n",
    "accuracy = accuracy_score(y_train, y_train_pred)\n"
   ]
  },
  {
   "cell_type": "markdown",
   "id": "d168bc30",
   "metadata": {},
   "source": [
    "### SGD Cross-validation"
   ]
  },
  {
   "cell_type": "code",
   "execution_count": 22,
   "id": "80dd8ac9",
   "metadata": {},
   "outputs": [
    {
     "name": "stdout",
     "output_type": "stream",
     "text": [
      "0.79905\n",
      "47943\n"
     ]
    }
   ],
   "source": [
    "from sklearn.metrics import accuracy_score\n",
    "\n",
    "print(accuracy_score(y_train, cross_val_y_train_pred))\n",
    "\n",
    "print(accuracy_score(y_train, cross_val_y_train_pred, normalize=False))\n",
    "\n",
    "accuracy = accuracy_score(y_train, cross_val_y_train_pred)"
   ]
  },
  {
   "cell_type": "markdown",
   "id": "53c93bd0",
   "metadata": {},
   "source": [
    "### SGD Test"
   ]
  },
  {
   "cell_type": "code",
   "execution_count": 23,
   "id": "3f4f9535",
   "metadata": {},
   "outputs": [
    {
     "name": "stdout",
     "output_type": "stream",
     "text": [
      "0.8111\n",
      "8111\n"
     ]
    }
   ],
   "source": [
    "from sklearn.metrics import accuracy_score\n",
    "\n",
    "print(accuracy_score(y_test, y_test_pred))\n",
    "\n",
    "print(accuracy_score(y_test, y_test_pred, normalize=False))\n",
    "\n",
    "accuracy = accuracy_score(y_test, y_test_pred)"
   ]
  },
  {
   "cell_type": "markdown",
   "id": "a229b388",
   "metadata": {},
   "source": [
    "## Specificity\n",
    "\n",
    "TN / (TN + FP) How sensitive is the classifier to the negative cases? - A highly specific test for cancer: if \"YES\" then you can be sure it's \"YES\". Closer to 1 means less false positives. 100% Specificity misses some true positives but in return provides no false positives."
   ]
  },
  {
   "cell_type": "markdown",
   "id": "76ef6911",
   "metadata": {},
   "source": [
    "### SGD Train"
   ]
  },
  {
   "cell_type": "code",
   "execution_count": 24,
   "id": "aa6c5381",
   "metadata": {},
   "outputs": [
    {
     "data": {
      "text/plain": [
       "0.9808111111111112"
      ]
     },
     "execution_count": 24,
     "metadata": {},
     "output_type": "execute_result"
    }
   ],
   "source": [
    "avg_train_TN/(avg_train_TN+avg_train_FP)"
   ]
  },
  {
   "cell_type": "markdown",
   "id": "bb05fb1a",
   "metadata": {},
   "source": [
    "### SGD Cross-validation"
   ]
  },
  {
   "cell_type": "code",
   "execution_count": 25,
   "id": "2f95b822",
   "metadata": {},
   "outputs": [
    {
     "data": {
      "text/plain": [
       "0.9776722222222223"
      ]
     },
     "execution_count": 25,
     "metadata": {},
     "output_type": "execute_result"
    }
   ],
   "source": [
    "avg_cv_TN/(avg_cv_TN+avg_cv_FP)"
   ]
  },
  {
   "cell_type": "markdown",
   "id": "05506a87",
   "metadata": {},
   "source": [
    "### SGD Test"
   ]
  },
  {
   "cell_type": "code",
   "execution_count": 26,
   "id": "2c773dea",
   "metadata": {},
   "outputs": [
    {
     "data": {
      "text/plain": [
       "0.9790111111111112"
      ]
     },
     "execution_count": 26,
     "metadata": {},
     "output_type": "execute_result"
    }
   ],
   "source": [
    "avg_test_TN/(avg_test_TN+avg_test_FP)"
   ]
  },
  {
   "cell_type": "markdown",
   "id": "920bae22",
   "metadata": {},
   "source": [
    "# Precision and Recall\n",
    "Recall is intuitevely the ability of the classifier to find all the positive samples.\n",
    "\n",
    "The best value is 1, and the worst value is 0."
   ]
  },
  {
   "cell_type": "markdown",
   "id": "43b5ff6f",
   "metadata": {},
   "source": [
    "### precision = TP / (TP+FP)"
   ]
  },
  {
   "cell_type": "markdown",
   "id": "32fb13ad",
   "metadata": {},
   "source": [
    "### SGD Train Precision"
   ]
  },
  {
   "cell_type": "code",
   "execution_count": 28,
   "id": "4fc63efb",
   "metadata": {},
   "outputs": [
    {
     "data": {
      "text/plain": [
       "0.8273"
      ]
     },
     "execution_count": 28,
     "metadata": {},
     "output_type": "execute_result"
    }
   ],
   "source": [
    "from sklearn.metrics import precision_score, recall_score\n",
    "\n",
    "precision_score(y_train, y_train_pred, average='micro')"
   ]
  },
  {
   "cell_type": "markdown",
   "id": "9ca43fc5",
   "metadata": {},
   "source": [
    "### SGD Cross-validation Precision"
   ]
  },
  {
   "cell_type": "code",
   "execution_count": 27,
   "id": "617d847c",
   "metadata": {},
   "outputs": [
    {
     "data": {
      "text/plain": [
       "0.79905"
      ]
     },
     "execution_count": 27,
     "metadata": {},
     "output_type": "execute_result"
    }
   ],
   "source": [
    "from sklearn.metrics import precision_score, recall_score\n",
    "\n",
    "precision_score(y_train, cross_val_y_train_pred, average='micro')"
   ]
  },
  {
   "cell_type": "markdown",
   "id": "cd132849",
   "metadata": {},
   "source": [
    "### SGD Test Precision"
   ]
  },
  {
   "cell_type": "code",
   "execution_count": 29,
   "id": "d4056b1c",
   "metadata": {},
   "outputs": [
    {
     "data": {
      "text/plain": [
       "0.8111"
      ]
     },
     "execution_count": 29,
     "metadata": {},
     "output_type": "execute_result"
    }
   ],
   "source": [
    "from sklearn.metrics import precision_score, recall_score\n",
    "\n",
    "precision_score(y_test, y_test_pred, average='micro')"
   ]
  },
  {
   "cell_type": "markdown",
   "id": "221fe49d",
   "metadata": {},
   "source": [
    "### recall = TP / (TP+FN)\n",
    "Similar to sensitivity (how sensitive is our classifier to the true cases? closer to 1 when theres no false negatives) with 100% sensitivity you catch all cases that could be true, so there will be more false postitives"
   ]
  },
  {
   "cell_type": "markdown",
   "id": "ee086aae",
   "metadata": {},
   "source": [
    "### SGD Train Recall"
   ]
  },
  {
   "cell_type": "code",
   "execution_count": null,
   "id": "ecab2b29",
   "metadata": {},
   "outputs": [],
   "source": [
    "recall_score(y_train, y_train_pred, average='micro')"
   ]
  },
  {
   "cell_type": "markdown",
   "id": "40b35bc1",
   "metadata": {},
   "source": [
    "### SGD Cross-validation Recall"
   ]
  },
  {
   "cell_type": "code",
   "execution_count": 31,
   "id": "67503003",
   "metadata": {},
   "outputs": [
    {
     "data": {
      "text/plain": [
       "0.79905"
      ]
     },
     "execution_count": 31,
     "metadata": {},
     "output_type": "execute_result"
    }
   ],
   "source": [
    "recall_score(y_train, cross_val_y_train_pred, average='micro')"
   ]
  },
  {
   "cell_type": "markdown",
   "id": "8a8edae4",
   "metadata": {},
   "source": [
    "### SGD Test Recall"
   ]
  },
  {
   "cell_type": "code",
   "execution_count": 33,
   "id": "492b59ca",
   "metadata": {},
   "outputs": [
    {
     "data": {
      "text/plain": [
       "0.8111"
      ]
     },
     "execution_count": 33,
     "metadata": {},
     "output_type": "execute_result"
    }
   ],
   "source": [
    "recall_score(y_test, y_test_pred, average='micro')"
   ]
  },
  {
   "cell_type": "markdown",
   "id": "7fad914d",
   "metadata": {},
   "source": [
    "# F1 Scores"
   ]
  },
  {
   "cell_type": "markdown",
   "id": "445eaaaa",
   "metadata": {},
   "source": [
    "F1 = 2 / ((1 / precision) + (1 / recall)) = 2 x ((precision x recall) / (precision + recall)) = TP / (TP + ((FN + FP) / 2))"
   ]
  },
  {
   "cell_type": "markdown",
   "id": "2b35ba87",
   "metadata": {},
   "source": [
    "### SGD Train F1 Score"
   ]
  },
  {
   "cell_type": "code",
   "execution_count": 37,
   "id": "e9c1ca97",
   "metadata": {},
   "outputs": [
    {
     "data": {
      "text/plain": [
       "0.8273"
      ]
     },
     "execution_count": 37,
     "metadata": {},
     "output_type": "execute_result"
    }
   ],
   "source": [
    "from sklearn.metrics import f1_score\n",
    "\n",
    "f1_score(y_train, y_train_pred, average='micro')"
   ]
  },
  {
   "cell_type": "markdown",
   "id": "a236bd1a",
   "metadata": {},
   "source": [
    "### SGD Cross-validation F1 Score"
   ]
  },
  {
   "cell_type": "code",
   "execution_count": 34,
   "id": "d3aabf5e",
   "metadata": {},
   "outputs": [
    {
     "data": {
      "text/plain": [
       "0.7990500000000001"
      ]
     },
     "execution_count": 34,
     "metadata": {},
     "output_type": "execute_result"
    }
   ],
   "source": [
    "from sklearn.metrics import f1_score\n",
    "\n",
    "f1_score(y_train, cross_val_y_train_pred, average='micro')"
   ]
  },
  {
   "cell_type": "markdown",
   "id": "80930800",
   "metadata": {},
   "source": [
    "### SGD Test F1 Score"
   ]
  },
  {
   "cell_type": "code",
   "execution_count": 35,
   "id": "6dad6f28",
   "metadata": {},
   "outputs": [
    {
     "data": {
      "text/plain": [
       "0.8111"
      ]
     },
     "execution_count": 35,
     "metadata": {},
     "output_type": "execute_result"
    }
   ],
   "source": [
    "from sklearn.metrics import f1_score\n",
    "\n",
    "f1_score(y_test, y_test_pred, average='micro')"
   ]
  },
  {
   "cell_type": "markdown",
   "id": "10e4befa",
   "metadata": {},
   "source": [
    "# How well does the SGD classifier generalize to new data?"
   ]
  },
  {
   "cell_type": "markdown",
   "id": "541f47b0",
   "metadata": {},
   "source": [
    "Accuracy is highest on the training set, and this shows slightly that the classifier has learnt the training data a little too much, and so it is overfitting slightly, and therefore based off of the accuracies of train, test, and cv, it doesnt generalize superbly, but it also doesnt generalize really poorly, it just generalizes okay to the new data."
   ]
  },
  {
   "cell_type": "markdown",
   "id": "b5319990",
   "metadata": {},
   "source": [
    "# What hypothesis can be made about this data set being linearly separable or not?"
   ]
  },
  {
   "cell_type": "markdown",
   "id": "97ff1f37",
   "metadata": {},
   "source": [
    "The linear classifier struggled with classes 0, 2, 4, and 6 because they are tshirt, pullover, coat, and shirt. These are similar items and the ability to differentiate between them here is clearly not so great, and therefore I would hypothesise that it is difficult for the classifier to seperate the classes - there is not clear differences like there is between say a shoe and a tshirt, or a plane and a house. If this dataset was lineraly seperable, we would see much better accuracy using the SGD classifier."
   ]
  },
  {
   "cell_type": "markdown",
   "id": "42c1e803",
   "metadata": {},
   "source": [
    "# Multilayer Perceptron"
   ]
  },
  {
   "cell_type": "code",
   "execution_count": 5,
   "id": "692bcd7e",
   "metadata": {},
   "outputs": [],
   "source": [
    "from sklearn.neural_network import MLPClassifier\n",
    "from sklearn.datasets import make_classification\n",
    "from sklearn.model_selection import train_test_split"
   ]
  },
  {
   "cell_type": "markdown",
   "id": "87b5eb25",
   "metadata": {},
   "source": [
    "# Multilayer Perceptron | X_train"
   ]
  },
  {
   "cell_type": "markdown",
   "id": "93b539bf",
   "metadata": {},
   "source": [
    "## Standard Configuration | Relu activation function"
   ]
  },
  {
   "cell_type": "markdown",
   "id": "8589c14e",
   "metadata": {},
   "source": [
    "An activation function takes the summed weighted input from the node, and turns it into the activation of the node/output for that input."
   ]
  },
  {
   "cell_type": "markdown",
   "id": "07b28ebb",
   "metadata": {},
   "source": [
    "Relu activation function is the rectified linear activation function, which outputs the input direcetly if it is postivie, and otherwise outputs zero."
   ]
  },
  {
   "cell_type": "code",
   "execution_count": 32,
   "id": "315d75dd",
   "metadata": {},
   "outputs": [],
   "source": [
    "clf = MLPClassifier(random_state=1, max_iter=300).fit(X_train, y_train)\n",
    "y_pred = clf.predict(X_train)"
   ]
  },
  {
   "cell_type": "code",
   "execution_count": 33,
   "id": "900a32e3",
   "metadata": {},
   "outputs": [
    {
     "data": {
      "text/plain": [
       "array([[5301,   19,   69,  115,    8,    0,  464,    0,   24,    0],\n",
       "       [  16, 5921,    3,   34,    2,    0,   12,    0,   12,    0],\n",
       "       [  60,   43, 4994,   54,  462,    0,  372,    0,   15,    0],\n",
       "       [ 133,   78,   31, 5594,   53,    0,   91,    0,   20,    0],\n",
       "       [   7,   18,  579,  443, 4685,    0,  221,    0,   47,    0],\n",
       "       [   0,    0,    0,    0,    0, 5985,    0,    9,    5,    1],\n",
       "       [1085,    2,  755,  122,  458,    0, 3529,    0,   49,    0],\n",
       "       [   1,    0,    0,    0,    0,   14,    7, 5925,    5,   48],\n",
       "       [   5,    2,    4,   11,    6,    0,   79,    3, 5890,    0],\n",
       "       [   0,    0,    0,    0,    0,   63,    2,  243,    2, 5690]],\n",
       "      dtype=int64)"
      ]
     },
     "execution_count": 33,
     "metadata": {},
     "output_type": "execute_result"
    }
   ],
   "source": [
    "confusion_matrix(y_train, y_pred)"
   ]
  },
  {
   "cell_type": "code",
   "execution_count": 34,
   "id": "54ac9788",
   "metadata": {},
   "outputs": [],
   "source": [
    "cnf_matrix = confusion_matrix(y_train, y_pred)"
   ]
  },
  {
   "cell_type": "code",
   "execution_count": 35,
   "id": "de002bcd",
   "metadata": {},
   "outputs": [],
   "source": [
    "FP = cnf_matrix.sum(axis=0) - np.diag(cnf_matrix) \n",
    "FN = cnf_matrix.sum(axis=1) - np.diag(cnf_matrix)\n",
    "TP = np.diag(cnf_matrix)\n",
    "TN = cnf_matrix.sum() - (FP + FN + TP)\n",
    "FP = FP.astype(float)\n",
    "FN = FN.astype(float)\n",
    "TP = TP.astype(float)\n",
    "TN = TN.astype(float)\n",
    "\n",
    "avg_FP=0\n",
    "avg_FN=0\n",
    "avg_TP=0\n",
    "avg_TN=0\n",
    "\n",
    "for i in FP:\n",
    "    avg_FP+=i\n",
    "    \n",
    "for i in FN:\n",
    "    avg_FN+=i\n",
    "    \n",
    "for i in TP:\n",
    "    avg_TP+=i\n",
    "\n",
    "for i in TN:\n",
    "    avg_TN+=i\n",
    "    \n",
    "avg_FP = avg_FP/10\n",
    "avg_FN = avg_FN/10\n",
    "avg_TP = avg_TP/10\n",
    "avg_TN = avg_TN/10"
   ]
  },
  {
   "cell_type": "markdown",
   "id": "fc9add66",
   "metadata": {},
   "source": [
    "## Accuracy"
   ]
  },
  {
   "cell_type": "code",
   "execution_count": 36,
   "id": "d83be035",
   "metadata": {},
   "outputs": [
    {
     "name": "stdout",
     "output_type": "stream",
     "text": [
      "0.8919\n",
      "53514\n"
     ]
    }
   ],
   "source": [
    "from sklearn.metrics import accuracy_score\n",
    "\n",
    "print(accuracy_score(y_train, y_pred))\n",
    "\n",
    "print(accuracy_score(y_train, y_pred, normalize=False))\n",
    "\n",
    "accuracy = accuracy_score(y_train, y_pred)"
   ]
  },
  {
   "cell_type": "markdown",
   "id": "31b70097",
   "metadata": {},
   "source": [
    "89% accuracy on the training set"
   ]
  },
  {
   "cell_type": "markdown",
   "id": "e416edf5",
   "metadata": {},
   "source": [
    "## Specificity"
   ]
  },
  {
   "cell_type": "code",
   "execution_count": 37,
   "id": "40ba1981",
   "metadata": {},
   "outputs": [
    {
     "data": {
      "text/plain": [
       "0.9879888888888889"
      ]
     },
     "execution_count": 37,
     "metadata": {},
     "output_type": "execute_result"
    }
   ],
   "source": [
    "avg_TN/(avg_TN+avg_FP)"
   ]
  },
  {
   "cell_type": "markdown",
   "id": "4fc3c972",
   "metadata": {},
   "source": [
    "## Precision and Recall"
   ]
  },
  {
   "cell_type": "markdown",
   "id": "7852b929",
   "metadata": {},
   "source": [
    "### precision = TP / (TP+FP)"
   ]
  },
  {
   "cell_type": "code",
   "execution_count": 38,
   "id": "fff0209e",
   "metadata": {},
   "outputs": [
    {
     "data": {
      "text/plain": [
       "0.8919"
      ]
     },
     "execution_count": 38,
     "metadata": {},
     "output_type": "execute_result"
    }
   ],
   "source": [
    "from sklearn.metrics import precision_score, recall_score\n",
    "\n",
    "precision_score(y_train, y_pred, average='micro')"
   ]
  },
  {
   "cell_type": "markdown",
   "id": "9e13b718",
   "metadata": {},
   "source": [
    "### Recall"
   ]
  },
  {
   "cell_type": "code",
   "execution_count": 39,
   "id": "bd7c3153",
   "metadata": {},
   "outputs": [
    {
     "data": {
      "text/plain": [
       "0.8919"
      ]
     },
     "execution_count": 39,
     "metadata": {},
     "output_type": "execute_result"
    }
   ],
   "source": [
    "recall_score(y_train, y_pred, average='micro')"
   ]
  },
  {
   "cell_type": "markdown",
   "id": "b0fdddbb",
   "metadata": {},
   "source": [
    "## F1 Score"
   ]
  },
  {
   "cell_type": "code",
   "execution_count": 40,
   "id": "7c351d59",
   "metadata": {},
   "outputs": [
    {
     "data": {
      "text/plain": [
       "0.8919"
      ]
     },
     "execution_count": 40,
     "metadata": {},
     "output_type": "execute_result"
    }
   ],
   "source": [
    "from sklearn.metrics import f1_score\n",
    "\n",
    "f1_score(y_train, y_pred, average='micro')"
   ]
  },
  {
   "cell_type": "markdown",
   "id": "cb71b82b",
   "metadata": {},
   "source": [
    "# Multilayer Perceptron | X_test"
   ]
  },
  {
   "cell_type": "markdown",
   "id": "2641cec7",
   "metadata": {},
   "source": [
    "## Standard Configuration"
   ]
  },
  {
   "cell_type": "code",
   "execution_count": 13,
   "id": "3e8d47d6",
   "metadata": {},
   "outputs": [],
   "source": [
    "clf = MLPClassifier(random_state=1, max_iter=300).fit(X_train, y_train)\n",
    "y_pred = clf.predict(X_test)"
   ]
  },
  {
   "cell_type": "code",
   "execution_count": 19,
   "id": "5fea710a",
   "metadata": {},
   "outputs": [
    {
     "data": {
      "text/plain": [
       "array([[857,   5,  13,  20,   2,   3,  91,   0,   9,   0],\n",
       "       [  6, 979,   3,   8,   1,   0,   2,   0,   1,   0],\n",
       "       [ 11,  16, 798,  15,  78,   0,  77,   0,   5,   0],\n",
       "       [ 39,  34,  11, 878,   7,   0,  24,   0,   7,   0],\n",
       "       [  2,   4, 100,  63, 767,   0,  43,   0,  21,   0],\n",
       "       [  1,   0,   0,   1,   0, 943,   0,  33,   6,  16],\n",
       "       [207,   8, 133,  26,  76,   0, 537,   0,  13,   0],\n",
       "       [  0,   0,   0,   0,   0,  24,   0, 945,   3,  28],\n",
       "       [  6,   1,   2,   2,   5,   1,  23,   5, 955,   0],\n",
       "       [  0,   0,   0,   0,   0,  18,   2,  57,   4, 919]], dtype=int64)"
      ]
     },
     "execution_count": 19,
     "metadata": {},
     "output_type": "execute_result"
    }
   ],
   "source": [
    "confusion_matrix(y_test, y_pred)"
   ]
  },
  {
   "cell_type": "code",
   "execution_count": 23,
   "id": "403af52f",
   "metadata": {},
   "outputs": [],
   "source": [
    "cnf_matrix = confusion_matrix(y_test, y_pred)"
   ]
  },
  {
   "cell_type": "code",
   "execution_count": 25,
   "id": "204f5ffc",
   "metadata": {},
   "outputs": [],
   "source": [
    "FP = cnf_matrix.sum(axis=0) - np.diag(cnf_matrix) \n",
    "FN = cnf_matrix.sum(axis=1) - np.diag(cnf_matrix)\n",
    "TP = np.diag(cnf_matrix)\n",
    "TN = cnf_matrix.sum() - (FP + FN + TP)\n",
    "FP = FP.astype(float)\n",
    "FN = FN.astype(float)\n",
    "TP = TP.astype(float)\n",
    "TN = TN.astype(float)\n",
    "\n",
    "avg_FP=0\n",
    "avg_FN=0\n",
    "avg_TP=0\n",
    "avg_TN=0\n",
    "\n",
    "for i in FP:\n",
    "    avg_FP+=i\n",
    "    \n",
    "for i in FN:\n",
    "    avg_FN+=i\n",
    "    \n",
    "for i in TP:\n",
    "    avg_TP+=i\n",
    "\n",
    "for i in TN:\n",
    "    avg_TN+=i\n",
    "    \n",
    "avg_FP = avg_FP/10\n",
    "avg_FN = avg_FN/10\n",
    "avg_TP = avg_TP/10\n",
    "avg_TN = avg_TN/10"
   ]
  },
  {
   "cell_type": "markdown",
   "id": "048f7159",
   "metadata": {},
   "source": [
    "## Accuracy"
   ]
  },
  {
   "cell_type": "code",
   "execution_count": 26,
   "id": "7f97d80f",
   "metadata": {},
   "outputs": [
    {
     "name": "stdout",
     "output_type": "stream",
     "text": [
      "0.8578\n",
      "8578\n"
     ]
    }
   ],
   "source": [
    "from sklearn.metrics import accuracy_score\n",
    "\n",
    "print(accuracy_score(y_test, y_pred))\n",
    "\n",
    "print(accuracy_score(y_test, y_pred, normalize=False))\n",
    "\n",
    "accuracy = accuracy_score(y_test, y_pred)"
   ]
  },
  {
   "cell_type": "markdown",
   "id": "3c4922df",
   "metadata": {},
   "source": [
    "drop from 89% accuracy on training set to 86% accuracy with test set. Slight overfitting and okay generalization, 90%+ would be the minimum for good generalization."
   ]
  },
  {
   "cell_type": "markdown",
   "id": "f941927d",
   "metadata": {},
   "source": [
    "## Specificity"
   ]
  },
  {
   "cell_type": "code",
   "execution_count": 27,
   "id": "ae339e6c",
   "metadata": {},
   "outputs": [
    {
     "data": {
      "text/plain": [
       "0.9842"
      ]
     },
     "execution_count": 27,
     "metadata": {},
     "output_type": "execute_result"
    }
   ],
   "source": [
    "avg_TN/(avg_TN+avg_FP)"
   ]
  },
  {
   "cell_type": "markdown",
   "id": "c7c40ab9",
   "metadata": {},
   "source": [
    "Higher value of true negatives with lower false positives overall."
   ]
  },
  {
   "cell_type": "markdown",
   "id": "a051d75c",
   "metadata": {},
   "source": [
    "## Precision and Recall"
   ]
  },
  {
   "cell_type": "markdown",
   "id": "38934314",
   "metadata": {},
   "source": [
    "### precision = TP / (TP+FP)"
   ]
  },
  {
   "cell_type": "code",
   "execution_count": 29,
   "id": "1ceb58d3",
   "metadata": {},
   "outputs": [
    {
     "data": {
      "text/plain": [
       "0.8578"
      ]
     },
     "execution_count": 29,
     "metadata": {},
     "output_type": "execute_result"
    }
   ],
   "source": [
    "from sklearn.metrics import precision_score, recall_score\n",
    "\n",
    "precision_score(y_test, y_pred, average='micro')"
   ]
  },
  {
   "cell_type": "markdown",
   "id": "08c669d7",
   "metadata": {},
   "source": [
    "### Recall"
   ]
  },
  {
   "cell_type": "code",
   "execution_count": 30,
   "id": "41c91073",
   "metadata": {},
   "outputs": [
    {
     "data": {
      "text/plain": [
       "0.8578"
      ]
     },
     "execution_count": 30,
     "metadata": {},
     "output_type": "execute_result"
    }
   ],
   "source": [
    "recall_score(y_test, y_pred, average='micro')"
   ]
  },
  {
   "cell_type": "markdown",
   "id": "fb54b31b",
   "metadata": {},
   "source": [
    "## F1 Score"
   ]
  },
  {
   "cell_type": "code",
   "execution_count": 31,
   "id": "14ca7227",
   "metadata": {},
   "outputs": [
    {
     "data": {
      "text/plain": [
       "0.8578"
      ]
     },
     "execution_count": 31,
     "metadata": {},
     "output_type": "execute_result"
    }
   ],
   "source": [
    "from sklearn.metrics import f1_score\n",
    "\n",
    "f1_score(y_test, y_pred, average='micro')"
   ]
  },
  {
   "cell_type": "markdown",
   "id": "db6be2f9",
   "metadata": {},
   "source": [
    "# Multilayer Perceptron | X_train"
   ]
  },
  {
   "cell_type": "markdown",
   "id": "b5773ed6",
   "metadata": {},
   "source": [
    "## Activiation function = Identity"
   ]
  },
  {
   "cell_type": "markdown",
   "id": "735fa4bf",
   "metadata": {},
   "source": [
    "returns f(x) = x, so output data is proportional to input data."
   ]
  },
  {
   "cell_type": "code",
   "execution_count": 41,
   "id": "183dd8e1",
   "metadata": {},
   "outputs": [],
   "source": [
    "clf = MLPClassifier(random_state=1, max_iter=300, activation='identity').fit(X_train, y_train)\n",
    "y_pred = clf.predict(X_train)"
   ]
  },
  {
   "cell_type": "code",
   "execution_count": 42,
   "id": "2b5044d6",
   "metadata": {},
   "outputs": [
    {
     "data": {
      "text/plain": [
       "array([[4708,   15,   13,  296,   68,    2,  830,    1,   66,    1],\n",
       "       [   5, 5807,    2,  129,   26,    0,   28,    0,    3,    0],\n",
       "       [ 143,   15, 1139,   45, 2149,    0, 2455,    1,   53,    0],\n",
       "       [ 123,   37,    6, 5221,  310,    1,  279,    0,   23,    0],\n",
       "       [   9,   12,   14,   98, 5294,    0,  563,    0,   10,    0],\n",
       "       [   0,    2,    0,    0,    1, 5512,    2,  331,   49,  103],\n",
       "       [ 612,   15,   55,  143,  754,    0, 4316,    0,  105,    0],\n",
       "       [   0,    0,    0,    0,    0,   90,    0, 5659,   16,  235],\n",
       "       [   7,    9,    7,   42,   79,    1,  135,    3, 5717,    0],\n",
       "       [   0,    0,    0,    0,    0,   39,    0,  150,    2, 5809]],\n",
       "      dtype=int64)"
      ]
     },
     "execution_count": 42,
     "metadata": {},
     "output_type": "execute_result"
    }
   ],
   "source": [
    "confusion_matrix(y_train, y_pred)"
   ]
  },
  {
   "cell_type": "code",
   "execution_count": 43,
   "id": "44ea9001",
   "metadata": {},
   "outputs": [],
   "source": [
    "cnf_matrix = confusion_matrix(y_train, y_pred)"
   ]
  },
  {
   "cell_type": "code",
   "execution_count": 44,
   "id": "296fd776",
   "metadata": {},
   "outputs": [],
   "source": [
    "FP = cnf_matrix.sum(axis=0) - np.diag(cnf_matrix) \n",
    "FN = cnf_matrix.sum(axis=1) - np.diag(cnf_matrix)\n",
    "TP = np.diag(cnf_matrix)\n",
    "TN = cnf_matrix.sum() - (FP + FN + TP)\n",
    "FP = FP.astype(float)\n",
    "FN = FN.astype(float)\n",
    "TP = TP.astype(float)\n",
    "TN = TN.astype(float)\n",
    "\n",
    "avg_FP=0\n",
    "avg_FN=0\n",
    "avg_TP=0\n",
    "avg_TN=0\n",
    "\n",
    "for i in FP:\n",
    "    avg_FP+=i\n",
    "    \n",
    "for i in FN:\n",
    "    avg_FN+=i\n",
    "    \n",
    "for i in TP:\n",
    "    avg_TP+=i\n",
    "\n",
    "for i in TN:\n",
    "    avg_TN+=i\n",
    "    \n",
    "avg_FP = avg_FP/10\n",
    "avg_FN = avg_FN/10\n",
    "avg_TP = avg_TP/10\n",
    "avg_TN = avg_TN/10"
   ]
  },
  {
   "cell_type": "markdown",
   "id": "fb31faa3",
   "metadata": {},
   "source": [
    "## Accuracy"
   ]
  },
  {
   "cell_type": "code",
   "execution_count": 45,
   "id": "4aea6af9",
   "metadata": {},
   "outputs": [
    {
     "name": "stdout",
     "output_type": "stream",
     "text": [
      "0.8197\n",
      "49182\n"
     ]
    }
   ],
   "source": [
    "from sklearn.metrics import accuracy_score\n",
    "\n",
    "print(accuracy_score(y_train, y_pred))\n",
    "\n",
    "print(accuracy_score(y_train, y_pred, normalize=False))\n",
    "\n",
    "accuracy = accuracy_score(y_train, y_pred)"
   ]
  },
  {
   "cell_type": "markdown",
   "id": "0bcae8e9",
   "metadata": {},
   "source": [
    "Had 89% accuracy with the standard configuration using activation function relu. Here, only 82% accuracy."
   ]
  },
  {
   "cell_type": "markdown",
   "id": "5e5e7dc7",
   "metadata": {},
   "source": [
    "## Specificity"
   ]
  },
  {
   "cell_type": "code",
   "execution_count": 46,
   "id": "869744d2",
   "metadata": {},
   "outputs": [
    {
     "data": {
      "text/plain": [
       "0.9799666666666667"
      ]
     },
     "execution_count": 46,
     "metadata": {},
     "output_type": "execute_result"
    }
   ],
   "source": [
    "avg_TN/(avg_TN+avg_FP)"
   ]
  },
  {
   "cell_type": "markdown",
   "id": "370794a5",
   "metadata": {},
   "source": [
    "## Precision and Recall"
   ]
  },
  {
   "cell_type": "markdown",
   "id": "722a599d",
   "metadata": {},
   "source": [
    "### precision = TP / (TP+FP)"
   ]
  },
  {
   "cell_type": "code",
   "execution_count": 47,
   "id": "d02219b8",
   "metadata": {},
   "outputs": [
    {
     "data": {
      "text/plain": [
       "0.8197"
      ]
     },
     "execution_count": 47,
     "metadata": {},
     "output_type": "execute_result"
    }
   ],
   "source": [
    "from sklearn.metrics import precision_score, recall_score\n",
    "\n",
    "precision_score(y_train, y_pred, average='micro')"
   ]
  },
  {
   "cell_type": "markdown",
   "id": "d3a41262",
   "metadata": {},
   "source": [
    "### Recall"
   ]
  },
  {
   "cell_type": "code",
   "execution_count": 48,
   "id": "145a6091",
   "metadata": {},
   "outputs": [
    {
     "data": {
      "text/plain": [
       "0.8197"
      ]
     },
     "execution_count": 48,
     "metadata": {},
     "output_type": "execute_result"
    }
   ],
   "source": [
    "recall_score(y_train, y_pred, average='micro')"
   ]
  },
  {
   "cell_type": "markdown",
   "id": "f3eed993",
   "metadata": {},
   "source": [
    "## F1 Score"
   ]
  },
  {
   "cell_type": "code",
   "execution_count": 49,
   "id": "8f904ad1",
   "metadata": {},
   "outputs": [
    {
     "data": {
      "text/plain": [
       "0.8197"
      ]
     },
     "execution_count": 49,
     "metadata": {},
     "output_type": "execute_result"
    }
   ],
   "source": [
    "from sklearn.metrics import f1_score\n",
    "\n",
    "f1_score(y_train, y_pred, average='micro')"
   ]
  },
  {
   "cell_type": "markdown",
   "id": "b6c5bb63",
   "metadata": {},
   "source": [
    "# Multilayer Perceptron | X_test"
   ]
  },
  {
   "cell_type": "markdown",
   "id": "90c38709",
   "metadata": {},
   "source": [
    "## Activiation function = Identity"
   ]
  },
  {
   "cell_type": "code",
   "execution_count": 50,
   "id": "683cfa13",
   "metadata": {},
   "outputs": [],
   "source": [
    "clf = MLPClassifier(random_state=1, max_iter=300, activation='identity').fit(X_train, y_train)\n",
    "y_pred = clf.predict(X_test)"
   ]
  },
  {
   "cell_type": "code",
   "execution_count": 51,
   "id": "796488a5",
   "metadata": {},
   "outputs": [
    {
     "data": {
      "text/plain": [
       "array([[759,   4,   3,  56,   9,   1, 152,   0,  16,   0],\n",
       "       [  1, 973,   0,  17,   1,   1,   7,   0,   0,   0],\n",
       "       [ 28,   3, 175,   7, 353,   0, 421,   0,  13,   0],\n",
       "       [ 24,  15,   1, 845,  60,   1,  49,   2,   3,   0],\n",
       "       [  1,   1,   4,  14, 874,   2,  99,   0,   5,   0],\n",
       "       [  2,   3,   0,   1,   1, 856,   0,  77,  23,  37],\n",
       "       [118,   6,  12,  35, 132,   0, 673,   0,  24,   0],\n",
       "       [  0,   0,   0,   0,   0,  20,   0, 912,   4,  64],\n",
       "       [  6,   2,   0,  15,  13,   6,  29,   3, 925,   1],\n",
       "       [  0,   0,   0,   0,   0,   9,   0,  36,   1, 954]], dtype=int64)"
      ]
     },
     "execution_count": 51,
     "metadata": {},
     "output_type": "execute_result"
    }
   ],
   "source": [
    "confusion_matrix(y_test, y_pred)"
   ]
  },
  {
   "cell_type": "code",
   "execution_count": 52,
   "id": "896c85d3",
   "metadata": {},
   "outputs": [],
   "source": [
    "cnf_matrix = confusion_matrix(y_test, y_pred)"
   ]
  },
  {
   "cell_type": "code",
   "execution_count": 53,
   "id": "5c80a0b5",
   "metadata": {},
   "outputs": [],
   "source": [
    "FP = cnf_matrix.sum(axis=0) - np.diag(cnf_matrix) \n",
    "FN = cnf_matrix.sum(axis=1) - np.diag(cnf_matrix)\n",
    "TP = np.diag(cnf_matrix)\n",
    "TN = cnf_matrix.sum() - (FP + FN + TP)\n",
    "FP = FP.astype(float)\n",
    "FN = FN.astype(float)\n",
    "TP = TP.astype(float)\n",
    "TN = TN.astype(float)\n",
    "\n",
    "avg_FP=0\n",
    "avg_FN=0\n",
    "avg_TP=0\n",
    "avg_TN=0\n",
    "\n",
    "for i in FP:\n",
    "    avg_FP+=i\n",
    "    \n",
    "for i in FN:\n",
    "    avg_FN+=i\n",
    "    \n",
    "for i in TP:\n",
    "    avg_TP+=i\n",
    "\n",
    "for i in TN:\n",
    "    avg_TN+=i\n",
    "    \n",
    "avg_FP = avg_FP/10\n",
    "avg_FN = avg_FN/10\n",
    "avg_TP = avg_TP/10\n",
    "avg_TN = avg_TN/10"
   ]
  },
  {
   "cell_type": "markdown",
   "id": "558c0837",
   "metadata": {},
   "source": [
    "## Accuracy"
   ]
  },
  {
   "cell_type": "code",
   "execution_count": 54,
   "id": "d2cf418f",
   "metadata": {},
   "outputs": [
    {
     "name": "stdout",
     "output_type": "stream",
     "text": [
      "0.7946\n",
      "7946\n"
     ]
    }
   ],
   "source": [
    "from sklearn.metrics import accuracy_score\n",
    "\n",
    "print(accuracy_score(y_test, y_pred))\n",
    "\n",
    "print(accuracy_score(y_test, y_pred, normalize=False))\n",
    "\n",
    "accuracy = accuracy_score(y_test, y_pred)"
   ]
  },
  {
   "cell_type": "markdown",
   "id": "2e7832d2",
   "metadata": {},
   "source": [
    "Same again, lower accuracy compared to that of standard config."
   ]
  },
  {
   "cell_type": "markdown",
   "id": "3b2c415b",
   "metadata": {},
   "source": [
    "## Specificity"
   ]
  },
  {
   "cell_type": "code",
   "execution_count": 55,
   "id": "95a276b5",
   "metadata": {},
   "outputs": [
    {
     "data": {
      "text/plain": [
       "0.9771777777777778"
      ]
     },
     "execution_count": 55,
     "metadata": {},
     "output_type": "execute_result"
    }
   ],
   "source": [
    "avg_TN/(avg_TN+avg_FP)"
   ]
  },
  {
   "cell_type": "markdown",
   "id": "f298912c",
   "metadata": {},
   "source": [
    "## Precision and Recall"
   ]
  },
  {
   "cell_type": "markdown",
   "id": "7fb2da7f",
   "metadata": {},
   "source": [
    "### precision = TP / (TP+FP)"
   ]
  },
  {
   "cell_type": "code",
   "execution_count": 56,
   "id": "b959332b",
   "metadata": {},
   "outputs": [
    {
     "data": {
      "text/plain": [
       "0.7946"
      ]
     },
     "execution_count": 56,
     "metadata": {},
     "output_type": "execute_result"
    }
   ],
   "source": [
    "from sklearn.metrics import precision_score, recall_score\n",
    "\n",
    "precision_score(y_test, y_pred, average='micro')"
   ]
  },
  {
   "cell_type": "markdown",
   "id": "ffa6c10c",
   "metadata": {},
   "source": [
    "### Recall"
   ]
  },
  {
   "cell_type": "code",
   "execution_count": 57,
   "id": "0c0a161b",
   "metadata": {},
   "outputs": [
    {
     "data": {
      "text/plain": [
       "0.7946"
      ]
     },
     "execution_count": 57,
     "metadata": {},
     "output_type": "execute_result"
    }
   ],
   "source": [
    "recall_score(y_test, y_pred, average='micro')"
   ]
  },
  {
   "cell_type": "markdown",
   "id": "b2acf01b",
   "metadata": {},
   "source": [
    "## F1 Score"
   ]
  },
  {
   "cell_type": "code",
   "execution_count": 58,
   "id": "b9898870",
   "metadata": {},
   "outputs": [
    {
     "data": {
      "text/plain": [
       "0.7946000000000001"
      ]
     },
     "execution_count": 58,
     "metadata": {},
     "output_type": "execute_result"
    }
   ],
   "source": [
    "from sklearn.metrics import f1_score\n",
    "\n",
    "f1_score(y_test, y_pred, average='micro')"
   ]
  },
  {
   "cell_type": "markdown",
   "id": "b88407c4",
   "metadata": {},
   "source": [
    "# Multilayer Perceptron | X_train"
   ]
  },
  {
   "cell_type": "markdown",
   "id": "321e6620",
   "metadata": {},
   "source": [
    "## Activiation function = logistic"
   ]
  },
  {
   "cell_type": "markdown",
   "id": "4cb9d858",
   "metadata": {},
   "source": [
    "Input to this activation function is transformed into a float, between 0.0 and 1.0."
   ]
  },
  {
   "cell_type": "code",
   "execution_count": 60,
   "id": "de237c38",
   "metadata": {},
   "outputs": [],
   "source": [
    "clf = MLPClassifier(random_state=1, max_iter=300, activation='logistic').fit(X_train, y_train)\n",
    "y_pred = clf.predict(X_train)"
   ]
  },
  {
   "cell_type": "code",
   "execution_count": 61,
   "id": "9c5e1460",
   "metadata": {},
   "outputs": [
    {
     "data": {
      "text/plain": [
       "array([[5122,   44,  108,  198,   21,    2,  421,    0,   81,    3],\n",
       "       [  41, 5710,   79,  141,   14,    0,   11,    0,    4,    0],\n",
       "       [  93,    8, 3999,   61, 1348,    0,  460,    0,   31,    0],\n",
       "       [ 357,   98,  114, 5104,  221,    1,   88,    0,   17,    0],\n",
       "       [  14,   22,  450,  377, 4587,    0,  517,    0,   33,    0],\n",
       "       [   2,    0,    0,    6,    2, 5382,    0,  382,   20,  206],\n",
       "       [1299,   24,  723,  144,  646,    0, 3049,    1,  113,    1],\n",
       "       [   0,    0,    0,    0,    0,  188,    0, 5588,    8,  216],\n",
       "       [  27,    5,   34,   31,   30,   22,  117,   37, 5695,    2],\n",
       "       [   2,    0,    2,    0,    0,  139,    2,  519,    2, 5334]],\n",
       "      dtype=int64)"
      ]
     },
     "execution_count": 61,
     "metadata": {},
     "output_type": "execute_result"
    }
   ],
   "source": [
    "confusion_matrix(y_train, y_pred)"
   ]
  },
  {
   "cell_type": "code",
   "execution_count": 62,
   "id": "23a38314",
   "metadata": {},
   "outputs": [],
   "source": [
    "cnf_matrix = confusion_matrix(y_train, y_pred)"
   ]
  },
  {
   "cell_type": "code",
   "execution_count": 63,
   "id": "d3685806",
   "metadata": {},
   "outputs": [],
   "source": [
    "FP = cnf_matrix.sum(axis=0) - np.diag(cnf_matrix) \n",
    "FN = cnf_matrix.sum(axis=1) - np.diag(cnf_matrix)\n",
    "TP = np.diag(cnf_matrix)\n",
    "TN = cnf_matrix.sum() - (FP + FN + TP)\n",
    "FP = FP.astype(float)\n",
    "FN = FN.astype(float)\n",
    "TP = TP.astype(float)\n",
    "TN = TN.astype(float)\n",
    "\n",
    "avg_FP=0\n",
    "avg_FN=0\n",
    "avg_TP=0\n",
    "avg_TN=0\n",
    "\n",
    "for i in FP:\n",
    "    avg_FP+=i\n",
    "    \n",
    "for i in FN:\n",
    "    avg_FN+=i\n",
    "    \n",
    "for i in TP:\n",
    "    avg_TP+=i\n",
    "\n",
    "for i in TN:\n",
    "    avg_TN+=i\n",
    "    \n",
    "avg_FP = avg_FP/10\n",
    "avg_FN = avg_FN/10\n",
    "avg_TP = avg_TP/10\n",
    "avg_TN = avg_TN/10"
   ]
  },
  {
   "cell_type": "markdown",
   "id": "330e6a23",
   "metadata": {},
   "source": [
    "## Accuracy"
   ]
  },
  {
   "cell_type": "code",
   "execution_count": 64,
   "id": "1c5686b1",
   "metadata": {},
   "outputs": [
    {
     "name": "stdout",
     "output_type": "stream",
     "text": [
      "0.8261666666666667\n",
      "49570\n"
     ]
    }
   ],
   "source": [
    "from sklearn.metrics import accuracy_score\n",
    "\n",
    "print(accuracy_score(y_train, y_pred))\n",
    "\n",
    "print(accuracy_score(y_train, y_pred, normalize=False))\n",
    "\n",
    "accuracy = accuracy_score(y_train, y_pred)"
   ]
  },
  {
   "cell_type": "markdown",
   "id": "94ec8056",
   "metadata": {},
   "source": [
    "83% accuracy is lower accuracy than the original config of 89%, but higher than identity activation function which had 82% accuracy."
   ]
  },
  {
   "cell_type": "markdown",
   "id": "e7a47e8d",
   "metadata": {},
   "source": [
    "## Specificity"
   ]
  },
  {
   "cell_type": "code",
   "execution_count": 65,
   "id": "9af9d2c9",
   "metadata": {},
   "outputs": [
    {
     "data": {
      "text/plain": [
       "0.9806851851851852"
      ]
     },
     "execution_count": 65,
     "metadata": {},
     "output_type": "execute_result"
    }
   ],
   "source": [
    "avg_TN/(avg_TN+avg_FP)"
   ]
  },
  {
   "cell_type": "markdown",
   "id": "e3caaa2d",
   "metadata": {},
   "source": [
    "## Precision and Recall"
   ]
  },
  {
   "cell_type": "markdown",
   "id": "e5d3d4b0",
   "metadata": {},
   "source": [
    "### precision = TP / (TP+FP)"
   ]
  },
  {
   "cell_type": "code",
   "execution_count": 66,
   "id": "7e73ea19",
   "metadata": {},
   "outputs": [
    {
     "data": {
      "text/plain": [
       "0.8261666666666667"
      ]
     },
     "execution_count": 66,
     "metadata": {},
     "output_type": "execute_result"
    }
   ],
   "source": [
    "from sklearn.metrics import precision_score, recall_score\n",
    "\n",
    "precision_score(y_train, y_pred, average='micro')"
   ]
  },
  {
   "cell_type": "markdown",
   "id": "ebca43bf",
   "metadata": {},
   "source": [
    "### Recall"
   ]
  },
  {
   "cell_type": "code",
   "execution_count": 67,
   "id": "0c38852b",
   "metadata": {},
   "outputs": [
    {
     "data": {
      "text/plain": [
       "0.8261666666666667"
      ]
     },
     "execution_count": 67,
     "metadata": {},
     "output_type": "execute_result"
    }
   ],
   "source": [
    "recall_score(y_train, y_pred, average='micro')"
   ]
  },
  {
   "cell_type": "markdown",
   "id": "261df25b",
   "metadata": {},
   "source": [
    "## F1 Score"
   ]
  },
  {
   "cell_type": "code",
   "execution_count": 68,
   "id": "e8906e17",
   "metadata": {},
   "outputs": [
    {
     "data": {
      "text/plain": [
       "0.8261666666666666"
      ]
     },
     "execution_count": 68,
     "metadata": {},
     "output_type": "execute_result"
    }
   ],
   "source": [
    "from sklearn.metrics import f1_score\n",
    "\n",
    "f1_score(y_train, y_pred, average='micro')"
   ]
  },
  {
   "cell_type": "markdown",
   "id": "05f461d2",
   "metadata": {},
   "source": [
    "# Multilayer Perceptron | X_test"
   ]
  },
  {
   "cell_type": "markdown",
   "id": "7f40b952",
   "metadata": {},
   "source": [
    "## Activiation function = Logistic"
   ]
  },
  {
   "cell_type": "code",
   "execution_count": 69,
   "id": "8383bcad",
   "metadata": {},
   "outputs": [],
   "source": [
    "clf = MLPClassifier(random_state=1, max_iter=300, activation='logistic').fit(X_train, y_train)\n",
    "y_pred = clf.predict(X_test)"
   ]
  },
  {
   "cell_type": "code",
   "execution_count": 70,
   "id": "93667c49",
   "metadata": {},
   "outputs": [
    {
     "data": {
      "text/plain": [
       "array([[860,  12,  16,  22,   7,   0,  66,   0,  17,   0],\n",
       "       [  6, 950,  18,  20,   4,   1,   1,   0,   0,   0],\n",
       "       [ 21,   0, 679,  11, 210,   0,  67,   0,  12,   0],\n",
       "       [ 58,  29,  15, 850,  31,   0,  14,   0,   3,   0],\n",
       "       [  0,   3,  62,  50, 801,   0,  77,   0,   7,   0],\n",
       "       [  0,   0,   0,   1,   0, 863,   0,  75,   7,  54],\n",
       "       [227,  13, 114,  21,  96,   0, 512,   0,  17,   0],\n",
       "       [  0,   0,   0,   0,   0,  41,   0, 919,   0,  40],\n",
       "       [  5,   0,   7,   3,   1,   3,  17,   5, 958,   1],\n",
       "       [  0,   0,   0,   0,   0,  15,   0,  98,   1, 886]], dtype=int64)"
      ]
     },
     "execution_count": 70,
     "metadata": {},
     "output_type": "execute_result"
    }
   ],
   "source": [
    "confusion_matrix(y_test, y_pred)"
   ]
  },
  {
   "cell_type": "code",
   "execution_count": 71,
   "id": "ba66225c",
   "metadata": {},
   "outputs": [],
   "source": [
    "cnf_matrix = confusion_matrix(y_test, y_pred)"
   ]
  },
  {
   "cell_type": "code",
   "execution_count": 72,
   "id": "0945175c",
   "metadata": {},
   "outputs": [],
   "source": [
    "FP = cnf_matrix.sum(axis=0) - np.diag(cnf_matrix) \n",
    "FN = cnf_matrix.sum(axis=1) - np.diag(cnf_matrix)\n",
    "TP = np.diag(cnf_matrix)\n",
    "TN = cnf_matrix.sum() - (FP + FN + TP)\n",
    "FP = FP.astype(float)\n",
    "FN = FN.astype(float)\n",
    "TP = TP.astype(float)\n",
    "TN = TN.astype(float)\n",
    "\n",
    "avg_FP=0\n",
    "avg_FN=0\n",
    "avg_TP=0\n",
    "avg_TN=0\n",
    "\n",
    "for i in FP:\n",
    "    avg_FP+=i\n",
    "    \n",
    "for i in FN:\n",
    "    avg_FN+=i\n",
    "    \n",
    "for i in TP:\n",
    "    avg_TP+=i\n",
    "\n",
    "for i in TN:\n",
    "    avg_TN+=i\n",
    "    \n",
    "avg_FP = avg_FP/10\n",
    "avg_FN = avg_FN/10\n",
    "avg_TP = avg_TP/10\n",
    "avg_TN = avg_TN/10"
   ]
  },
  {
   "cell_type": "markdown",
   "id": "87ac66db",
   "metadata": {},
   "source": [
    "## Accuracy"
   ]
  },
  {
   "cell_type": "code",
   "execution_count": 73,
   "id": "9381770f",
   "metadata": {},
   "outputs": [
    {
     "name": "stdout",
     "output_type": "stream",
     "text": [
      "0.8278\n",
      "8278\n"
     ]
    }
   ],
   "source": [
    "from sklearn.metrics import accuracy_score\n",
    "\n",
    "print(accuracy_score(y_test, y_pred))\n",
    "\n",
    "print(accuracy_score(y_test, y_pred, normalize=False))\n",
    "\n",
    "accuracy = accuracy_score(y_test, y_pred)"
   ]
  },
  {
   "cell_type": "markdown",
   "id": "ba385d98",
   "metadata": {},
   "source": [
    "83% is lower than original config again of 86% with the test set, identity function accuracy for test set was 79% so an improvement in comparison there."
   ]
  },
  {
   "cell_type": "markdown",
   "id": "6dc9a348",
   "metadata": {},
   "source": [
    "## Specificity"
   ]
  },
  {
   "cell_type": "code",
   "execution_count": 74,
   "id": "4dadcc0f",
   "metadata": {},
   "outputs": [
    {
     "data": {
      "text/plain": [
       "0.9808666666666666"
      ]
     },
     "execution_count": 74,
     "metadata": {},
     "output_type": "execute_result"
    }
   ],
   "source": [
    "avg_TN/(avg_TN+avg_FP)"
   ]
  },
  {
   "cell_type": "markdown",
   "id": "42775c8c",
   "metadata": {},
   "source": [
    "## Precision and Recall"
   ]
  },
  {
   "cell_type": "markdown",
   "id": "8d0717a9",
   "metadata": {},
   "source": [
    "### precision = TP / (TP+FP)"
   ]
  },
  {
   "cell_type": "code",
   "execution_count": 75,
   "id": "91a0c371",
   "metadata": {},
   "outputs": [
    {
     "data": {
      "text/plain": [
       "0.8278"
      ]
     },
     "execution_count": 75,
     "metadata": {},
     "output_type": "execute_result"
    }
   ],
   "source": [
    "from sklearn.metrics import precision_score, recall_score\n",
    "\n",
    "precision_score(y_test, y_pred, average='micro')"
   ]
  },
  {
   "cell_type": "markdown",
   "id": "d6985f5c",
   "metadata": {},
   "source": [
    "### Recall"
   ]
  },
  {
   "cell_type": "code",
   "execution_count": 76,
   "id": "1115cecc",
   "metadata": {},
   "outputs": [
    {
     "data": {
      "text/plain": [
       "0.8278"
      ]
     },
     "execution_count": 76,
     "metadata": {},
     "output_type": "execute_result"
    }
   ],
   "source": [
    "recall_score(y_test, y_pred, average='micro')"
   ]
  },
  {
   "cell_type": "markdown",
   "id": "541651c3",
   "metadata": {},
   "source": [
    "## F1 Score"
   ]
  },
  {
   "cell_type": "code",
   "execution_count": 77,
   "id": "662c08e2",
   "metadata": {},
   "outputs": [
    {
     "data": {
      "text/plain": [
       "0.8278"
      ]
     },
     "execution_count": 77,
     "metadata": {},
     "output_type": "execute_result"
    }
   ],
   "source": [
    "from sklearn.metrics import f1_score\n",
    "\n",
    "f1_score(y_test, y_pred, average='micro')"
   ]
  },
  {
   "cell_type": "markdown",
   "id": "2b184cb1",
   "metadata": {},
   "source": [
    "# Multilayer Perceptron | X_train"
   ]
  },
  {
   "cell_type": "markdown",
   "id": "ae2160a2",
   "metadata": {},
   "source": [
    "## Activiation function = tanh"
   ]
  },
  {
   "cell_type": "markdown",
   "id": "74e7e037",
   "metadata": {},
   "source": [
    "Takes any real value as input and outputs a value in the range of -1 to 1."
   ]
  },
  {
   "cell_type": "code",
   "execution_count": 78,
   "id": "f66ee2ef",
   "metadata": {},
   "outputs": [],
   "source": [
    "clf = MLPClassifier(random_state=1, max_iter=300, activation='tanh').fit(X_train, y_train)\n",
    "y_pred = clf.predict(X_train)"
   ]
  },
  {
   "cell_type": "code",
   "execution_count": 79,
   "id": "ccb289c1",
   "metadata": {},
   "outputs": [
    {
     "data": {
      "text/plain": [
       "array([[4530,   46,   58,  682,   10,    2,  632,    0,   40,    0],\n",
       "       [  17, 5720,   35,  134,    2,    0,   90,    0,    2,    0],\n",
       "       [  25,   11, 4609,   54,  701,    0,  578,    0,   22,    0],\n",
       "       [ 140,  187,  155, 5085,  274,    0,  149,    0,   10,    0],\n",
       "       [  13,   64, 1215,  213, 3996,    0,  481,    0,   18,    0],\n",
       "       [   4,    0,    2,    6,    1, 5333,    4,  256,   41,  353],\n",
       "       [ 993,   20,  830,  454,  725,    2, 2895,    0,   81,    0],\n",
       "       [   0,    0,    0,    0,    0,  277,    0, 5211,    8,  504],\n",
       "       [  15,    6,   67,   36,   47,   20,  262,   25, 5515,    7],\n",
       "       [   2,    0,    1,    1,    0,  183,    6,  245,    5, 5557]],\n",
       "      dtype=int64)"
      ]
     },
     "execution_count": 79,
     "metadata": {},
     "output_type": "execute_result"
    }
   ],
   "source": [
    "confusion_matrix(y_train, y_pred)"
   ]
  },
  {
   "cell_type": "code",
   "execution_count": 80,
   "id": "49ea062b",
   "metadata": {},
   "outputs": [],
   "source": [
    "cnf_matrix = confusion_matrix(y_train, y_pred)"
   ]
  },
  {
   "cell_type": "code",
   "execution_count": 81,
   "id": "0aafef73",
   "metadata": {},
   "outputs": [],
   "source": [
    "FP = cnf_matrix.sum(axis=0) - np.diag(cnf_matrix) \n",
    "FN = cnf_matrix.sum(axis=1) - np.diag(cnf_matrix)\n",
    "TP = np.diag(cnf_matrix)\n",
    "TN = cnf_matrix.sum() - (FP + FN + TP)\n",
    "FP = FP.astype(float)\n",
    "FN = FN.astype(float)\n",
    "TP = TP.astype(float)\n",
    "TN = TN.astype(float)\n",
    "\n",
    "avg_FP=0\n",
    "avg_FN=0\n",
    "avg_TP=0\n",
    "avg_TN=0\n",
    "\n",
    "for i in FP:\n",
    "    avg_FP+=i\n",
    "    \n",
    "for i in FN:\n",
    "    avg_FN+=i\n",
    "    \n",
    "for i in TP:\n",
    "    avg_TP+=i\n",
    "\n",
    "for i in TN:\n",
    "    avg_TN+=i\n",
    "    \n",
    "avg_FP = avg_FP/10\n",
    "avg_FN = avg_FN/10\n",
    "avg_TP = avg_TP/10\n",
    "avg_TN = avg_TN/10"
   ]
  },
  {
   "cell_type": "markdown",
   "id": "47d46c50",
   "metadata": {},
   "source": [
    "## Accuracy"
   ]
  },
  {
   "cell_type": "code",
   "execution_count": 82,
   "id": "5f0536ed",
   "metadata": {},
   "outputs": [
    {
     "name": "stdout",
     "output_type": "stream",
     "text": [
      "0.8075166666666667\n",
      "48451\n"
     ]
    }
   ],
   "source": [
    "from sklearn.metrics import accuracy_score\n",
    "\n",
    "print(accuracy_score(y_train, y_pred))\n",
    "\n",
    "print(accuracy_score(y_train, y_pred, normalize=False))\n",
    "\n",
    "accuracy = accuracy_score(y_train, y_pred)"
   ]
  },
  {
   "cell_type": "markdown",
   "id": "5c79ed79",
   "metadata": {},
   "source": [
    "tanh activation function returns 81% accuracy, so the worst out of all of them. Logistic had 83% accuracy, original config of 89%, identity activation function had 82% accuracy."
   ]
  },
  {
   "cell_type": "markdown",
   "id": "d744d535",
   "metadata": {},
   "source": [
    "## Specificity"
   ]
  },
  {
   "cell_type": "code",
   "execution_count": 83,
   "id": "2aa64bac",
   "metadata": {},
   "outputs": [
    {
     "data": {
      "text/plain": [
       "0.978612962962963"
      ]
     },
     "execution_count": 83,
     "metadata": {},
     "output_type": "execute_result"
    }
   ],
   "source": [
    "avg_TN/(avg_TN+avg_FP)"
   ]
  },
  {
   "cell_type": "markdown",
   "id": "3508f7ea",
   "metadata": {},
   "source": [
    "## Precision and Recall"
   ]
  },
  {
   "cell_type": "markdown",
   "id": "6db46550",
   "metadata": {},
   "source": [
    "### precision = TP / (TP+FP)"
   ]
  },
  {
   "cell_type": "code",
   "execution_count": 84,
   "id": "e5bb41c9",
   "metadata": {},
   "outputs": [
    {
     "data": {
      "text/plain": [
       "0.8075166666666667"
      ]
     },
     "execution_count": 84,
     "metadata": {},
     "output_type": "execute_result"
    }
   ],
   "source": [
    "from sklearn.metrics import precision_score, recall_score\n",
    "\n",
    "precision_score(y_train, y_pred, average='micro')"
   ]
  },
  {
   "cell_type": "markdown",
   "id": "85b67f2f",
   "metadata": {},
   "source": [
    "### Recall"
   ]
  },
  {
   "cell_type": "code",
   "execution_count": 85,
   "id": "d542daa3",
   "metadata": {},
   "outputs": [
    {
     "data": {
      "text/plain": [
       "0.8075166666666667"
      ]
     },
     "execution_count": 85,
     "metadata": {},
     "output_type": "execute_result"
    }
   ],
   "source": [
    "recall_score(y_train, y_pred, average='micro')"
   ]
  },
  {
   "cell_type": "markdown",
   "id": "119f738a",
   "metadata": {},
   "source": [
    "## F1 Score"
   ]
  },
  {
   "cell_type": "code",
   "execution_count": 86,
   "id": "3ba884d1",
   "metadata": {},
   "outputs": [
    {
     "data": {
      "text/plain": [
       "0.8075166666666667"
      ]
     },
     "execution_count": 86,
     "metadata": {},
     "output_type": "execute_result"
    }
   ],
   "source": [
    "from sklearn.metrics import f1_score\n",
    "\n",
    "f1_score(y_train, y_pred, average='micro')"
   ]
  },
  {
   "cell_type": "markdown",
   "id": "955679a2",
   "metadata": {},
   "source": [
    "# Multilayer Perceptron | X_test"
   ]
  },
  {
   "cell_type": "markdown",
   "id": "2e2a2940",
   "metadata": {},
   "source": [
    "## Activiation function = tanh"
   ]
  },
  {
   "cell_type": "code",
   "execution_count": 87,
   "id": "b47a576c",
   "metadata": {},
   "outputs": [],
   "source": [
    "clf = MLPClassifier(random_state=1, max_iter=300, activation='tanh').fit(X_train, y_train)\n",
    "y_pred = clf.predict(X_test)"
   ]
  },
  {
   "cell_type": "code",
   "execution_count": 88,
   "id": "30df3f30",
   "metadata": {},
   "outputs": [
    {
     "data": {
      "text/plain": [
       "array([[741,   8,  15, 121,   2,   1, 103,   0,   9,   0],\n",
       "       [  0, 954,   7,  18,   0,   0,  21,   0,   0,   0],\n",
       "       [  5,   1, 768,  13, 121,   0,  84,   0,   8,   0],\n",
       "       [ 19,  42,  28, 856,  35,   0,  19,   0,   1,   0],\n",
       "       [  3,  11, 196,  32, 672,   0,  82,   0,   4,   0],\n",
       "       [  2,   0,   1,   1,   1, 865,   0,  52,  10,  68],\n",
       "       [169,   4, 118,  88, 115,   0, 491,   0,  15,   0],\n",
       "       [  0,   0,   0,   0,   0,  38,   0, 849,   0, 113],\n",
       "       [  2,   0,  21,   2,   6,   4,  41,   3, 919,   2],\n",
       "       [  0,   0,   0,   0,   0,  34,   1,  54,   1, 910]], dtype=int64)"
      ]
     },
     "execution_count": 88,
     "metadata": {},
     "output_type": "execute_result"
    }
   ],
   "source": [
    "confusion_matrix(y_test, y_pred)"
   ]
  },
  {
   "cell_type": "code",
   "execution_count": 89,
   "id": "2fa06b88",
   "metadata": {},
   "outputs": [],
   "source": [
    "cnf_matrix = confusion_matrix(y_test, y_pred)"
   ]
  },
  {
   "cell_type": "code",
   "execution_count": 90,
   "id": "b75c7898",
   "metadata": {},
   "outputs": [],
   "source": [
    "FP = cnf_matrix.sum(axis=0) - np.diag(cnf_matrix) \n",
    "FN = cnf_matrix.sum(axis=1) - np.diag(cnf_matrix)\n",
    "TP = np.diag(cnf_matrix)\n",
    "TN = cnf_matrix.sum() - (FP + FN + TP)\n",
    "FP = FP.astype(float)\n",
    "FN = FN.astype(float)\n",
    "TP = TP.astype(float)\n",
    "TN = TN.astype(float)\n",
    "\n",
    "avg_FP=0\n",
    "avg_FN=0\n",
    "avg_TP=0\n",
    "avg_TN=0\n",
    "\n",
    "for i in FP:\n",
    "    avg_FP+=i\n",
    "    \n",
    "for i in FN:\n",
    "    avg_FN+=i\n",
    "    \n",
    "for i in TP:\n",
    "    avg_TP+=i\n",
    "\n",
    "for i in TN:\n",
    "    avg_TN+=i\n",
    "    \n",
    "avg_FP = avg_FP/10\n",
    "avg_FN = avg_FN/10\n",
    "avg_TP = avg_TP/10\n",
    "avg_TN = avg_TN/10"
   ]
  },
  {
   "cell_type": "markdown",
   "id": "6d1f1a27",
   "metadata": {},
   "source": [
    "## Accuracy"
   ]
  },
  {
   "cell_type": "code",
   "execution_count": 91,
   "id": "f72f532d",
   "metadata": {},
   "outputs": [
    {
     "name": "stdout",
     "output_type": "stream",
     "text": [
      "0.8025\n",
      "8025\n"
     ]
    }
   ],
   "source": [
    "from sklearn.metrics import accuracy_score\n",
    "\n",
    "print(accuracy_score(y_test, y_pred))\n",
    "\n",
    "print(accuracy_score(y_test, y_pred, normalize=False))\n",
    "\n",
    "accuracy = accuracy_score(y_test, y_pred)"
   ]
  },
  {
   "cell_type": "markdown",
   "id": "f56a8a3e",
   "metadata": {},
   "source": [
    "tanh has 80% accuracy on the test set, slightly better than the identity function but still way behind the other two. logistic had 83%, original config 86%, identity function accuracy for test set was 79%."
   ]
  },
  {
   "cell_type": "markdown",
   "id": "5880df0b",
   "metadata": {},
   "source": [
    "## Specificity"
   ]
  },
  {
   "cell_type": "code",
   "execution_count": 92,
   "id": "869310f2",
   "metadata": {},
   "outputs": [
    {
     "data": {
      "text/plain": [
       "0.9780555555555556"
      ]
     },
     "execution_count": 92,
     "metadata": {},
     "output_type": "execute_result"
    }
   ],
   "source": [
    "avg_TN/(avg_TN+avg_FP)"
   ]
  },
  {
   "cell_type": "markdown",
   "id": "e3a4003b",
   "metadata": {},
   "source": [
    "## Precision and Recall"
   ]
  },
  {
   "cell_type": "markdown",
   "id": "46d4ef3a",
   "metadata": {},
   "source": [
    "### precision = TP / (TP+FP)"
   ]
  },
  {
   "cell_type": "code",
   "execution_count": 93,
   "id": "1a57c912",
   "metadata": {},
   "outputs": [
    {
     "data": {
      "text/plain": [
       "0.8025"
      ]
     },
     "execution_count": 93,
     "metadata": {},
     "output_type": "execute_result"
    }
   ],
   "source": [
    "from sklearn.metrics import precision_score, recall_score\n",
    "\n",
    "precision_score(y_test, y_pred, average='micro')"
   ]
  },
  {
   "cell_type": "markdown",
   "id": "6793c9a3",
   "metadata": {},
   "source": [
    "### Recall"
   ]
  },
  {
   "cell_type": "code",
   "execution_count": 94,
   "id": "2365854d",
   "metadata": {},
   "outputs": [
    {
     "data": {
      "text/plain": [
       "0.8025"
      ]
     },
     "execution_count": 94,
     "metadata": {},
     "output_type": "execute_result"
    }
   ],
   "source": [
    "recall_score(y_test, y_pred, average='micro')"
   ]
  },
  {
   "cell_type": "markdown",
   "id": "ee81f5a9",
   "metadata": {},
   "source": [
    "## F1 Score"
   ]
  },
  {
   "cell_type": "code",
   "execution_count": 95,
   "id": "e5c876a9",
   "metadata": {},
   "outputs": [
    {
     "data": {
      "text/plain": [
       "0.8025"
      ]
     },
     "execution_count": 95,
     "metadata": {},
     "output_type": "execute_result"
    }
   ],
   "source": [
    "from sklearn.metrics import f1_score\n",
    "\n",
    "f1_score(y_test, y_pred, average='micro')"
   ]
  },
  {
   "cell_type": "markdown",
   "id": "34ed06c7",
   "metadata": {},
   "source": [
    "# Multilayer Perceptron | X_train"
   ]
  },
  {
   "cell_type": "markdown",
   "id": "c106f898",
   "metadata": {},
   "source": [
    "## Number and Size of Layers"
   ]
  },
  {
   "cell_type": "markdown",
   "id": "32e63384",
   "metadata": {},
   "source": [
    "## Default = 1 hidden layer of 100 units"
   ]
  },
  {
   "cell_type": "markdown",
   "id": "e02f1406",
   "metadata": {},
   "source": [
    "### 3 hidden layers with 200 hidden units each"
   ]
  },
  {
   "cell_type": "code",
   "execution_count": 96,
   "id": "05ccffdc",
   "metadata": {},
   "outputs": [],
   "source": [
    "clf = MLPClassifier(random_state=1, max_iter=300, hidden_layer_sizes=(200,200,200)).fit(X_train, y_train)\n",
    "y_pred = clf.predict(X_train)"
   ]
  },
  {
   "cell_type": "code",
   "execution_count": 97,
   "id": "01b6fb85",
   "metadata": {},
   "outputs": [
    {
     "data": {
      "text/plain": [
       "array([[5759,    2,   19,   33,    2,    0,  180,    0,    5,    0],\n",
       "       [   0, 5992,    1,    6,    0,    0,    0,    0,    1,    0],\n",
       "       [  20,    1, 5717,   20,  179,    0,   62,    0,    1,    0],\n",
       "       [  24,    2,    4, 5893,   54,    0,   20,    0,    3,    0],\n",
       "       [   3,    0,  334,   78, 5488,    0,   95,    0,    2,    0],\n",
       "       [   0,    0,    0,    0,    0, 5996,    0,    1,    0,    3],\n",
       "       [ 293,    0,  233,   41,  113,    0, 5311,    0,    9,    0],\n",
       "       [   0,    0,    0,    0,    0,    1,    0, 5974,    0,   25],\n",
       "       [   0,    1,    3,    0,    0,    3,    6,    7, 5980,    0],\n",
       "       [   0,    0,    0,    0,    0,    1,    0,   17,    0, 5982]],\n",
       "      dtype=int64)"
      ]
     },
     "execution_count": 97,
     "metadata": {},
     "output_type": "execute_result"
    }
   ],
   "source": [
    "confusion_matrix(y_train, y_pred)"
   ]
  },
  {
   "cell_type": "markdown",
   "id": "84b0ae7b",
   "metadata": {},
   "source": [
    "5996 TP / 6000 TP for class 5!"
   ]
  },
  {
   "cell_type": "code",
   "execution_count": 98,
   "id": "9607fef5",
   "metadata": {},
   "outputs": [],
   "source": [
    "cnf_matrix = confusion_matrix(y_train, y_pred)"
   ]
  },
  {
   "cell_type": "code",
   "execution_count": 99,
   "id": "e51efdd9",
   "metadata": {},
   "outputs": [],
   "source": [
    "FP = cnf_matrix.sum(axis=0) - np.diag(cnf_matrix) \n",
    "FN = cnf_matrix.sum(axis=1) - np.diag(cnf_matrix)\n",
    "TP = np.diag(cnf_matrix)\n",
    "TN = cnf_matrix.sum() - (FP + FN + TP)\n",
    "FP = FP.astype(float)\n",
    "FN = FN.astype(float)\n",
    "TP = TP.astype(float)\n",
    "TN = TN.astype(float)\n",
    "\n",
    "avg_FP=0\n",
    "avg_FN=0\n",
    "avg_TP=0\n",
    "avg_TN=0\n",
    "\n",
    "for i in FP:\n",
    "    avg_FP+=i\n",
    "    \n",
    "for i in FN:\n",
    "    avg_FN+=i\n",
    "    \n",
    "for i in TP:\n",
    "    avg_TP+=i\n",
    "\n",
    "for i in TN:\n",
    "    avg_TN+=i\n",
    "    \n",
    "avg_FP = avg_FP/10\n",
    "avg_FN = avg_FN/10\n",
    "avg_TP = avg_TP/10\n",
    "avg_TN = avg_TN/10"
   ]
  },
  {
   "cell_type": "markdown",
   "id": "cecde97a",
   "metadata": {},
   "source": [
    "## Accuracy"
   ]
  },
  {
   "cell_type": "code",
   "execution_count": 100,
   "id": "fd3d5a04",
   "metadata": {},
   "outputs": [
    {
     "name": "stdout",
     "output_type": "stream",
     "text": [
      "0.9682\n",
      "58092\n"
     ]
    }
   ],
   "source": [
    "from sklearn.metrics import accuracy_score\n",
    "\n",
    "print(accuracy_score(y_train, y_pred))\n",
    "\n",
    "print(accuracy_score(y_train, y_pred, normalize=False))\n",
    "\n",
    "accuracy = accuracy_score(y_train, y_pred)"
   ]
  },
  {
   "cell_type": "markdown",
   "id": "ea2bbe59",
   "metadata": {},
   "source": [
    "97% accuracy, seems great so far. Original config had 89%"
   ]
  },
  {
   "cell_type": "markdown",
   "id": "799df2ca",
   "metadata": {},
   "source": [
    "## Specificity"
   ]
  },
  {
   "cell_type": "code",
   "execution_count": 101,
   "id": "b025418a",
   "metadata": {},
   "outputs": [
    {
     "data": {
      "text/plain": [
       "0.9964666666666666"
      ]
     },
     "execution_count": 101,
     "metadata": {},
     "output_type": "execute_result"
    }
   ],
   "source": [
    "avg_TN/(avg_TN+avg_FP)"
   ]
  },
  {
   "cell_type": "markdown",
   "id": "fc313438",
   "metadata": {},
   "source": [
    "Super low amount of fps"
   ]
  },
  {
   "cell_type": "markdown",
   "id": "9bd2f2d3",
   "metadata": {},
   "source": [
    "## Precision and Recall"
   ]
  },
  {
   "cell_type": "markdown",
   "id": "cd787f70",
   "metadata": {},
   "source": [
    "### precision = TP / (TP+FP)"
   ]
  },
  {
   "cell_type": "code",
   "execution_count": 102,
   "id": "5d0774d5",
   "metadata": {},
   "outputs": [
    {
     "data": {
      "text/plain": [
       "0.9682"
      ]
     },
     "execution_count": 102,
     "metadata": {},
     "output_type": "execute_result"
    }
   ],
   "source": [
    "from sklearn.metrics import precision_score, recall_score\n",
    "\n",
    "precision_score(y_train, y_pred, average='micro')"
   ]
  },
  {
   "cell_type": "markdown",
   "id": "0a86226f",
   "metadata": {},
   "source": [
    "### Recall"
   ]
  },
  {
   "cell_type": "code",
   "execution_count": 103,
   "id": "6ddeacf6",
   "metadata": {},
   "outputs": [
    {
     "data": {
      "text/plain": [
       "0.9682"
      ]
     },
     "execution_count": 103,
     "metadata": {},
     "output_type": "execute_result"
    }
   ],
   "source": [
    "recall_score(y_train, y_pred, average='micro')"
   ]
  },
  {
   "cell_type": "markdown",
   "id": "6de2dda3",
   "metadata": {},
   "source": [
    "## F1 Score"
   ]
  },
  {
   "cell_type": "code",
   "execution_count": 104,
   "id": "c9741b44",
   "metadata": {},
   "outputs": [
    {
     "data": {
      "text/plain": [
       "0.9682"
      ]
     },
     "execution_count": 104,
     "metadata": {},
     "output_type": "execute_result"
    }
   ],
   "source": [
    "from sklearn.metrics import f1_score\n",
    "\n",
    "f1_score(y_train, y_pred, average='micro')"
   ]
  },
  {
   "cell_type": "markdown",
   "id": "1dd69721",
   "metadata": {},
   "source": [
    "# Multilayer Perceptron | X_test"
   ]
  },
  {
   "cell_type": "markdown",
   "id": "17bcc7ec",
   "metadata": {},
   "source": [
    "## Number and Size of Layers"
   ]
  },
  {
   "cell_type": "markdown",
   "id": "4e733200",
   "metadata": {},
   "source": [
    "### 3 hidden layers with 200 hidden units each"
   ]
  },
  {
   "cell_type": "code",
   "execution_count": 106,
   "id": "3ee4fdb8",
   "metadata": {},
   "outputs": [],
   "source": [
    "clf = MLPClassifier(random_state=1, max_iter=300, hidden_layer_sizes=(200,200,200)).fit(X_train, y_train)\n",
    "y_pred = clf.predict(X_test)"
   ]
  },
  {
   "cell_type": "code",
   "execution_count": 107,
   "id": "528890f6",
   "metadata": {},
   "outputs": [
    {
     "data": {
      "text/plain": [
       "array([[848,   2,  25,  18,   1,   1,  97,   0,   8,   0],\n",
       "       [  3, 983,   0,  11,   0,   0,   2,   0,   1,   0],\n",
       "       [ 18,   1, 840,  12,  71,   0,  52,   0,   6,   0],\n",
       "       [ 20,  12,  11, 911,  22,   0,  18,   1,   5,   0],\n",
       "       [  2,   0,  96,  28, 823,   0,  48,   0,   3,   0],\n",
       "       [  0,   0,   1,   0,   0, 955,   0,  25,   0,  19],\n",
       "       [137,   2,  89,  26,  57,   0, 673,   0,  16,   0],\n",
       "       [  0,   0,   0,   0,   1,  12,   0, 951,   0,  36],\n",
       "       [  3,   1,   3,   4,   2,   6,   7,   8, 965,   1],\n",
       "       [  0,   0,   0,   0,   0,   3,   0,  37,   0, 960]], dtype=int64)"
      ]
     },
     "execution_count": 107,
     "metadata": {},
     "output_type": "execute_result"
    }
   ],
   "source": [
    "confusion_matrix(y_test, y_pred)"
   ]
  },
  {
   "cell_type": "code",
   "execution_count": 108,
   "id": "446c2684",
   "metadata": {},
   "outputs": [],
   "source": [
    "cnf_matrix = confusion_matrix(y_test, y_pred)"
   ]
  },
  {
   "cell_type": "code",
   "execution_count": 109,
   "id": "0278ee26",
   "metadata": {},
   "outputs": [],
   "source": [
    "FP = cnf_matrix.sum(axis=0) - np.diag(cnf_matrix) \n",
    "FN = cnf_matrix.sum(axis=1) - np.diag(cnf_matrix)\n",
    "TP = np.diag(cnf_matrix)\n",
    "TN = cnf_matrix.sum() - (FP + FN + TP)\n",
    "FP = FP.astype(float)\n",
    "FN = FN.astype(float)\n",
    "TP = TP.astype(float)\n",
    "TN = TN.astype(float)\n",
    "\n",
    "avg_FP=0\n",
    "avg_FN=0\n",
    "avg_TP=0\n",
    "avg_TN=0\n",
    "\n",
    "for i in FP:\n",
    "    avg_FP+=i\n",
    "    \n",
    "for i in FN:\n",
    "    avg_FN+=i\n",
    "    \n",
    "for i in TP:\n",
    "    avg_TP+=i\n",
    "\n",
    "for i in TN:\n",
    "    avg_TN+=i\n",
    "    \n",
    "avg_FP = avg_FP/10\n",
    "avg_FN = avg_FN/10\n",
    "avg_TP = avg_TP/10\n",
    "avg_TN = avg_TN/10"
   ]
  },
  {
   "cell_type": "markdown",
   "id": "05d27892",
   "metadata": {},
   "source": [
    "## Accuracy"
   ]
  },
  {
   "cell_type": "code",
   "execution_count": 110,
   "id": "35322e1c",
   "metadata": {},
   "outputs": [
    {
     "name": "stdout",
     "output_type": "stream",
     "text": [
      "0.8909\n",
      "8909\n"
     ]
    }
   ],
   "source": [
    "from sklearn.metrics import accuracy_score\n",
    "\n",
    "print(accuracy_score(y_test, y_pred))\n",
    "\n",
    "print(accuracy_score(y_test, y_pred, normalize=False))\n",
    "\n",
    "accuracy = accuracy_score(y_test, y_pred)"
   ]
  },
  {
   "cell_type": "markdown",
   "id": "32953513",
   "metadata": {},
   "source": [
    "86% accuracy on the original config for x_test, here it got 89%, an improvement in generalization too."
   ]
  },
  {
   "cell_type": "markdown",
   "id": "c6e00068",
   "metadata": {},
   "source": [
    "## Specificity"
   ]
  },
  {
   "cell_type": "code",
   "execution_count": 111,
   "id": "9122c944",
   "metadata": {},
   "outputs": [
    {
     "data": {
      "text/plain": [
       "0.9878777777777777"
      ]
     },
     "execution_count": 111,
     "metadata": {},
     "output_type": "execute_result"
    }
   ],
   "source": [
    "avg_TN/(avg_TN+avg_FP)"
   ]
  },
  {
   "cell_type": "markdown",
   "id": "cf7af278",
   "metadata": {},
   "source": [
    "## Precision and Recall"
   ]
  },
  {
   "cell_type": "markdown",
   "id": "415f47a1",
   "metadata": {},
   "source": [
    "### precision = TP / (TP+FP)"
   ]
  },
  {
   "cell_type": "code",
   "execution_count": 112,
   "id": "3ac3c07d",
   "metadata": {},
   "outputs": [
    {
     "data": {
      "text/plain": [
       "0.8909"
      ]
     },
     "execution_count": 112,
     "metadata": {},
     "output_type": "execute_result"
    }
   ],
   "source": [
    "from sklearn.metrics import precision_score, recall_score\n",
    "\n",
    "precision_score(y_test, y_pred, average='micro')"
   ]
  },
  {
   "cell_type": "markdown",
   "id": "b92bee8b",
   "metadata": {},
   "source": [
    "### Recall"
   ]
  },
  {
   "cell_type": "code",
   "execution_count": 113,
   "id": "18a63bba",
   "metadata": {},
   "outputs": [
    {
     "data": {
      "text/plain": [
       "0.8909"
      ]
     },
     "execution_count": 113,
     "metadata": {},
     "output_type": "execute_result"
    }
   ],
   "source": [
    "recall_score(y_test, y_pred, average='micro')"
   ]
  },
  {
   "cell_type": "markdown",
   "id": "0c7eb9b8",
   "metadata": {},
   "source": [
    "## F1 Score"
   ]
  },
  {
   "cell_type": "code",
   "execution_count": 114,
   "id": "63181673",
   "metadata": {},
   "outputs": [
    {
     "data": {
      "text/plain": [
       "0.8909"
      ]
     },
     "execution_count": 114,
     "metadata": {},
     "output_type": "execute_result"
    }
   ],
   "source": [
    "from sklearn.metrics import f1_score\n",
    "\n",
    "f1_score(y_test, y_pred, average='micro')"
   ]
  },
  {
   "cell_type": "markdown",
   "id": "0885e103",
   "metadata": {},
   "source": [
    "# Multilayer Perceptron | X_train"
   ]
  },
  {
   "cell_type": "markdown",
   "id": "80e916be",
   "metadata": {},
   "source": [
    "## Number and Size of Layers"
   ]
  },
  {
   "cell_type": "markdown",
   "id": "8bb28683",
   "metadata": {},
   "source": [
    "### 5 hidden layers with 5 hidden units each"
   ]
  },
  {
   "cell_type": "code",
   "execution_count": 115,
   "id": "eac23457",
   "metadata": {},
   "outputs": [],
   "source": [
    "clf = MLPClassifier(random_state=1, max_iter=300, hidden_layer_sizes=(5,5,5,5,5)).fit(X_train, y_train)\n",
    "y_pred = clf.predict(X_train)"
   ]
  },
  {
   "cell_type": "code",
   "execution_count": 116,
   "id": "29b73b14",
   "metadata": {},
   "outputs": [
    {
     "data": {
      "text/plain": [
       "array([[4693,    7,   66,  480,   58,    1,  650,    0,   45,    0],\n",
       "       [   0, 5749,   33,  170,   37,    0,   11,    0,    0,    0],\n",
       "       [  62,    9, 5191,   64,  314,    0,  353,    0,    7,    0],\n",
       "       [ 166,   73,   71, 5285,  171,    0,  234,    0,    0,    0],\n",
       "       [   8,   24, 4015,  234,  767,    0,  937,    0,   15,    0],\n",
       "       [   0,   12,    0,    1,    2, 5648,   10,  168,   11,  148],\n",
       "       [1177,    7, 1037,  203,  299,    0, 3159,    0,  117,    1],\n",
       "       [   0,    0,    0,    1,    0,   68,    3, 5741,    3,  184],\n",
       "       [  31,    0,   44,   15,   17,   43,  298,   11, 5538,    3],\n",
       "       [   0,    1,    0,    0,    1,   26,    0,  123,    0, 5849]],\n",
       "      dtype=int64)"
      ]
     },
     "execution_count": 116,
     "metadata": {},
     "output_type": "execute_result"
    }
   ],
   "source": [
    "confusion_matrix(y_train, y_pred)"
   ]
  },
  {
   "cell_type": "code",
   "execution_count": 117,
   "id": "83600c7f",
   "metadata": {},
   "outputs": [],
   "source": [
    "cnf_matrix = confusion_matrix(y_train, y_pred)"
   ]
  },
  {
   "cell_type": "code",
   "execution_count": 118,
   "id": "75f470d6",
   "metadata": {},
   "outputs": [],
   "source": [
    "FP = cnf_matrix.sum(axis=0) - np.diag(cnf_matrix) \n",
    "FN = cnf_matrix.sum(axis=1) - np.diag(cnf_matrix)\n",
    "TP = np.diag(cnf_matrix)\n",
    "TN = cnf_matrix.sum() - (FP + FN + TP)\n",
    "FP = FP.astype(float)\n",
    "FN = FN.astype(float)\n",
    "TP = TP.astype(float)\n",
    "TN = TN.astype(float)\n",
    "\n",
    "avg_FP=0\n",
    "avg_FN=0\n",
    "avg_TP=0\n",
    "avg_TN=0\n",
    "\n",
    "for i in FP:\n",
    "    avg_FP+=i\n",
    "    \n",
    "for i in FN:\n",
    "    avg_FN+=i\n",
    "    \n",
    "for i in TP:\n",
    "    avg_TP+=i\n",
    "\n",
    "for i in TN:\n",
    "    avg_TN+=i\n",
    "    \n",
    "avg_FP = avg_FP/10\n",
    "avg_FN = avg_FN/10\n",
    "avg_TP = avg_TP/10\n",
    "avg_TN = avg_TN/10"
   ]
  },
  {
   "cell_type": "markdown",
   "id": "b54b2b5b",
   "metadata": {},
   "source": [
    "## Accuracy"
   ]
  },
  {
   "cell_type": "code",
   "execution_count": 119,
   "id": "adcd193b",
   "metadata": {},
   "outputs": [
    {
     "name": "stdout",
     "output_type": "stream",
     "text": [
      "0.7936666666666666\n",
      "47620\n"
     ]
    }
   ],
   "source": [
    "from sklearn.metrics import accuracy_score\n",
    "\n",
    "print(accuracy_score(y_train, y_pred))\n",
    "\n",
    "print(accuracy_score(y_train, y_pred, normalize=False))\n",
    "\n",
    "accuracy = accuracy_score(y_train, y_pred)"
   ]
  },
  {
   "cell_type": "markdown",
   "id": "0dc6ea59",
   "metadata": {},
   "source": [
    "79% clearly way worse than others. Less hidden units is not benefitial."
   ]
  },
  {
   "cell_type": "markdown",
   "id": "26ffae00",
   "metadata": {},
   "source": [
    "## Specificity"
   ]
  },
  {
   "cell_type": "code",
   "execution_count": 120,
   "id": "e23bb7d1",
   "metadata": {},
   "outputs": [
    {
     "data": {
      "text/plain": [
       "0.9770740740740741"
      ]
     },
     "execution_count": 120,
     "metadata": {},
     "output_type": "execute_result"
    }
   ],
   "source": [
    "avg_TN/(avg_TN+avg_FP)"
   ]
  },
  {
   "cell_type": "markdown",
   "id": "9df80f8f",
   "metadata": {},
   "source": [
    "## Precision and Recall"
   ]
  },
  {
   "cell_type": "markdown",
   "id": "71549d57",
   "metadata": {},
   "source": [
    "### precision = TP / (TP+FP)"
   ]
  },
  {
   "cell_type": "code",
   "execution_count": 121,
   "id": "c1f22e30",
   "metadata": {},
   "outputs": [
    {
     "data": {
      "text/plain": [
       "0.7936666666666666"
      ]
     },
     "execution_count": 121,
     "metadata": {},
     "output_type": "execute_result"
    }
   ],
   "source": [
    "from sklearn.metrics import precision_score, recall_score\n",
    "\n",
    "precision_score(y_train, y_pred, average='micro')"
   ]
  },
  {
   "cell_type": "markdown",
   "id": "30e75b49",
   "metadata": {},
   "source": [
    "### Recall"
   ]
  },
  {
   "cell_type": "code",
   "execution_count": 122,
   "id": "917a4ec8",
   "metadata": {},
   "outputs": [
    {
     "data": {
      "text/plain": [
       "0.7936666666666666"
      ]
     },
     "execution_count": 122,
     "metadata": {},
     "output_type": "execute_result"
    }
   ],
   "source": [
    "recall_score(y_train, y_pred, average='micro')"
   ]
  },
  {
   "cell_type": "markdown",
   "id": "e93e222e",
   "metadata": {},
   "source": [
    "## F1 Score"
   ]
  },
  {
   "cell_type": "code",
   "execution_count": 123,
   "id": "a6961c27",
   "metadata": {},
   "outputs": [
    {
     "data": {
      "text/plain": [
       "0.7936666666666666"
      ]
     },
     "execution_count": 123,
     "metadata": {},
     "output_type": "execute_result"
    }
   ],
   "source": [
    "from sklearn.metrics import f1_score\n",
    "\n",
    "f1_score(y_train, y_pred, average='micro')"
   ]
  },
  {
   "cell_type": "markdown",
   "id": "3f8a89e9",
   "metadata": {},
   "source": [
    "# Multilayer Perceptron | X_test"
   ]
  },
  {
   "cell_type": "markdown",
   "id": "acf228a0",
   "metadata": {},
   "source": [
    "## Number and Size of Layers"
   ]
  },
  {
   "cell_type": "markdown",
   "id": "fa2f125c",
   "metadata": {},
   "source": [
    "### 5 hidden layers with 5 hidden units each"
   ]
  },
  {
   "cell_type": "code",
   "execution_count": 133,
   "id": "76906375",
   "metadata": {},
   "outputs": [],
   "source": [
    "clf = MLPClassifier(random_state=1, max_iter=300, hidden_layer_sizes=(5,5,5,5,5)).fit(X_train, y_train)\n",
    "y_pred = clf.predict(X_test)"
   ]
  },
  {
   "cell_type": "code",
   "execution_count": 134,
   "id": "aed0b4eb",
   "metadata": {},
   "outputs": [
    {
     "data": {
      "text/plain": [
       "array([[778,   0,  13,  81,  15,   1,  98,   1,  13,   0],\n",
       "       [  0, 959,   5,  26,   7,   0,   3,   0,   0,   0],\n",
       "       [ 16,   2, 854,  10,  53,   0,  63,   0,   2,   0],\n",
       "       [ 25,  18,  17, 867,  26,   0,  47,   0,   0,   0],\n",
       "       [  1,   7, 691,  27, 106,   0, 162,   0,   6,   0],\n",
       "       [  0,   1,   3,   0,   1, 879,   5,  57,  10,  44],\n",
       "       [199,   5, 150,  48,  74,   0, 501,   0,  23,   0],\n",
       "       [  0,   0,   0,   0,   0,  36,   0, 906,   1,  57],\n",
       "       [  3,   0,  13,   1,   6,  14,  62,   2, 897,   2],\n",
       "       [  0,   0,   0,   0,   0,  10,   0,  36,   0, 954]], dtype=int64)"
      ]
     },
     "execution_count": 134,
     "metadata": {},
     "output_type": "execute_result"
    }
   ],
   "source": [
    "confusion_matrix(y_test, y_pred)"
   ]
  },
  {
   "cell_type": "code",
   "execution_count": 135,
   "id": "dbdc452d",
   "metadata": {},
   "outputs": [],
   "source": [
    "cnf_matrix = confusion_matrix(y_test, y_pred)"
   ]
  },
  {
   "cell_type": "code",
   "execution_count": 136,
   "id": "30538eff",
   "metadata": {},
   "outputs": [],
   "source": [
    "FP = cnf_matrix.sum(axis=0) - np.diag(cnf_matrix) \n",
    "FN = cnf_matrix.sum(axis=1) - np.diag(cnf_matrix)\n",
    "TP = np.diag(cnf_matrix)\n",
    "TN = cnf_matrix.sum() - (FP + FN + TP)\n",
    "FP = FP.astype(float)\n",
    "FN = FN.astype(float)\n",
    "TP = TP.astype(float)\n",
    "TN = TN.astype(float)\n",
    "\n",
    "avg_FP=0\n",
    "avg_FN=0\n",
    "avg_TP=0\n",
    "avg_TN=0\n",
    "\n",
    "for i in FP:\n",
    "    avg_FP+=i\n",
    "    \n",
    "for i in FN:\n",
    "    avg_FN+=i\n",
    "    \n",
    "for i in TP:\n",
    "    avg_TP+=i\n",
    "\n",
    "for i in TN:\n",
    "    avg_TN+=i\n",
    "    \n",
    "avg_FP = avg_FP/10\n",
    "avg_FN = avg_FN/10\n",
    "avg_TP = avg_TP/10\n",
    "avg_TN = avg_TN/10"
   ]
  },
  {
   "cell_type": "markdown",
   "id": "8f56ab77",
   "metadata": {},
   "source": [
    "## Accuracy"
   ]
  },
  {
   "cell_type": "code",
   "execution_count": 137,
   "id": "2672776f",
   "metadata": {},
   "outputs": [
    {
     "name": "stdout",
     "output_type": "stream",
     "text": [
      "0.7701\n",
      "7701\n"
     ]
    }
   ],
   "source": [
    "from sklearn.metrics import accuracy_score\n",
    "\n",
    "print(accuracy_score(y_test, y_pred))\n",
    "\n",
    "print(accuracy_score(y_test, y_pred, normalize=False))\n",
    "\n",
    "accuracy = accuracy_score(y_test, y_pred)"
   ]
  },
  {
   "cell_type": "markdown",
   "id": "8184181b",
   "metadata": {},
   "source": [
    "77% is very poor."
   ]
  },
  {
   "cell_type": "markdown",
   "id": "87be054a",
   "metadata": {},
   "source": [
    "## Specificity"
   ]
  },
  {
   "cell_type": "code",
   "execution_count": 138,
   "id": "afa90dfe",
   "metadata": {},
   "outputs": [
    {
     "data": {
      "text/plain": [
       "0.9744555555555556"
      ]
     },
     "execution_count": 138,
     "metadata": {},
     "output_type": "execute_result"
    }
   ],
   "source": [
    "avg_TN/(avg_TN+avg_FP)"
   ]
  },
  {
   "cell_type": "markdown",
   "id": "f6a07ca2",
   "metadata": {},
   "source": [
    "## Precision and Recall"
   ]
  },
  {
   "cell_type": "markdown",
   "id": "c9d84b6f",
   "metadata": {},
   "source": [
    "### precision = TP / (TP+FP)"
   ]
  },
  {
   "cell_type": "code",
   "execution_count": 139,
   "id": "1e7c771f",
   "metadata": {},
   "outputs": [
    {
     "data": {
      "text/plain": [
       "0.7701"
      ]
     },
     "execution_count": 139,
     "metadata": {},
     "output_type": "execute_result"
    }
   ],
   "source": [
    "from sklearn.metrics import precision_score, recall_score\n",
    "\n",
    "precision_score(y_test, y_pred, average='micro')"
   ]
  },
  {
   "cell_type": "markdown",
   "id": "1d3b57bb",
   "metadata": {},
   "source": [
    "### Recall"
   ]
  },
  {
   "cell_type": "code",
   "execution_count": 140,
   "id": "58651ed1",
   "metadata": {},
   "outputs": [
    {
     "data": {
      "text/plain": [
       "0.7701"
      ]
     },
     "execution_count": 140,
     "metadata": {},
     "output_type": "execute_result"
    }
   ],
   "source": [
    "recall_score(y_test, y_pred, average='micro')"
   ]
  },
  {
   "cell_type": "markdown",
   "id": "89c85254",
   "metadata": {},
   "source": [
    "## F1 Score"
   ]
  },
  {
   "cell_type": "code",
   "execution_count": 141,
   "id": "44739682",
   "metadata": {},
   "outputs": [
    {
     "data": {
      "text/plain": [
       "0.7701"
      ]
     },
     "execution_count": 141,
     "metadata": {},
     "output_type": "execute_result"
    }
   ],
   "source": [
    "from sklearn.metrics import f1_score\n",
    "\n",
    "f1_score(y_test, y_pred, average='micro')"
   ]
  },
  {
   "cell_type": "markdown",
   "id": "39fe97a6",
   "metadata": {},
   "source": [
    "# Multilayer Perceptron | X_train"
   ]
  },
  {
   "cell_type": "markdown",
   "id": "b81ba1fd",
   "metadata": {},
   "source": [
    "## Number and Size of Layers"
   ]
  },
  {
   "cell_type": "markdown",
   "id": "92fd940f",
   "metadata": {},
   "source": [
    "### 1 hidden layer with 400 hidden units"
   ]
  },
  {
   "cell_type": "code",
   "execution_count": 151,
   "id": "21775c73",
   "metadata": {},
   "outputs": [],
   "source": [
    "clf = MLPClassifier(random_state=1, max_iter=300, hidden_layer_sizes=(400)).fit(X_train, y_train)\n",
    "y_pred = clf.predict(X_train)"
   ]
  },
  {
   "cell_type": "code",
   "execution_count": 152,
   "id": "62112764",
   "metadata": {},
   "outputs": [
    {
     "data": {
      "text/plain": [
       "array([[5253,   19,   45,   89,   10,    0,  575,    1,    8,    0],\n",
       "       [   8, 5973,    0,    9,    0,    0,    9,    0,    1,    0],\n",
       "       [  71,    1, 5058,   28,  500,    0,  334,    0,    8,    0],\n",
       "       [  37,   47,   19, 5635,  149,    0,  110,    0,    2,    1],\n",
       "       [   1,    1,  327,  140, 5233,    0,  298,    0,    0,    0],\n",
       "       [   0,    0,    1,    0,    0, 5989,    0,    0,    5,    5],\n",
       "       [ 531,    7,  339,   57,  248,    0, 4815,    0,    3,    0],\n",
       "       [   0,    0,    0,    0,    0,   11,    0, 5778,    2,  209],\n",
       "       [   2,    0,    2,    5,    4,    0,   86,    1, 5900,    0],\n",
       "       [   0,    0,    0,    0,    0,    1,    0,   58,    1, 5940]],\n",
       "      dtype=int64)"
      ]
     },
     "execution_count": 152,
     "metadata": {},
     "output_type": "execute_result"
    }
   ],
   "source": [
    "confusion_matrix(y_train, y_pred)"
   ]
  },
  {
   "cell_type": "code",
   "execution_count": 153,
   "id": "c3e597dd",
   "metadata": {},
   "outputs": [],
   "source": [
    "cnf_matrix = confusion_matrix(y_train, y_pred)"
   ]
  },
  {
   "cell_type": "code",
   "execution_count": 154,
   "id": "c800f9f9",
   "metadata": {},
   "outputs": [],
   "source": [
    "FP = cnf_matrix.sum(axis=0) - np.diag(cnf_matrix) \n",
    "FN = cnf_matrix.sum(axis=1) - np.diag(cnf_matrix)\n",
    "TP = np.diag(cnf_matrix)\n",
    "TN = cnf_matrix.sum() - (FP + FN + TP)\n",
    "FP = FP.astype(float)\n",
    "FN = FN.astype(float)\n",
    "TP = TP.astype(float)\n",
    "TN = TN.astype(float)\n",
    "\n",
    "avg_FP=0\n",
    "avg_FN=0\n",
    "avg_TP=0\n",
    "avg_TN=0\n",
    "\n",
    "for i in FP:\n",
    "    avg_FP+=i\n",
    "    \n",
    "for i in FN:\n",
    "    avg_FN+=i\n",
    "    \n",
    "for i in TP:\n",
    "    avg_TP+=i\n",
    "\n",
    "for i in TN:\n",
    "    avg_TN+=i\n",
    "    \n",
    "avg_FP = avg_FP/10\n",
    "avg_FN = avg_FN/10\n",
    "avg_TP = avg_TP/10\n",
    "avg_TN = avg_TN/10"
   ]
  },
  {
   "cell_type": "markdown",
   "id": "865e64b9",
   "metadata": {},
   "source": [
    "## Accuracy"
   ]
  },
  {
   "cell_type": "code",
   "execution_count": 155,
   "id": "793a154e",
   "metadata": {},
   "outputs": [
    {
     "name": "stdout",
     "output_type": "stream",
     "text": [
      "0.9262333333333334\n",
      "55574\n"
     ]
    }
   ],
   "source": [
    "from sklearn.metrics import accuracy_score\n",
    "\n",
    "print(accuracy_score(y_train, y_pred))\n",
    "\n",
    "print(accuracy_score(y_train, y_pred, normalize=False))\n",
    "\n",
    "accuracy = accuracy_score(y_train, y_pred)"
   ]
  },
  {
   "cell_type": "markdown",
   "id": "1d8db1a4",
   "metadata": {},
   "source": [
    "A good accuracy of 93%, better than the original of 89% but 96% accuracy for 200,200,200 still better."
   ]
  },
  {
   "cell_type": "markdown",
   "id": "7369b8ca",
   "metadata": {},
   "source": [
    "## Specificity"
   ]
  },
  {
   "cell_type": "code",
   "execution_count": 156,
   "id": "cdf01887",
   "metadata": {},
   "outputs": [
    {
     "data": {
      "text/plain": [
       "0.9918037037037037"
      ]
     },
     "execution_count": 156,
     "metadata": {},
     "output_type": "execute_result"
    }
   ],
   "source": [
    "avg_TN/(avg_TN+avg_FP)"
   ]
  },
  {
   "cell_type": "markdown",
   "id": "92c7c10b",
   "metadata": {},
   "source": [
    "## Precision and Recall"
   ]
  },
  {
   "cell_type": "markdown",
   "id": "5c9cce85",
   "metadata": {},
   "source": [
    "### precision = TP / (TP+FP)"
   ]
  },
  {
   "cell_type": "code",
   "execution_count": 157,
   "id": "ee5ba548",
   "metadata": {},
   "outputs": [
    {
     "data": {
      "text/plain": [
       "0.9262333333333334"
      ]
     },
     "execution_count": 157,
     "metadata": {},
     "output_type": "execute_result"
    }
   ],
   "source": [
    "from sklearn.metrics import precision_score, recall_score\n",
    "\n",
    "precision_score(y_train, y_pred, average='micro')"
   ]
  },
  {
   "cell_type": "markdown",
   "id": "39b87675",
   "metadata": {},
   "source": [
    "### Recall"
   ]
  },
  {
   "cell_type": "code",
   "execution_count": 158,
   "id": "d3ad82de",
   "metadata": {},
   "outputs": [
    {
     "data": {
      "text/plain": [
       "0.9262333333333334"
      ]
     },
     "execution_count": 158,
     "metadata": {},
     "output_type": "execute_result"
    }
   ],
   "source": [
    "recall_score(y_train, y_pred, average='micro')"
   ]
  },
  {
   "cell_type": "markdown",
   "id": "4feef0f6",
   "metadata": {},
   "source": [
    "## F1 Score"
   ]
  },
  {
   "cell_type": "code",
   "execution_count": 159,
   "id": "ef57ed49",
   "metadata": {},
   "outputs": [
    {
     "data": {
      "text/plain": [
       "0.9262333333333334"
      ]
     },
     "execution_count": 159,
     "metadata": {},
     "output_type": "execute_result"
    }
   ],
   "source": [
    "from sklearn.metrics import f1_score\n",
    "\n",
    "f1_score(y_train, y_pred, average='micro')"
   ]
  },
  {
   "cell_type": "markdown",
   "id": "587ee5ba",
   "metadata": {},
   "source": [
    "# Multilayer Perceptron | X_train"
   ]
  },
  {
   "cell_type": "markdown",
   "id": "844aa795",
   "metadata": {},
   "source": [
    "## Learning_rate"
   ]
  },
  {
   "cell_type": "markdown",
   "id": "01b38f51",
   "metadata": {},
   "source": [
    "## Default = constant"
   ]
  },
  {
   "cell_type": "markdown",
   "id": "b38f7bcd",
   "metadata": {},
   "source": [
    "## invscaling"
   ]
  },
  {
   "cell_type": "code",
   "execution_count": 215,
   "id": "facb94fc",
   "metadata": {},
   "outputs": [
    {
     "name": "stderr",
     "output_type": "stream",
     "text": [
      "C:\\Users\\ryand\\anaconda3\\lib\\site-packages\\sklearn\\neural_network\\_multilayer_perceptron.py:614: ConvergenceWarning: Stochastic Optimizer: Maximum iterations (300) reached and the optimization hasn't converged yet.\n",
      "  warnings.warn(\n"
     ]
    }
   ],
   "source": [
    "clf = MLPClassifier(random_state=1, max_iter=300, solver='sgd', learning_rate='invscaling').fit(X_train, y_train)\n",
    "y_pred = clf.predict(X_train)"
   ]
  },
  {
   "cell_type": "code",
   "execution_count": 216,
   "id": "222e5bf5",
   "metadata": {},
   "outputs": [
    {
     "data": {
      "text/plain": [
       "array([[   3, 5946,    1,    0,    0,    7,    1,    0,   25,   17],\n",
       "       [   0, 5988,    0,    0,    0,    0,    0,    0,    3,    9],\n",
       "       [   2, 5946,    5,    0,    0,    7,    1,    0,   17,   22],\n",
       "       [   0, 5909,    2,    0,    0,    1,    0,    0,   26,   62],\n",
       "       [   0, 5968,    2,    0,    0,    2,    0,    0,   20,    8],\n",
       "       [   1,   71,    5,    1,    0, 4529,    0,  211,  138, 1044],\n",
       "       [   0, 5955,    3,    0,    0,    2,    0,    0,   26,   14],\n",
       "       [   0,    0,    0,    0,    0,  225,    0, 2433,   17, 3325],\n",
       "       [   1, 2280,   18,    1,    0,   42,    0,   10, 3052,  596],\n",
       "       [   0,   42,    0,    0,    0,   61,    0,   37,   10, 5850]],\n",
       "      dtype=int64)"
      ]
     },
     "execution_count": 216,
     "metadata": {},
     "output_type": "execute_result"
    }
   ],
   "source": [
    "confusion_matrix(y_train, y_pred)"
   ]
  },
  {
   "cell_type": "code",
   "execution_count": 217,
   "id": "69db38ae",
   "metadata": {},
   "outputs": [],
   "source": [
    "cnf_matrix = confusion_matrix(y_train, y_pred)"
   ]
  },
  {
   "cell_type": "code",
   "execution_count": 218,
   "id": "e24cbce0",
   "metadata": {},
   "outputs": [],
   "source": [
    "FP = cnf_matrix.sum(axis=0) - np.diag(cnf_matrix) \n",
    "FN = cnf_matrix.sum(axis=1) - np.diag(cnf_matrix)\n",
    "TP = np.diag(cnf_matrix)\n",
    "TN = cnf_matrix.sum() - (FP + FN + TP)\n",
    "FP = FP.astype(float)\n",
    "FN = FN.astype(float)\n",
    "TP = TP.astype(float)\n",
    "TN = TN.astype(float)\n",
    "\n",
    "avg_FP=0\n",
    "avg_FN=0\n",
    "avg_TP=0\n",
    "avg_TN=0\n",
    "\n",
    "for i in FP:\n",
    "    avg_FP+=i\n",
    "    \n",
    "for i in FN:\n",
    "    avg_FN+=i\n",
    "    \n",
    "for i in TP:\n",
    "    avg_TP+=i\n",
    "\n",
    "for i in TN:\n",
    "    avg_TN+=i\n",
    "    \n",
    "avg_FP = avg_FP/10\n",
    "avg_FN = avg_FN/10\n",
    "avg_TP = avg_TP/10\n",
    "avg_TN = avg_TN/10"
   ]
  },
  {
   "cell_type": "markdown",
   "id": "9e5945dc",
   "metadata": {},
   "source": [
    "## Accuracy"
   ]
  },
  {
   "cell_type": "code",
   "execution_count": 219,
   "id": "d3eb0f6b",
   "metadata": {},
   "outputs": [
    {
     "name": "stdout",
     "output_type": "stream",
     "text": [
      "0.36433333333333334\n",
      "21860\n"
     ]
    }
   ],
   "source": [
    "from sklearn.metrics import accuracy_score\n",
    "\n",
    "print(accuracy_score(y_train, y_pred))\n",
    "\n",
    "print(accuracy_score(y_train, y_pred, normalize=False))\n",
    "\n",
    "accuracy = accuracy_score(y_train, y_pred)"
   ]
  },
  {
   "cell_type": "markdown",
   "id": "c8cd7490",
   "metadata": {},
   "source": [
    "## Specificity"
   ]
  },
  {
   "cell_type": "code",
   "execution_count": 220,
   "id": "ddbf3a84",
   "metadata": {},
   "outputs": [
    {
     "data": {
      "text/plain": [
       "0.9293703703703704"
      ]
     },
     "execution_count": 220,
     "metadata": {},
     "output_type": "execute_result"
    }
   ],
   "source": [
    "avg_TN/(avg_TN+avg_FP)"
   ]
  },
  {
   "cell_type": "markdown",
   "id": "c1717891",
   "metadata": {},
   "source": [
    "## Precision and Recall"
   ]
  },
  {
   "cell_type": "markdown",
   "id": "536b2e58",
   "metadata": {},
   "source": [
    "### precision = TP / (TP+FP)"
   ]
  },
  {
   "cell_type": "code",
   "execution_count": 221,
   "id": "c5b3e505",
   "metadata": {},
   "outputs": [
    {
     "data": {
      "text/plain": [
       "0.36433333333333334"
      ]
     },
     "execution_count": 221,
     "metadata": {},
     "output_type": "execute_result"
    }
   ],
   "source": [
    "from sklearn.metrics import precision_score, recall_score\n",
    "\n",
    "precision_score(y_train, y_pred, average='micro')"
   ]
  },
  {
   "cell_type": "markdown",
   "id": "c0646e3c",
   "metadata": {},
   "source": [
    "### Recall"
   ]
  },
  {
   "cell_type": "code",
   "execution_count": 222,
   "id": "474885d5",
   "metadata": {},
   "outputs": [
    {
     "data": {
      "text/plain": [
       "0.36433333333333334"
      ]
     },
     "execution_count": 222,
     "metadata": {},
     "output_type": "execute_result"
    }
   ],
   "source": [
    "recall_score(y_train, y_pred, average='micro')"
   ]
  },
  {
   "cell_type": "markdown",
   "id": "dc522abd",
   "metadata": {},
   "source": [
    "## F1 Score"
   ]
  },
  {
   "cell_type": "code",
   "execution_count": 223,
   "id": "2c3005d3",
   "metadata": {},
   "outputs": [
    {
     "data": {
      "text/plain": [
       "0.36433333333333334"
      ]
     },
     "execution_count": 223,
     "metadata": {},
     "output_type": "execute_result"
    }
   ],
   "source": [
    "from sklearn.metrics import f1_score\n",
    "\n",
    "f1_score(y_train, y_pred, average='micro')"
   ]
  },
  {
   "cell_type": "markdown",
   "id": "d332daf2",
   "metadata": {},
   "source": [
    "# Multilayer Perceptron | X_test"
   ]
  },
  {
   "cell_type": "markdown",
   "id": "e3cf0dc7",
   "metadata": {},
   "source": [
    "## Learning_rate"
   ]
  },
  {
   "cell_type": "markdown",
   "id": "0b268cb8",
   "metadata": {},
   "source": [
    "## invscaling"
   ]
  },
  {
   "cell_type": "code",
   "execution_count": 224,
   "id": "f624ccf7",
   "metadata": {},
   "outputs": [
    {
     "name": "stderr",
     "output_type": "stream",
     "text": [
      "C:\\Users\\ryand\\anaconda3\\lib\\site-packages\\sklearn\\neural_network\\_multilayer_perceptron.py:614: ConvergenceWarning: Stochastic Optimizer: Maximum iterations (300) reached and the optimization hasn't converged yet.\n",
      "  warnings.warn(\n"
     ]
    }
   ],
   "source": [
    "clf = MLPClassifier(random_state=1, max_iter=300, solver='sgd', learning_rate='invscaling').fit(X_train, y_train)\n",
    "y_pred = clf.predict(X_test)"
   ]
  },
  {
   "cell_type": "code",
   "execution_count": 225,
   "id": "4c4de8db",
   "metadata": {},
   "outputs": [
    {
     "data": {
      "text/plain": [
       "array([[  0, 988,   1,   0,   0,   4,   0,   1,   4,   2],\n",
       "       [  0, 999,   0,   0,   0,   0,   0,   0,   0,   1],\n",
       "       [  0, 993,   0,   0,   0,   0,   0,   0,   2,   5],\n",
       "       [  0, 980,   0,   0,   0,   0,   0,   0,   5,  15],\n",
       "       [  0, 995,   0,   0,   0,   1,   0,   0,   3,   1],\n",
       "       [  0,  13,   1,   0,   0, 743,   0,  41,  22, 180],\n",
       "       [  0, 991,   1,   0,   0,   1,   0,   0,   4,   3],\n",
       "       [  0,   0,   0,   0,   0,  31,   0, 386,   5, 578],\n",
       "       [  0, 382,   7,   0,   0,   5,   0,   3, 510,  93],\n",
       "       [  0,   5,   1,   0,   0,   9,   0,   7,   2, 976]], dtype=int64)"
      ]
     },
     "execution_count": 225,
     "metadata": {},
     "output_type": "execute_result"
    }
   ],
   "source": [
    "confusion_matrix(y_test, y_pred)"
   ]
  },
  {
   "cell_type": "code",
   "execution_count": 226,
   "id": "d4cf1a69",
   "metadata": {},
   "outputs": [],
   "source": [
    "cnf_matrix = confusion_matrix(y_test, y_pred)"
   ]
  },
  {
   "cell_type": "code",
   "execution_count": 227,
   "id": "13ebc178",
   "metadata": {},
   "outputs": [],
   "source": [
    "FP = cnf_matrix.sum(axis=0) - np.diag(cnf_matrix) \n",
    "FN = cnf_matrix.sum(axis=1) - np.diag(cnf_matrix)\n",
    "TP = np.diag(cnf_matrix)\n",
    "TN = cnf_matrix.sum() - (FP + FN + TP)\n",
    "FP = FP.astype(float)\n",
    "FN = FN.astype(float)\n",
    "TP = TP.astype(float)\n",
    "TN = TN.astype(float)\n",
    "\n",
    "avg_FP=0\n",
    "avg_FN=0\n",
    "avg_TP=0\n",
    "avg_TN=0\n",
    "\n",
    "for i in FP:\n",
    "    avg_FP+=i\n",
    "    \n",
    "for i in FN:\n",
    "    avg_FN+=i\n",
    "    \n",
    "for i in TP:\n",
    "    avg_TP+=i\n",
    "\n",
    "for i in TN:\n",
    "    avg_TN+=i\n",
    "    \n",
    "avg_FP = avg_FP/10\n",
    "avg_FN = avg_FN/10\n",
    "avg_TP = avg_TP/10\n",
    "avg_TN = avg_TN/10"
   ]
  },
  {
   "cell_type": "markdown",
   "id": "a6cceb02",
   "metadata": {},
   "source": [
    "## Accuracy"
   ]
  },
  {
   "cell_type": "code",
   "execution_count": 228,
   "id": "e2a2032d",
   "metadata": {},
   "outputs": [
    {
     "name": "stdout",
     "output_type": "stream",
     "text": [
      "0.3614\n",
      "3614\n"
     ]
    }
   ],
   "source": [
    "from sklearn.metrics import accuracy_score\n",
    "\n",
    "print(accuracy_score(y_test, y_pred))\n",
    "\n",
    "print(accuracy_score(y_test, y_pred, normalize=False))\n",
    "\n",
    "accuracy = accuracy_score(y_test, y_pred)"
   ]
  },
  {
   "cell_type": "markdown",
   "id": "14a69842",
   "metadata": {},
   "source": [
    "## Specificity"
   ]
  },
  {
   "cell_type": "code",
   "execution_count": 229,
   "id": "872483a9",
   "metadata": {},
   "outputs": [
    {
     "data": {
      "text/plain": [
       "0.9290444444444445"
      ]
     },
     "execution_count": 229,
     "metadata": {},
     "output_type": "execute_result"
    }
   ],
   "source": [
    "avg_TN/(avg_TN+avg_FP)"
   ]
  },
  {
   "cell_type": "markdown",
   "id": "23e3c218",
   "metadata": {},
   "source": [
    "## Precision and Recall"
   ]
  },
  {
   "cell_type": "markdown",
   "id": "341d54b3",
   "metadata": {},
   "source": [
    "### precision = TP / (TP+FP)"
   ]
  },
  {
   "cell_type": "code",
   "execution_count": 230,
   "id": "a492512a",
   "metadata": {},
   "outputs": [
    {
     "data": {
      "text/plain": [
       "0.3614"
      ]
     },
     "execution_count": 230,
     "metadata": {},
     "output_type": "execute_result"
    }
   ],
   "source": [
    "from sklearn.metrics import precision_score, recall_score\n",
    "\n",
    "precision_score(y_test, y_pred, average='micro')"
   ]
  },
  {
   "cell_type": "markdown",
   "id": "fcaca723",
   "metadata": {},
   "source": [
    "### Recall"
   ]
  },
  {
   "cell_type": "code",
   "execution_count": 231,
   "id": "78b63a75",
   "metadata": {},
   "outputs": [
    {
     "data": {
      "text/plain": [
       "0.3614"
      ]
     },
     "execution_count": 231,
     "metadata": {},
     "output_type": "execute_result"
    }
   ],
   "source": [
    "recall_score(y_test, y_pred, average='micro')"
   ]
  },
  {
   "cell_type": "markdown",
   "id": "6b38a6cc",
   "metadata": {},
   "source": [
    "## F1 Score"
   ]
  },
  {
   "cell_type": "code",
   "execution_count": 232,
   "id": "67fb0d8c",
   "metadata": {},
   "outputs": [
    {
     "data": {
      "text/plain": [
       "0.3614"
      ]
     },
     "execution_count": 232,
     "metadata": {},
     "output_type": "execute_result"
    }
   ],
   "source": [
    "from sklearn.metrics import f1_score\n",
    "\n",
    "f1_score(y_test, y_pred, average='micro')"
   ]
  },
  {
   "cell_type": "markdown",
   "id": "655ce3ee",
   "metadata": {},
   "source": [
    "# Multilayer Perceptron | X_train"
   ]
  },
  {
   "cell_type": "markdown",
   "id": "5736906e",
   "metadata": {},
   "source": [
    "## Learning_rate"
   ]
  },
  {
   "cell_type": "markdown",
   "id": "de667d2e",
   "metadata": {},
   "source": [
    "## adaptive"
   ]
  },
  {
   "cell_type": "code",
   "execution_count": 6,
   "id": "d3ebba1d",
   "metadata": {},
   "outputs": [],
   "source": [
    "clf = MLPClassifier(random_state=1, max_iter=300, solver='sgd', learning_rate='adaptive').fit(X_train, y_train)\n",
    "y_pred = clf.predict(X_train)"
   ]
  },
  {
   "cell_type": "code",
   "execution_count": 7,
   "id": "827474d3",
   "metadata": {},
   "outputs": [
    {
     "data": {
      "text/plain": [
       "array([[4931,   13,  169,  222,    9,    0,  616,    0,   40,    0],\n",
       "       [   7, 5806,   28,  102,   29,    1,   26,    0,    1,    0],\n",
       "       [  32,    2, 4956,   57,  701,    0,  241,    0,   11,    0],\n",
       "       [ 169,   34,  119, 5361,  193,    0,  113,    0,   11,    0],\n",
       "       [   2,    8,  639,  194, 4735,    0,  415,    0,    7,    0],\n",
       "       [   0,    0,    0,    0,    0, 5934,    1,   36,    4,   25],\n",
       "       [ 879,   19, 1134,  131,  418,    0, 3328,    0,   91,    0],\n",
       "       [   0,    0,    0,    0,    0,   11,    0, 5834,    1,  154],\n",
       "       [   4,    1,   59,   29,    6,    5,  123,    2, 5771,    0],\n",
       "       [   0,    0,    2,    0,    0,    3,    0,  126,    1, 5868]],\n",
       "      dtype=int64)"
      ]
     },
     "execution_count": 7,
     "metadata": {},
     "output_type": "execute_result"
    }
   ],
   "source": [
    "confusion_matrix(y_train, y_pred)"
   ]
  },
  {
   "cell_type": "code",
   "execution_count": 8,
   "id": "18988d29",
   "metadata": {},
   "outputs": [],
   "source": [
    "cnf_matrix = confusion_matrix(y_train, y_pred)"
   ]
  },
  {
   "cell_type": "code",
   "execution_count": 9,
   "id": "83edc344",
   "metadata": {},
   "outputs": [],
   "source": [
    "FP = cnf_matrix.sum(axis=0) - np.diag(cnf_matrix) \n",
    "FN = cnf_matrix.sum(axis=1) - np.diag(cnf_matrix)\n",
    "TP = np.diag(cnf_matrix)\n",
    "TN = cnf_matrix.sum() - (FP + FN + TP)\n",
    "FP = FP.astype(float)\n",
    "FN = FN.astype(float)\n",
    "TP = TP.astype(float)\n",
    "TN = TN.astype(float)\n",
    "\n",
    "avg_FP=0\n",
    "avg_FN=0\n",
    "avg_TP=0\n",
    "avg_TN=0\n",
    "\n",
    "for i in FP:\n",
    "    avg_FP+=i\n",
    "    \n",
    "for i in FN:\n",
    "    avg_FN+=i\n",
    "    \n",
    "for i in TP:\n",
    "    avg_TP+=i\n",
    "\n",
    "for i in TN:\n",
    "    avg_TN+=i\n",
    "    \n",
    "avg_FP = avg_FP/10\n",
    "avg_FN = avg_FN/10\n",
    "avg_TP = avg_TP/10\n",
    "avg_TN = avg_TN/10"
   ]
  },
  {
   "cell_type": "markdown",
   "id": "855b4aca",
   "metadata": {},
   "source": [
    "## Accuracy"
   ]
  },
  {
   "cell_type": "code",
   "execution_count": 10,
   "id": "b4c842df",
   "metadata": {},
   "outputs": [
    {
     "name": "stdout",
     "output_type": "stream",
     "text": [
      "0.8754\n",
      "52524\n"
     ]
    }
   ],
   "source": [
    "from sklearn.metrics import accuracy_score\n",
    "\n",
    "print(accuracy_score(y_train, y_pred))\n",
    "\n",
    "print(accuracy_score(y_train, y_pred, normalize=False))\n",
    "\n",
    "accuracy = accuracy_score(y_train, y_pred)"
   ]
  },
  {
   "cell_type": "markdown",
   "id": "f0c4cb3a",
   "metadata": {},
   "source": [
    "89% accuracy on the training set, down to 88% here, still a decrease."
   ]
  },
  {
   "cell_type": "markdown",
   "id": "35702f9a",
   "metadata": {},
   "source": [
    "## Specificity"
   ]
  },
  {
   "cell_type": "code",
   "execution_count": 11,
   "id": "754ce5f5",
   "metadata": {},
   "outputs": [
    {
     "data": {
      "text/plain": [
       "0.9861555555555556"
      ]
     },
     "execution_count": 11,
     "metadata": {},
     "output_type": "execute_result"
    }
   ],
   "source": [
    "avg_TN/(avg_TN+avg_FP)"
   ]
  },
  {
   "cell_type": "markdown",
   "id": "899ca583",
   "metadata": {},
   "source": [
    "## Precision and Recall"
   ]
  },
  {
   "cell_type": "markdown",
   "id": "0acc7a75",
   "metadata": {},
   "source": [
    "### precision = TP / (TP+FP)"
   ]
  },
  {
   "cell_type": "code",
   "execution_count": 12,
   "id": "cae28823",
   "metadata": {},
   "outputs": [
    {
     "data": {
      "text/plain": [
       "0.8754"
      ]
     },
     "execution_count": 12,
     "metadata": {},
     "output_type": "execute_result"
    }
   ],
   "source": [
    "from sklearn.metrics import precision_score, recall_score\n",
    "\n",
    "precision_score(y_train, y_pred, average='micro')"
   ]
  },
  {
   "cell_type": "markdown",
   "id": "ea57412e",
   "metadata": {},
   "source": [
    "### Recall"
   ]
  },
  {
   "cell_type": "code",
   "execution_count": 13,
   "id": "607929fb",
   "metadata": {},
   "outputs": [
    {
     "data": {
      "text/plain": [
       "0.8754"
      ]
     },
     "execution_count": 13,
     "metadata": {},
     "output_type": "execute_result"
    }
   ],
   "source": [
    "recall_score(y_train, y_pred, average='micro')"
   ]
  },
  {
   "cell_type": "markdown",
   "id": "30a68578",
   "metadata": {},
   "source": [
    "## F1 Score"
   ]
  },
  {
   "cell_type": "code",
   "execution_count": 14,
   "id": "9d148e53",
   "metadata": {},
   "outputs": [
    {
     "data": {
      "text/plain": [
       "0.8754"
      ]
     },
     "execution_count": 14,
     "metadata": {},
     "output_type": "execute_result"
    }
   ],
   "source": [
    "from sklearn.metrics import f1_score\n",
    "\n",
    "f1_score(y_train, y_pred, average='micro')"
   ]
  },
  {
   "cell_type": "markdown",
   "id": "e4427255",
   "metadata": {},
   "source": [
    "# Multilayer Perceptron | X_test"
   ]
  },
  {
   "cell_type": "markdown",
   "id": "3c3feaa5",
   "metadata": {},
   "source": [
    "## Learning_rate"
   ]
  },
  {
   "cell_type": "markdown",
   "id": "a5a6b7f3",
   "metadata": {},
   "source": [
    "## adaptive"
   ]
  },
  {
   "cell_type": "code",
   "execution_count": 15,
   "id": "74802a30",
   "metadata": {},
   "outputs": [],
   "source": [
    "clf = MLPClassifier(random_state=1, max_iter=300, solver='sgd', learning_rate='adaptive').fit(X_train, y_train)\n",
    "y_pred = clf.predict(X_test)"
   ]
  },
  {
   "cell_type": "code",
   "execution_count": 16,
   "id": "9739b397",
   "metadata": {},
   "outputs": [
    {
     "data": {
      "text/plain": [
       "array([[804,   5,  44,  32,   0,   2, 102,   0,  11,   0],\n",
       "       [  4, 965,   4,  13,   6,   0,   6,   0,   2,   0],\n",
       "       [ 11,   0, 793,  12, 131,   0,  46,   0,   7,   0],\n",
       "       [ 38,  14,  21, 866,  32,   1,  24,   0,   4,   0],\n",
       "       [  0,   1, 103,  34, 788,   1,  70,   0,   3,   0],\n",
       "       [  3,   0,   5,   0,   0, 892,   5,  46,  17,  32],\n",
       "       [168,   3, 187,  27,  78,   0, 514,   0,  23,   0],\n",
       "       [  0,   0,   1,   0,   0,  19,   0, 926,   3,  51],\n",
       "       [  5,   0,  19,   5,   2,   4,  35,   3, 927,   0],\n",
       "       [  0,   0,   1,   0,   0,  11,   0,  48,   0, 940]], dtype=int64)"
      ]
     },
     "execution_count": 16,
     "metadata": {},
     "output_type": "execute_result"
    }
   ],
   "source": [
    "confusion_matrix(y_test, y_pred)"
   ]
  },
  {
   "cell_type": "code",
   "execution_count": 17,
   "id": "ee3af086",
   "metadata": {},
   "outputs": [],
   "source": [
    "cnf_matrix = confusion_matrix(y_test, y_pred)"
   ]
  },
  {
   "cell_type": "code",
   "execution_count": 18,
   "id": "d2fe51bf",
   "metadata": {},
   "outputs": [],
   "source": [
    "FP = cnf_matrix.sum(axis=0) - np.diag(cnf_matrix) \n",
    "FN = cnf_matrix.sum(axis=1) - np.diag(cnf_matrix)\n",
    "TP = np.diag(cnf_matrix)\n",
    "TN = cnf_matrix.sum() - (FP + FN + TP)\n",
    "FP = FP.astype(float)\n",
    "FN = FN.astype(float)\n",
    "TP = TP.astype(float)\n",
    "TN = TN.astype(float)\n",
    "\n",
    "avg_FP=0\n",
    "avg_FN=0\n",
    "avg_TP=0\n",
    "avg_TN=0\n",
    "\n",
    "for i in FP:\n",
    "    avg_FP+=i\n",
    "    \n",
    "for i in FN:\n",
    "    avg_FN+=i\n",
    "    \n",
    "for i in TP:\n",
    "    avg_TP+=i\n",
    "\n",
    "for i in TN:\n",
    "    avg_TN+=i\n",
    "    \n",
    "avg_FP = avg_FP/10\n",
    "avg_FN = avg_FN/10\n",
    "avg_TP = avg_TP/10\n",
    "avg_TN = avg_TN/10"
   ]
  },
  {
   "cell_type": "markdown",
   "id": "d95c7d0e",
   "metadata": {},
   "source": [
    "## Accuracy"
   ]
  },
  {
   "cell_type": "code",
   "execution_count": 19,
   "id": "e4b915ed",
   "metadata": {},
   "outputs": [
    {
     "name": "stdout",
     "output_type": "stream",
     "text": [
      "0.8415\n",
      "8415\n"
     ]
    }
   ],
   "source": [
    "from sklearn.metrics import accuracy_score\n",
    "\n",
    "print(accuracy_score(y_test, y_pred))\n",
    "\n",
    "print(accuracy_score(y_test, y_pred, normalize=False))\n",
    "\n",
    "accuracy = accuracy_score(y_test, y_pred)"
   ]
  },
  {
   "cell_type": "markdown",
   "id": "9fd729ce",
   "metadata": {},
   "source": [
    "drop from 86% accuracy with test set originally with default config, to 84%."
   ]
  },
  {
   "cell_type": "markdown",
   "id": "0ea262ad",
   "metadata": {},
   "source": [
    "## Specificity"
   ]
  },
  {
   "cell_type": "code",
   "execution_count": 20,
   "id": "8251fe82",
   "metadata": {},
   "outputs": [
    {
     "data": {
      "text/plain": [
       "0.9823888888888889"
      ]
     },
     "execution_count": 20,
     "metadata": {},
     "output_type": "execute_result"
    }
   ],
   "source": [
    "avg_TN/(avg_TN+avg_FP)"
   ]
  },
  {
   "cell_type": "markdown",
   "id": "0df917b3",
   "metadata": {},
   "source": [
    "## Precision and Recall"
   ]
  },
  {
   "cell_type": "markdown",
   "id": "fd9cdafc",
   "metadata": {},
   "source": [
    "### precision = TP / (TP+FP)"
   ]
  },
  {
   "cell_type": "code",
   "execution_count": 21,
   "id": "d91f4db8",
   "metadata": {},
   "outputs": [
    {
     "data": {
      "text/plain": [
       "0.8415"
      ]
     },
     "execution_count": 21,
     "metadata": {},
     "output_type": "execute_result"
    }
   ],
   "source": [
    "from sklearn.metrics import precision_score, recall_score\n",
    "\n",
    "precision_score(y_test, y_pred, average='micro')"
   ]
  },
  {
   "cell_type": "markdown",
   "id": "38c5d98e",
   "metadata": {},
   "source": [
    "### Recall"
   ]
  },
  {
   "cell_type": "code",
   "execution_count": 22,
   "id": "36beb7a3",
   "metadata": {},
   "outputs": [
    {
     "data": {
      "text/plain": [
       "0.8415"
      ]
     },
     "execution_count": 22,
     "metadata": {},
     "output_type": "execute_result"
    }
   ],
   "source": [
    "recall_score(y_test, y_pred, average='micro')"
   ]
  },
  {
   "cell_type": "markdown",
   "id": "d42bafb5",
   "metadata": {},
   "source": [
    "## F1 Score"
   ]
  },
  {
   "cell_type": "code",
   "execution_count": 23,
   "id": "fb06a204",
   "metadata": {},
   "outputs": [
    {
     "data": {
      "text/plain": [
       "0.8415"
      ]
     },
     "execution_count": 23,
     "metadata": {},
     "output_type": "execute_result"
    }
   ],
   "source": [
    "from sklearn.metrics import f1_score\n",
    "\n",
    "f1_score(y_test, y_pred, average='micro')"
   ]
  },
  {
   "cell_type": "markdown",
   "id": "f657779f",
   "metadata": {},
   "source": [
    "# Multilayer Perceptron | X_train"
   ]
  },
  {
   "cell_type": "markdown",
   "id": "15c3071c",
   "metadata": {},
   "source": [
    "## epochs"
   ]
  },
  {
   "cell_type": "markdown",
   "id": "25ff9a26",
   "metadata": {},
   "source": [
    "### Maximum number of iterations. The solver iterates until convergence (determined by ‘tol’) or this number of iterations. For stochastic solvers (‘sgd’, ‘adam’), note that this determines the number of epochs (how many times each data point will be used), not the number of gradient steps."
   ]
  },
  {
   "cell_type": "markdown",
   "id": "3f3a8695",
   "metadata": {},
   "source": [
    "## max_iter=2"
   ]
  },
  {
   "cell_type": "code",
   "execution_count": 24,
   "id": "14a2dc79",
   "metadata": {},
   "outputs": [
    {
     "name": "stderr",
     "output_type": "stream",
     "text": [
      "C:\\Users\\ryand\\anaconda3\\lib\\site-packages\\sklearn\\neural_network\\_multilayer_perceptron.py:614: ConvergenceWarning: Stochastic Optimizer: Maximum iterations (2) reached and the optimization hasn't converged yet.\n",
      "  warnings.warn(\n"
     ]
    }
   ],
   "source": [
    "clf = MLPClassifier(random_state=1, max_iter=2).fit(X_train, y_train)\n",
    "y_pred = clf.predict(X_train)"
   ]
  },
  {
   "cell_type": "code",
   "execution_count": 25,
   "id": "65c0f66c",
   "metadata": {},
   "outputs": [
    {
     "data": {
      "text/plain": [
       "array([[4405,   32,  700,  497,   18,    4,  289,    5,   49,    1],\n",
       "       [  11, 5519,  199,  244,    6,    3,   17,    0,    1,    0],\n",
       "       [  27,    7, 5373,   46,  239,    5,  285,    1,   15,    2],\n",
       "       [ 151,  170,  634, 4915,   30,    4,   72,    7,   16,    1],\n",
       "       [  21,   26, 3519,  383,  917,    2, 1123,    0,    9,    0],\n",
       "       [  24,    1,   29,   16,    4, 5331,    7,  356,   50,  182],\n",
       "       [ 912,   20, 2387,  197,  226,    6, 2194,    4,   54,    0],\n",
       "       [   1,    0,   11,    9,    0,  207,    0, 5458,   30,  284],\n",
       "       [  26,    2,  497,   40,    7,   53,   54,   27, 5291,    3],\n",
       "       [   0,    0,   15,    2,    0,   87,    0,  490,   10, 5396]],\n",
       "      dtype=int64)"
      ]
     },
     "execution_count": 25,
     "metadata": {},
     "output_type": "execute_result"
    }
   ],
   "source": [
    "confusion_matrix(y_train, y_pred)"
   ]
  },
  {
   "cell_type": "code",
   "execution_count": 26,
   "id": "a402705d",
   "metadata": {},
   "outputs": [],
   "source": [
    "cnf_matrix = confusion_matrix(y_train, y_pred)"
   ]
  },
  {
   "cell_type": "code",
   "execution_count": 27,
   "id": "7eb158f1",
   "metadata": {},
   "outputs": [],
   "source": [
    "FP = cnf_matrix.sum(axis=0) - np.diag(cnf_matrix) \n",
    "FN = cnf_matrix.sum(axis=1) - np.diag(cnf_matrix)\n",
    "TP = np.diag(cnf_matrix)\n",
    "TN = cnf_matrix.sum() - (FP + FN + TP)\n",
    "FP = FP.astype(float)\n",
    "FN = FN.astype(float)\n",
    "TP = TP.astype(float)\n",
    "TN = TN.astype(float)\n",
    "\n",
    "avg_FP=0\n",
    "avg_FN=0\n",
    "avg_TP=0\n",
    "avg_TN=0\n",
    "\n",
    "for i in FP:\n",
    "    avg_FP+=i\n",
    "    \n",
    "for i in FN:\n",
    "    avg_FN+=i\n",
    "    \n",
    "for i in TP:\n",
    "    avg_TP+=i\n",
    "\n",
    "for i in TN:\n",
    "    avg_TN+=i\n",
    "    \n",
    "avg_FP = avg_FP/10\n",
    "avg_FN = avg_FN/10\n",
    "avg_TP = avg_TP/10\n",
    "avg_TN = avg_TN/10"
   ]
  },
  {
   "cell_type": "markdown",
   "id": "394ae820",
   "metadata": {},
   "source": [
    "## Accuracy"
   ]
  },
  {
   "cell_type": "code",
   "execution_count": 28,
   "id": "922165c2",
   "metadata": {},
   "outputs": [
    {
     "name": "stdout",
     "output_type": "stream",
     "text": [
      "0.74665\n",
      "44799\n"
     ]
    }
   ],
   "source": [
    "from sklearn.metrics import accuracy_score\n",
    "\n",
    "print(accuracy_score(y_train, y_pred))\n",
    "\n",
    "print(accuracy_score(y_train, y_pred, normalize=False))\n",
    "\n",
    "accuracy = accuracy_score(y_train, y_pred)"
   ]
  },
  {
   "cell_type": "markdown",
   "id": "e0ba0afe",
   "metadata": {},
   "source": [
    "74% accuracy is a big drop, as expected, only two iterations."
   ]
  },
  {
   "cell_type": "markdown",
   "id": "08e5e74b",
   "metadata": {},
   "source": [
    "## Specificity"
   ]
  },
  {
   "cell_type": "code",
   "execution_count": 29,
   "id": "093dfec0",
   "metadata": {},
   "outputs": [
    {
     "data": {
      "text/plain": [
       "0.97185"
      ]
     },
     "execution_count": 29,
     "metadata": {},
     "output_type": "execute_result"
    }
   ],
   "source": [
    "avg_TN/(avg_TN+avg_FP)"
   ]
  },
  {
   "cell_type": "markdown",
   "id": "d124df3e",
   "metadata": {},
   "source": [
    "## Precision and Recall"
   ]
  },
  {
   "cell_type": "markdown",
   "id": "991a17df",
   "metadata": {},
   "source": [
    "### precision = TP / (TP+FP)"
   ]
  },
  {
   "cell_type": "code",
   "execution_count": 30,
   "id": "ee4dcc0e",
   "metadata": {},
   "outputs": [
    {
     "data": {
      "text/plain": [
       "0.74665"
      ]
     },
     "execution_count": 30,
     "metadata": {},
     "output_type": "execute_result"
    }
   ],
   "source": [
    "from sklearn.metrics import precision_score, recall_score\n",
    "\n",
    "precision_score(y_train, y_pred, average='micro')"
   ]
  },
  {
   "cell_type": "markdown",
   "id": "f12041bc",
   "metadata": {},
   "source": [
    "### Recall"
   ]
  },
  {
   "cell_type": "code",
   "execution_count": 31,
   "id": "24834cd3",
   "metadata": {},
   "outputs": [
    {
     "data": {
      "text/plain": [
       "0.74665"
      ]
     },
     "execution_count": 31,
     "metadata": {},
     "output_type": "execute_result"
    }
   ],
   "source": [
    "recall_score(y_train, y_pred, average='micro')"
   ]
  },
  {
   "cell_type": "markdown",
   "id": "a953e3bc",
   "metadata": {},
   "source": [
    "## F1 Score"
   ]
  },
  {
   "cell_type": "code",
   "execution_count": 32,
   "id": "df7c46a7",
   "metadata": {},
   "outputs": [
    {
     "data": {
      "text/plain": [
       "0.74665"
      ]
     },
     "execution_count": 32,
     "metadata": {},
     "output_type": "execute_result"
    }
   ],
   "source": [
    "from sklearn.metrics import f1_score\n",
    "\n",
    "f1_score(y_train, y_pred, average='micro')"
   ]
  },
  {
   "cell_type": "markdown",
   "id": "6544a668",
   "metadata": {},
   "source": [
    "# Multilayer Perceptron | X_test"
   ]
  },
  {
   "cell_type": "markdown",
   "id": "666f0713",
   "metadata": {},
   "source": [
    "## epochs"
   ]
  },
  {
   "cell_type": "markdown",
   "id": "7d3e83fd",
   "metadata": {},
   "source": [
    "## max_iter=2"
   ]
  },
  {
   "cell_type": "code",
   "execution_count": 33,
   "id": "63adaf80",
   "metadata": {},
   "outputs": [
    {
     "name": "stderr",
     "output_type": "stream",
     "text": [
      "C:\\Users\\ryand\\anaconda3\\lib\\site-packages\\sklearn\\neural_network\\_multilayer_perceptron.py:614: ConvergenceWarning: Stochastic Optimizer: Maximum iterations (2) reached and the optimization hasn't converged yet.\n",
      "  warnings.warn(\n"
     ]
    }
   ],
   "source": [
    "clf = MLPClassifier(random_state=1, max_iter=2).fit(X_train, y_train)\n",
    "y_pred = clf.predict(X_test)"
   ]
  },
  {
   "cell_type": "code",
   "execution_count": 34,
   "id": "24a89146",
   "metadata": {},
   "outputs": [
    {
     "data": {
      "text/plain": [
       "array([[712,   5, 135,  84,   3,   2,  47,   1,  11,   0],\n",
       "       [  1, 924,  37,  34,   1,   0,   3,   0,   0,   0],\n",
       "       [  3,   1, 899,   9,  34,   0,  52,   0,   2,   0],\n",
       "       [ 24,  40, 102, 807,   8,   1,  15,   0,   3,   0],\n",
       "       [  3,   4, 597,  50, 155,   0, 187,   0,   4,   0],\n",
       "       [  3,   0,   7,   1,   0, 855,   5,  71,  17,  41],\n",
       "       [149,   3, 365,  45,  37,   1, 385,   0,  14,   1],\n",
       "       [  0,   0,   3,   3,   0,  45,   0, 872,   6,  71],\n",
       "       [  3,   0,  96,   4,   3,  12,   5,   7, 869,   1],\n",
       "       [  0,   0,   3,   1,   0,  17,   0,  95,   3, 881]], dtype=int64)"
      ]
     },
     "execution_count": 34,
     "metadata": {},
     "output_type": "execute_result"
    }
   ],
   "source": [
    "confusion_matrix(y_test, y_pred)"
   ]
  },
  {
   "cell_type": "code",
   "execution_count": 35,
   "id": "9437807d",
   "metadata": {},
   "outputs": [],
   "source": [
    "cnf_matrix = confusion_matrix(y_test, y_pred)"
   ]
  },
  {
   "cell_type": "code",
   "execution_count": 36,
   "id": "a570b94e",
   "metadata": {},
   "outputs": [],
   "source": [
    "FP = cnf_matrix.sum(axis=0) - np.diag(cnf_matrix) \n",
    "FN = cnf_matrix.sum(axis=1) - np.diag(cnf_matrix)\n",
    "TP = np.diag(cnf_matrix)\n",
    "TN = cnf_matrix.sum() - (FP + FN + TP)\n",
    "FP = FP.astype(float)\n",
    "FN = FN.astype(float)\n",
    "TP = TP.astype(float)\n",
    "TN = TN.astype(float)\n",
    "\n",
    "avg_FP=0\n",
    "avg_FN=0\n",
    "avg_TP=0\n",
    "avg_TN=0\n",
    "\n",
    "for i in FP:\n",
    "    avg_FP+=i\n",
    "    \n",
    "for i in FN:\n",
    "    avg_FN+=i\n",
    "    \n",
    "for i in TP:\n",
    "    avg_TP+=i\n",
    "\n",
    "for i in TN:\n",
    "    avg_TN+=i\n",
    "    \n",
    "avg_FP = avg_FP/10\n",
    "avg_FN = avg_FN/10\n",
    "avg_TP = avg_TP/10\n",
    "avg_TN = avg_TN/10"
   ]
  },
  {
   "cell_type": "markdown",
   "id": "92e2d2eb",
   "metadata": {},
   "source": [
    "## Accuracy"
   ]
  },
  {
   "cell_type": "code",
   "execution_count": 37,
   "id": "407f063c",
   "metadata": {},
   "outputs": [
    {
     "name": "stdout",
     "output_type": "stream",
     "text": [
      "0.7359\n",
      "7359\n"
     ]
    }
   ],
   "source": [
    "from sklearn.metrics import accuracy_score\n",
    "\n",
    "print(accuracy_score(y_test, y_pred))\n",
    "\n",
    "print(accuracy_score(y_test, y_pred, normalize=False))\n",
    "\n",
    "accuracy = accuracy_score(y_test, y_pred)"
   ]
  },
  {
   "cell_type": "markdown",
   "id": "c9785404",
   "metadata": {},
   "source": [
    "Similar, test accuracy is low with 2 iterations."
   ]
  },
  {
   "cell_type": "markdown",
   "id": "094d9472",
   "metadata": {},
   "source": [
    "## Specificity"
   ]
  },
  {
   "cell_type": "code",
   "execution_count": 38,
   "id": "864a1873",
   "metadata": {},
   "outputs": [
    {
     "data": {
      "text/plain": [
       "0.9706555555555555"
      ]
     },
     "execution_count": 38,
     "metadata": {},
     "output_type": "execute_result"
    }
   ],
   "source": [
    "avg_TN/(avg_TN+avg_FP)"
   ]
  },
  {
   "cell_type": "markdown",
   "id": "3cd09df3",
   "metadata": {},
   "source": [
    "## Precision and Recall"
   ]
  },
  {
   "cell_type": "markdown",
   "id": "3f7f8153",
   "metadata": {},
   "source": [
    "### precision = TP / (TP+FP)"
   ]
  },
  {
   "cell_type": "code",
   "execution_count": 39,
   "id": "86763027",
   "metadata": {},
   "outputs": [
    {
     "data": {
      "text/plain": [
       "0.7359"
      ]
     },
     "execution_count": 39,
     "metadata": {},
     "output_type": "execute_result"
    }
   ],
   "source": [
    "from sklearn.metrics import precision_score, recall_score\n",
    "\n",
    "precision_score(y_test, y_pred, average='micro')"
   ]
  },
  {
   "cell_type": "markdown",
   "id": "86bf13e9",
   "metadata": {},
   "source": [
    "### Recall"
   ]
  },
  {
   "cell_type": "code",
   "execution_count": 40,
   "id": "126ae709",
   "metadata": {},
   "outputs": [
    {
     "data": {
      "text/plain": [
       "0.7359"
      ]
     },
     "execution_count": 40,
     "metadata": {},
     "output_type": "execute_result"
    }
   ],
   "source": [
    "recall_score(y_test, y_pred, average='micro')"
   ]
  },
  {
   "cell_type": "markdown",
   "id": "5e4c22d9",
   "metadata": {},
   "source": [
    "## F1 Score"
   ]
  },
  {
   "cell_type": "code",
   "execution_count": 41,
   "id": "f5504ced",
   "metadata": {},
   "outputs": [
    {
     "data": {
      "text/plain": [
       "0.7359"
      ]
     },
     "execution_count": 41,
     "metadata": {},
     "output_type": "execute_result"
    }
   ],
   "source": [
    "from sklearn.metrics import f1_score\n",
    "\n",
    "f1_score(y_test, y_pred, average='micro')"
   ]
  },
  {
   "cell_type": "markdown",
   "id": "fbe5aec5",
   "metadata": {},
   "source": [
    "# Multilayer Perceptron | X_train"
   ]
  },
  {
   "cell_type": "markdown",
   "id": "f92fada1",
   "metadata": {},
   "source": [
    "## epochs"
   ]
  },
  {
   "cell_type": "markdown",
   "id": "4bdddfa0",
   "metadata": {},
   "source": [
    "## max_iter=1000"
   ]
  },
  {
   "cell_type": "code",
   "execution_count": 42,
   "id": "f94de165",
   "metadata": {},
   "outputs": [],
   "source": [
    "clf = MLPClassifier(random_state=1, max_iter=1000).fit(X_train, y_train)\n",
    "y_pred = clf.predict(X_train)"
   ]
  },
  {
   "cell_type": "code",
   "execution_count": 43,
   "id": "1e3e8c97",
   "metadata": {},
   "outputs": [
    {
     "data": {
      "text/plain": [
       "array([[5301,   19,   69,  115,    8,    0,  464,    0,   24,    0],\n",
       "       [  16, 5921,    3,   34,    2,    0,   12,    0,   12,    0],\n",
       "       [  60,   43, 4994,   54,  462,    0,  372,    0,   15,    0],\n",
       "       [ 133,   78,   31, 5594,   53,    0,   91,    0,   20,    0],\n",
       "       [   7,   18,  579,  443, 4685,    0,  221,    0,   47,    0],\n",
       "       [   0,    0,    0,    0,    0, 5985,    0,    9,    5,    1],\n",
       "       [1085,    2,  755,  122,  458,    0, 3529,    0,   49,    0],\n",
       "       [   1,    0,    0,    0,    0,   14,    7, 5925,    5,   48],\n",
       "       [   5,    2,    4,   11,    6,    0,   79,    3, 5890,    0],\n",
       "       [   0,    0,    0,    0,    0,   63,    2,  243,    2, 5690]],\n",
       "      dtype=int64)"
      ]
     },
     "execution_count": 43,
     "metadata": {},
     "output_type": "execute_result"
    }
   ],
   "source": [
    "confusion_matrix(y_train, y_pred)"
   ]
  },
  {
   "cell_type": "code",
   "execution_count": 44,
   "id": "55776b35",
   "metadata": {},
   "outputs": [],
   "source": [
    "cnf_matrix = confusion_matrix(y_train, y_pred)"
   ]
  },
  {
   "cell_type": "code",
   "execution_count": 45,
   "id": "3fa81364",
   "metadata": {},
   "outputs": [],
   "source": [
    "FP = cnf_matrix.sum(axis=0) - np.diag(cnf_matrix) \n",
    "FN = cnf_matrix.sum(axis=1) - np.diag(cnf_matrix)\n",
    "TP = np.diag(cnf_matrix)\n",
    "TN = cnf_matrix.sum() - (FP + FN + TP)\n",
    "FP = FP.astype(float)\n",
    "FN = FN.astype(float)\n",
    "TP = TP.astype(float)\n",
    "TN = TN.astype(float)\n",
    "\n",
    "avg_FP=0\n",
    "avg_FN=0\n",
    "avg_TP=0\n",
    "avg_TN=0\n",
    "\n",
    "for i in FP:\n",
    "    avg_FP+=i\n",
    "    \n",
    "for i in FN:\n",
    "    avg_FN+=i\n",
    "    \n",
    "for i in TP:\n",
    "    avg_TP+=i\n",
    "\n",
    "for i in TN:\n",
    "    avg_TN+=i\n",
    "    \n",
    "avg_FP = avg_FP/10\n",
    "avg_FN = avg_FN/10\n",
    "avg_TP = avg_TP/10\n",
    "avg_TN = avg_TN/10"
   ]
  },
  {
   "cell_type": "markdown",
   "id": "e9b11ebe",
   "metadata": {},
   "source": [
    "## Accuracy"
   ]
  },
  {
   "cell_type": "code",
   "execution_count": 46,
   "id": "5654b1d6",
   "metadata": {},
   "outputs": [
    {
     "name": "stdout",
     "output_type": "stream",
     "text": [
      "0.8919\n",
      "53514\n"
     ]
    }
   ],
   "source": [
    "from sklearn.metrics import accuracy_score\n",
    "\n",
    "print(accuracy_score(y_train, y_pred))\n",
    "\n",
    "print(accuracy_score(y_train, y_pred, normalize=False))\n",
    "\n",
    "accuracy = accuracy_score(y_train, y_pred)"
   ]
  },
  {
   "cell_type": "markdown",
   "id": "e0df8d0d",
   "metadata": {},
   "source": [
    "Accuracy with more iterations is 89%, when we had 96% accuracy with more layers and hidden nodes. Original config had 89%, so no change there which had default of 300 iterations."
   ]
  },
  {
   "cell_type": "markdown",
   "id": "9b0c7b97",
   "metadata": {},
   "source": [
    "## Specificity"
   ]
  },
  {
   "cell_type": "code",
   "execution_count": 47,
   "id": "51483f22",
   "metadata": {},
   "outputs": [
    {
     "data": {
      "text/plain": [
       "0.9879888888888889"
      ]
     },
     "execution_count": 47,
     "metadata": {},
     "output_type": "execute_result"
    }
   ],
   "source": [
    "avg_TN/(avg_TN+avg_FP)"
   ]
  },
  {
   "cell_type": "markdown",
   "id": "f6e4ab85",
   "metadata": {},
   "source": [
    "## Precision and Recall"
   ]
  },
  {
   "cell_type": "markdown",
   "id": "b342d18a",
   "metadata": {},
   "source": [
    "### precision = TP / (TP+FP)"
   ]
  },
  {
   "cell_type": "code",
   "execution_count": 48,
   "id": "e762ed8c",
   "metadata": {},
   "outputs": [
    {
     "data": {
      "text/plain": [
       "0.8919"
      ]
     },
     "execution_count": 48,
     "metadata": {},
     "output_type": "execute_result"
    }
   ],
   "source": [
    "from sklearn.metrics import precision_score, recall_score\n",
    "\n",
    "precision_score(y_train, y_pred, average='micro')"
   ]
  },
  {
   "cell_type": "markdown",
   "id": "e0a07a9c",
   "metadata": {},
   "source": [
    "### Recall"
   ]
  },
  {
   "cell_type": "code",
   "execution_count": 49,
   "id": "f9900db5",
   "metadata": {},
   "outputs": [
    {
     "data": {
      "text/plain": [
       "0.8919"
      ]
     },
     "execution_count": 49,
     "metadata": {},
     "output_type": "execute_result"
    }
   ],
   "source": [
    "recall_score(y_train, y_pred, average='micro')"
   ]
  },
  {
   "cell_type": "markdown",
   "id": "34e64e39",
   "metadata": {},
   "source": [
    "## F1 Score"
   ]
  },
  {
   "cell_type": "code",
   "execution_count": 50,
   "id": "ab1538c9",
   "metadata": {},
   "outputs": [
    {
     "data": {
      "text/plain": [
       "0.8919"
      ]
     },
     "execution_count": 50,
     "metadata": {},
     "output_type": "execute_result"
    }
   ],
   "source": [
    "from sklearn.metrics import f1_score\n",
    "\n",
    "f1_score(y_train, y_pred, average='micro')"
   ]
  },
  {
   "cell_type": "markdown",
   "id": "79db9b5a",
   "metadata": {},
   "source": [
    "# Multilayer Perceptron | X_test"
   ]
  },
  {
   "cell_type": "markdown",
   "id": "926fffb2",
   "metadata": {},
   "source": [
    "## epochs"
   ]
  },
  {
   "cell_type": "markdown",
   "id": "216ecc42",
   "metadata": {},
   "source": [
    "## max_iter=1000"
   ]
  },
  {
   "cell_type": "code",
   "execution_count": 51,
   "id": "cd702c18",
   "metadata": {},
   "outputs": [],
   "source": [
    "clf = MLPClassifier(random_state=1, max_iter=1000).fit(X_train, y_train)\n",
    "y_pred = clf.predict(X_test)"
   ]
  },
  {
   "cell_type": "code",
   "execution_count": 52,
   "id": "407ea45f",
   "metadata": {},
   "outputs": [
    {
     "data": {
      "text/plain": [
       "array([[857,   5,  13,  20,   2,   3,  91,   0,   9,   0],\n",
       "       [  6, 979,   3,   8,   1,   0,   2,   0,   1,   0],\n",
       "       [ 11,  16, 798,  15,  78,   0,  77,   0,   5,   0],\n",
       "       [ 39,  34,  11, 878,   7,   0,  24,   0,   7,   0],\n",
       "       [  2,   4, 100,  63, 767,   0,  43,   0,  21,   0],\n",
       "       [  1,   0,   0,   1,   0, 943,   0,  33,   6,  16],\n",
       "       [207,   8, 133,  26,  76,   0, 537,   0,  13,   0],\n",
       "       [  0,   0,   0,   0,   0,  24,   0, 945,   3,  28],\n",
       "       [  6,   1,   2,   2,   5,   1,  23,   5, 955,   0],\n",
       "       [  0,   0,   0,   0,   0,  18,   2,  57,   4, 919]], dtype=int64)"
      ]
     },
     "execution_count": 52,
     "metadata": {},
     "output_type": "execute_result"
    }
   ],
   "source": [
    "confusion_matrix(y_test, y_pred)"
   ]
  },
  {
   "cell_type": "code",
   "execution_count": 53,
   "id": "57e2cc25",
   "metadata": {},
   "outputs": [],
   "source": [
    "cnf_matrix = confusion_matrix(y_test, y_pred)"
   ]
  },
  {
   "cell_type": "code",
   "execution_count": 54,
   "id": "76ee1258",
   "metadata": {},
   "outputs": [],
   "source": [
    "FP = cnf_matrix.sum(axis=0) - np.diag(cnf_matrix) \n",
    "FN = cnf_matrix.sum(axis=1) - np.diag(cnf_matrix)\n",
    "TP = np.diag(cnf_matrix)\n",
    "TN = cnf_matrix.sum() - (FP + FN + TP)\n",
    "FP = FP.astype(float)\n",
    "FN = FN.astype(float)\n",
    "TP = TP.astype(float)\n",
    "TN = TN.astype(float)\n",
    "\n",
    "avg_FP=0\n",
    "avg_FN=0\n",
    "avg_TP=0\n",
    "avg_TN=0\n",
    "\n",
    "for i in FP:\n",
    "    avg_FP+=i\n",
    "    \n",
    "for i in FN:\n",
    "    avg_FN+=i\n",
    "    \n",
    "for i in TP:\n",
    "    avg_TP+=i\n",
    "\n",
    "for i in TN:\n",
    "    avg_TN+=i\n",
    "    \n",
    "avg_FP = avg_FP/10\n",
    "avg_FN = avg_FN/10\n",
    "avg_TP = avg_TP/10\n",
    "avg_TN = avg_TN/10"
   ]
  },
  {
   "cell_type": "markdown",
   "id": "c6da82d7",
   "metadata": {},
   "source": [
    "## Accuracy"
   ]
  },
  {
   "cell_type": "code",
   "execution_count": 55,
   "id": "3ae5127e",
   "metadata": {},
   "outputs": [
    {
     "name": "stdout",
     "output_type": "stream",
     "text": [
      "0.8578\n",
      "8578\n"
     ]
    }
   ],
   "source": [
    "from sklearn.metrics import accuracy_score\n",
    "\n",
    "print(accuracy_score(y_test, y_pred))\n",
    "\n",
    "print(accuracy_score(y_test, y_pred, normalize=False))\n",
    "\n",
    "accuracy = accuracy_score(y_test, y_pred)"
   ]
  },
  {
   "cell_type": "markdown",
   "id": "5f7fe07d",
   "metadata": {},
   "source": [
    "0.8578 on the original config, 0.8578 here too, so no change in its ability to generalize when the max_iterations is increased."
   ]
  },
  {
   "cell_type": "markdown",
   "id": "8e2f7f78",
   "metadata": {},
   "source": [
    "## Specificity"
   ]
  },
  {
   "cell_type": "code",
   "execution_count": 56,
   "id": "9f1cdfbc",
   "metadata": {},
   "outputs": [
    {
     "data": {
      "text/plain": [
       "0.9842"
      ]
     },
     "execution_count": 56,
     "metadata": {},
     "output_type": "execute_result"
    }
   ],
   "source": [
    "avg_TN/(avg_TN+avg_FP)"
   ]
  },
  {
   "cell_type": "markdown",
   "id": "8553f9f1",
   "metadata": {},
   "source": [
    "## Precision and Recall"
   ]
  },
  {
   "cell_type": "markdown",
   "id": "75b6705b",
   "metadata": {},
   "source": [
    "### precision = TP / (TP+FP)"
   ]
  },
  {
   "cell_type": "code",
   "execution_count": 57,
   "id": "ab580352",
   "metadata": {},
   "outputs": [
    {
     "data": {
      "text/plain": [
       "0.8578"
      ]
     },
     "execution_count": 57,
     "metadata": {},
     "output_type": "execute_result"
    }
   ],
   "source": [
    "from sklearn.metrics import precision_score, recall_score\n",
    "\n",
    "precision_score(y_test, y_pred, average='micro')"
   ]
  },
  {
   "cell_type": "markdown",
   "id": "e7c7c14a",
   "metadata": {},
   "source": [
    "### Recall"
   ]
  },
  {
   "cell_type": "code",
   "execution_count": 58,
   "id": "fda8b2a3",
   "metadata": {},
   "outputs": [
    {
     "data": {
      "text/plain": [
       "0.8578"
      ]
     },
     "execution_count": 58,
     "metadata": {},
     "output_type": "execute_result"
    }
   ],
   "source": [
    "recall_score(y_test, y_pred, average='micro')"
   ]
  },
  {
   "cell_type": "markdown",
   "id": "d5653e6c",
   "metadata": {},
   "source": [
    "## F1 Score"
   ]
  },
  {
   "cell_type": "code",
   "execution_count": 59,
   "id": "380b165a",
   "metadata": {},
   "outputs": [
    {
     "data": {
      "text/plain": [
       "0.8578"
      ]
     },
     "execution_count": 59,
     "metadata": {},
     "output_type": "execute_result"
    }
   ],
   "source": [
    "from sklearn.metrics import f1_score\n",
    "\n",
    "f1_score(y_test, y_pred, average='micro')"
   ]
  },
  {
   "cell_type": "markdown",
   "id": "5a2a4b26",
   "metadata": {},
   "source": [
    "# Multilayer Perceptron | X_train"
   ]
  },
  {
   "cell_type": "markdown",
   "id": "88fc1089",
   "metadata": {},
   "source": [
    "## momentum"
   ]
  },
  {
   "cell_type": "markdown",
   "id": "ee7e3ac2",
   "metadata": {},
   "source": [
    "## Default = 0.9"
   ]
  },
  {
   "cell_type": "code",
   "execution_count": 60,
   "id": "9d75e26b",
   "metadata": {},
   "outputs": [],
   "source": [
    "clf = MLPClassifier(random_state=1, max_iter=300, solver='sgd').fit(X_train, y_train)\n",
    "y_pred = clf.predict(X_train)"
   ]
  },
  {
   "cell_type": "code",
   "execution_count": 61,
   "id": "7795f771",
   "metadata": {},
   "outputs": [
    {
     "data": {
      "text/plain": [
       "array([[5080,   62,  163,  115,   17,    0,  534,    0,   29,    0],\n",
       "       [   6, 5862,   25,   47,   28,    1,   30,    0,    1,    0],\n",
       "       [  44,    4, 4418,   25, 1264,    0,  238,    0,    7,    0],\n",
       "       [ 261,  329,  151, 4757,  352,    0,  141,    1,    8,    0],\n",
       "       [   5,   25,  428,   82, 5261,    0,  194,    0,    5,    0],\n",
       "       [   0,    0,    1,    0,    0, 5694,    2,  238,   12,   53],\n",
       "       [1007,   38, 1079,   57, 1019,    2, 2746,    0,   52,    0],\n",
       "       [   0,    0,    0,    0,    0,   18,    0, 5939,    1,   42],\n",
       "       [  10,    3,   63,   28,    7,   11,  211,   15, 5652,    0],\n",
       "       [   0,    0,    2,    0,    0,    9,    0,  780,    1, 5208]],\n",
       "      dtype=int64)"
      ]
     },
     "execution_count": 61,
     "metadata": {},
     "output_type": "execute_result"
    }
   ],
   "source": [
    "confusion_matrix(y_train, y_pred)"
   ]
  },
  {
   "cell_type": "code",
   "execution_count": 62,
   "id": "392cf055",
   "metadata": {},
   "outputs": [],
   "source": [
    "cnf_matrix = confusion_matrix(y_train, y_pred)"
   ]
  },
  {
   "cell_type": "code",
   "execution_count": 63,
   "id": "9e4afcc3",
   "metadata": {},
   "outputs": [],
   "source": [
    "FP = cnf_matrix.sum(axis=0) - np.diag(cnf_matrix) \n",
    "FN = cnf_matrix.sum(axis=1) - np.diag(cnf_matrix)\n",
    "TP = np.diag(cnf_matrix)\n",
    "TN = cnf_matrix.sum() - (FP + FN + TP)\n",
    "FP = FP.astype(float)\n",
    "FN = FN.astype(float)\n",
    "TP = TP.astype(float)\n",
    "TN = TN.astype(float)\n",
    "\n",
    "avg_FP=0\n",
    "avg_FN=0\n",
    "avg_TP=0\n",
    "avg_TN=0\n",
    "\n",
    "for i in FP:\n",
    "    avg_FP+=i\n",
    "    \n",
    "for i in FN:\n",
    "    avg_FN+=i\n",
    "    \n",
    "for i in TP:\n",
    "    avg_TP+=i\n",
    "\n",
    "for i in TN:\n",
    "    avg_TN+=i\n",
    "    \n",
    "avg_FP = avg_FP/10\n",
    "avg_FN = avg_FN/10\n",
    "avg_TP = avg_TP/10\n",
    "avg_TN = avg_TN/10"
   ]
  },
  {
   "cell_type": "markdown",
   "id": "f4f8e944",
   "metadata": {},
   "source": [
    "## Accuracy"
   ]
  },
  {
   "cell_type": "code",
   "execution_count": 64,
   "id": "bc6377a3",
   "metadata": {},
   "outputs": [
    {
     "name": "stdout",
     "output_type": "stream",
     "text": [
      "0.8436166666666667\n",
      "50617\n"
     ]
    }
   ],
   "source": [
    "from sklearn.metrics import accuracy_score\n",
    "\n",
    "print(accuracy_score(y_train, y_pred))\n",
    "\n",
    "print(accuracy_score(y_train, y_pred, normalize=False))\n",
    "\n",
    "accuracy = accuracy_score(y_train, y_pred)"
   ]
  },
  {
   "cell_type": "markdown",
   "id": "fed86095",
   "metadata": {},
   "source": [
    "A decrease in accuracy from the original config, though note we have also had to change the solver to allow for momentum."
   ]
  },
  {
   "cell_type": "markdown",
   "id": "06ff76bf",
   "metadata": {},
   "source": [
    "## Specificity"
   ]
  },
  {
   "cell_type": "code",
   "execution_count": 65,
   "id": "a1e614a3",
   "metadata": {},
   "outputs": [
    {
     "data": {
      "text/plain": [
       "0.982624074074074"
      ]
     },
     "execution_count": 65,
     "metadata": {},
     "output_type": "execute_result"
    }
   ],
   "source": [
    "avg_TN/(avg_TN+avg_FP)"
   ]
  },
  {
   "cell_type": "markdown",
   "id": "42bcdd46",
   "metadata": {},
   "source": [
    "## Precision and Recall"
   ]
  },
  {
   "cell_type": "markdown",
   "id": "3951b36b",
   "metadata": {},
   "source": [
    "### precision = TP / (TP+FP)"
   ]
  },
  {
   "cell_type": "code",
   "execution_count": 66,
   "id": "de477011",
   "metadata": {},
   "outputs": [
    {
     "data": {
      "text/plain": [
       "0.8436166666666667"
      ]
     },
     "execution_count": 66,
     "metadata": {},
     "output_type": "execute_result"
    }
   ],
   "source": [
    "from sklearn.metrics import precision_score, recall_score\n",
    "\n",
    "precision_score(y_train, y_pred, average='micro')"
   ]
  },
  {
   "cell_type": "markdown",
   "id": "4fbec314",
   "metadata": {},
   "source": [
    "### Recall"
   ]
  },
  {
   "cell_type": "code",
   "execution_count": 67,
   "id": "151cd0e3",
   "metadata": {},
   "outputs": [
    {
     "data": {
      "text/plain": [
       "0.8436166666666667"
      ]
     },
     "execution_count": 67,
     "metadata": {},
     "output_type": "execute_result"
    }
   ],
   "source": [
    "recall_score(y_train, y_pred, average='micro')"
   ]
  },
  {
   "cell_type": "markdown",
   "id": "44981dbd",
   "metadata": {},
   "source": [
    "## F1 Score"
   ]
  },
  {
   "cell_type": "code",
   "execution_count": 68,
   "id": "babd4231",
   "metadata": {},
   "outputs": [
    {
     "data": {
      "text/plain": [
       "0.8436166666666667"
      ]
     },
     "execution_count": 68,
     "metadata": {},
     "output_type": "execute_result"
    }
   ],
   "source": [
    "from sklearn.metrics import f1_score\n",
    "\n",
    "f1_score(y_train, y_pred, average='micro')"
   ]
  },
  {
   "cell_type": "markdown",
   "id": "0a062d23",
   "metadata": {},
   "source": [
    "# Multilayer Perceptron | X_test"
   ]
  },
  {
   "cell_type": "markdown",
   "id": "92aaf56e",
   "metadata": {},
   "source": [
    "## momentum"
   ]
  },
  {
   "cell_type": "markdown",
   "id": "864d5752",
   "metadata": {},
   "source": [
    "## default=0.9"
   ]
  },
  {
   "cell_type": "code",
   "execution_count": 69,
   "id": "15eccd80",
   "metadata": {},
   "outputs": [],
   "source": [
    "clf = MLPClassifier(random_state=1, max_iter=300, solver='sgd').fit(X_train, y_train)\n",
    "y_pred = clf.predict(X_test)"
   ]
  },
  {
   "cell_type": "code",
   "execution_count": 70,
   "id": "2922c442",
   "metadata": {},
   "outputs": [
    {
     "data": {
      "text/plain": [
       "array([[842,  11,  38,  16,   2,   2,  82,   0,   7,   0],\n",
       "       [  4, 971,   4,   8,   5,   1,   6,   0,   1,   0],\n",
       "       [ 17,   0, 720,   5, 221,   0,  32,   0,   5,   0],\n",
       "       [ 50,  60,  29, 777,  54,   1,  26,   0,   3,   0],\n",
       "       [  0,   7,  58,  13, 879,   1,  40,   0,   2,   0],\n",
       "       [  1,   1,   2,   0,   0, 865,   3,  87,  13,  28],\n",
       "       [184,  11, 167,  11, 170,   0, 442,   0,  15,   0],\n",
       "       [  0,   0,   0,   0,   0,  12,   0, 970,   1,  17],\n",
       "       [  4,   0,  16,   4,   3,   6,  47,   4, 916,   0],\n",
       "       [  0,   0,   0,   0,   0,   5,   0, 140,   0, 855]], dtype=int64)"
      ]
     },
     "execution_count": 70,
     "metadata": {},
     "output_type": "execute_result"
    }
   ],
   "source": [
    "confusion_matrix(y_test, y_pred)"
   ]
  },
  {
   "cell_type": "code",
   "execution_count": 71,
   "id": "087fd2bc",
   "metadata": {},
   "outputs": [],
   "source": [
    "cnf_matrix = confusion_matrix(y_test, y_pred)"
   ]
  },
  {
   "cell_type": "code",
   "execution_count": 72,
   "id": "3ca685ea",
   "metadata": {},
   "outputs": [],
   "source": [
    "FP = cnf_matrix.sum(axis=0) - np.diag(cnf_matrix) \n",
    "FN = cnf_matrix.sum(axis=1) - np.diag(cnf_matrix)\n",
    "TP = np.diag(cnf_matrix)\n",
    "TN = cnf_matrix.sum() - (FP + FN + TP)\n",
    "FP = FP.astype(float)\n",
    "FN = FN.astype(float)\n",
    "TP = TP.astype(float)\n",
    "TN = TN.astype(float)\n",
    "\n",
    "avg_FP=0\n",
    "avg_FN=0\n",
    "avg_TP=0\n",
    "avg_TN=0\n",
    "\n",
    "for i in FP:\n",
    "    avg_FP+=i\n",
    "    \n",
    "for i in FN:\n",
    "    avg_FN+=i\n",
    "    \n",
    "for i in TP:\n",
    "    avg_TP+=i\n",
    "\n",
    "for i in TN:\n",
    "    avg_TN+=i\n",
    "    \n",
    "avg_FP = avg_FP/10\n",
    "avg_FN = avg_FN/10\n",
    "avg_TP = avg_TP/10\n",
    "avg_TN = avg_TN/10"
   ]
  },
  {
   "cell_type": "markdown",
   "id": "fb616081",
   "metadata": {},
   "source": [
    "## Accuracy"
   ]
  },
  {
   "cell_type": "code",
   "execution_count": 73,
   "id": "d4974bda",
   "metadata": {},
   "outputs": [
    {
     "name": "stdout",
     "output_type": "stream",
     "text": [
      "0.8237\n",
      "8237\n"
     ]
    }
   ],
   "source": [
    "from sklearn.metrics import accuracy_score\n",
    "\n",
    "print(accuracy_score(y_test, y_pred))\n",
    "\n",
    "print(accuracy_score(y_test, y_pred, normalize=False))\n",
    "\n",
    "accuracy = accuracy_score(y_test, y_pred)"
   ]
  },
  {
   "cell_type": "markdown",
   "id": "09c85b62",
   "metadata": {},
   "source": [
    "A decrease from the original config. Not a great accuarcy."
   ]
  },
  {
   "cell_type": "markdown",
   "id": "e136f108",
   "metadata": {},
   "source": [
    "## Specificity"
   ]
  },
  {
   "cell_type": "code",
   "execution_count": 74,
   "id": "4bef3798",
   "metadata": {},
   "outputs": [
    {
     "data": {
      "text/plain": [
       "0.9804111111111112"
      ]
     },
     "execution_count": 74,
     "metadata": {},
     "output_type": "execute_result"
    }
   ],
   "source": [
    "avg_TN/(avg_TN+avg_FP)"
   ]
  },
  {
   "cell_type": "markdown",
   "id": "a55a6199",
   "metadata": {},
   "source": [
    "## Precision and Recall"
   ]
  },
  {
   "cell_type": "markdown",
   "id": "c4e0e45b",
   "metadata": {},
   "source": [
    "### precision = TP / (TP+FP)"
   ]
  },
  {
   "cell_type": "code",
   "execution_count": 75,
   "id": "834b95f7",
   "metadata": {},
   "outputs": [
    {
     "data": {
      "text/plain": [
       "0.8237"
      ]
     },
     "execution_count": 75,
     "metadata": {},
     "output_type": "execute_result"
    }
   ],
   "source": [
    "from sklearn.metrics import precision_score, recall_score\n",
    "\n",
    "precision_score(y_test, y_pred, average='micro')"
   ]
  },
  {
   "cell_type": "markdown",
   "id": "13144e55",
   "metadata": {},
   "source": [
    "### Recall"
   ]
  },
  {
   "cell_type": "code",
   "execution_count": 76,
   "id": "116d300f",
   "metadata": {},
   "outputs": [
    {
     "data": {
      "text/plain": [
       "0.8237"
      ]
     },
     "execution_count": 76,
     "metadata": {},
     "output_type": "execute_result"
    }
   ],
   "source": [
    "recall_score(y_test, y_pred, average='micro')"
   ]
  },
  {
   "cell_type": "markdown",
   "id": "3d6dd785",
   "metadata": {},
   "source": [
    "## F1 Score"
   ]
  },
  {
   "cell_type": "code",
   "execution_count": 77,
   "id": "6e0689d0",
   "metadata": {},
   "outputs": [
    {
     "data": {
      "text/plain": [
       "0.8237000000000001"
      ]
     },
     "execution_count": 77,
     "metadata": {},
     "output_type": "execute_result"
    }
   ],
   "source": [
    "from sklearn.metrics import f1_score\n",
    "\n",
    "f1_score(y_test, y_pred, average='micro')"
   ]
  },
  {
   "cell_type": "markdown",
   "id": "7a522cc2",
   "metadata": {},
   "source": [
    "# Multilayer Perceptron | X_train"
   ]
  },
  {
   "cell_type": "markdown",
   "id": "f33cdc96",
   "metadata": {},
   "source": [
    "## momentum = 0.2"
   ]
  },
  {
   "cell_type": "code",
   "execution_count": 78,
   "id": "0fe9184d",
   "metadata": {},
   "outputs": [],
   "source": [
    "clf = MLPClassifier(random_state=1, max_iter=300, solver='sgd', momentum=0.2).fit(X_train, y_train)\n",
    "y_pred = clf.predict(X_train)"
   ]
  },
  {
   "cell_type": "code",
   "execution_count": 79,
   "id": "fcab3215",
   "metadata": {},
   "outputs": [
    {
     "data": {
      "text/plain": [
       "array([[4911,   28,   24,  128,    7,    1,  848,    0,   53,    0],\n",
       "       [  12, 5816,    4,   70,    3,    0,   87,    0,    7,    1],\n",
       "       [  74,    7, 4495,   37,  371,    0,  987,    0,   29,    0],\n",
       "       [ 485,  122,   33, 4963,   63,    0,  311,    0,   23,    0],\n",
       "       [  21,   34,  918,  377, 3035,    0, 1571,    0,   44,    0],\n",
       "       [   0,    0,    0,    1,    0, 5870,    2,   93,   13,   21],\n",
       "       [ 818,   22,  538,   98,  206,    0, 4188,    1,  129,    0],\n",
       "       [   0,    0,    0,    0,    0,   23,    0, 5730,    3,  244],\n",
       "       [   9,    5,    9,    8,    4,    3,  148,    8, 5806,    0],\n",
       "       [   0,    0,    0,    0,    0,    4,    2,  131,    0, 5863]],\n",
       "      dtype=int64)"
      ]
     },
     "execution_count": 79,
     "metadata": {},
     "output_type": "execute_result"
    }
   ],
   "source": [
    "confusion_matrix(y_train, y_pred)"
   ]
  },
  {
   "cell_type": "code",
   "execution_count": 80,
   "id": "18e63494",
   "metadata": {},
   "outputs": [],
   "source": [
    "cnf_matrix = confusion_matrix(y_train, y_pred)"
   ]
  },
  {
   "cell_type": "code",
   "execution_count": 81,
   "id": "198e6607",
   "metadata": {},
   "outputs": [],
   "source": [
    "FP = cnf_matrix.sum(axis=0) - np.diag(cnf_matrix) \n",
    "FN = cnf_matrix.sum(axis=1) - np.diag(cnf_matrix)\n",
    "TP = np.diag(cnf_matrix)\n",
    "TN = cnf_matrix.sum() - (FP + FN + TP)\n",
    "FP = FP.astype(float)\n",
    "FN = FN.astype(float)\n",
    "TP = TP.astype(float)\n",
    "TN = TN.astype(float)\n",
    "\n",
    "avg_FP=0\n",
    "avg_FN=0\n",
    "avg_TP=0\n",
    "avg_TN=0\n",
    "\n",
    "for i in FP:\n",
    "    avg_FP+=i\n",
    "    \n",
    "for i in FN:\n",
    "    avg_FN+=i\n",
    "    \n",
    "for i in TP:\n",
    "    avg_TP+=i\n",
    "\n",
    "for i in TN:\n",
    "    avg_TN+=i\n",
    "    \n",
    "avg_FP = avg_FP/10\n",
    "avg_FN = avg_FN/10\n",
    "avg_TP = avg_TP/10\n",
    "avg_TN = avg_TN/10"
   ]
  },
  {
   "cell_type": "markdown",
   "id": "a8fd0238",
   "metadata": {},
   "source": [
    "## Accuracy"
   ]
  },
  {
   "cell_type": "code",
   "execution_count": 82,
   "id": "9d3d2299",
   "metadata": {},
   "outputs": [
    {
     "name": "stdout",
     "output_type": "stream",
     "text": [
      "0.8446166666666667\n",
      "50677\n"
     ]
    }
   ],
   "source": [
    "from sklearn.metrics import accuracy_score\n",
    "\n",
    "print(accuracy_score(y_train, y_pred))\n",
    "\n",
    "print(accuracy_score(y_train, y_pred, normalize=False))\n",
    "\n",
    "accuracy = accuracy_score(y_train, y_pred)"
   ]
  },
  {
   "cell_type": "markdown",
   "id": "5ab7814e",
   "metadata": {},
   "source": [
    "Not much change."
   ]
  },
  {
   "cell_type": "markdown",
   "id": "eee5c852",
   "metadata": {},
   "source": [
    "## Specificity"
   ]
  },
  {
   "cell_type": "code",
   "execution_count": 83,
   "id": "3ace0c70",
   "metadata": {},
   "outputs": [
    {
     "data": {
      "text/plain": [
       "0.9827351851851851"
      ]
     },
     "execution_count": 83,
     "metadata": {},
     "output_type": "execute_result"
    }
   ],
   "source": [
    "avg_TN/(avg_TN+avg_FP)"
   ]
  },
  {
   "cell_type": "markdown",
   "id": "52dadf48",
   "metadata": {},
   "source": [
    "## Precision and Recall"
   ]
  },
  {
   "cell_type": "markdown",
   "id": "d10e9f1b",
   "metadata": {},
   "source": [
    "### precision = TP / (TP+FP)"
   ]
  },
  {
   "cell_type": "code",
   "execution_count": 84,
   "id": "d0b85f0b",
   "metadata": {},
   "outputs": [
    {
     "data": {
      "text/plain": [
       "0.8446166666666667"
      ]
     },
     "execution_count": 84,
     "metadata": {},
     "output_type": "execute_result"
    }
   ],
   "source": [
    "from sklearn.metrics import precision_score, recall_score\n",
    "\n",
    "precision_score(y_train, y_pred, average='micro')"
   ]
  },
  {
   "cell_type": "markdown",
   "id": "ca146b90",
   "metadata": {},
   "source": [
    "Precision is low, so there must be a lot of false positives."
   ]
  },
  {
   "cell_type": "markdown",
   "id": "27e9932c",
   "metadata": {},
   "source": [
    "### Recall"
   ]
  },
  {
   "cell_type": "code",
   "execution_count": 85,
   "id": "7bc9eace",
   "metadata": {},
   "outputs": [
    {
     "data": {
      "text/plain": [
       "0.8446166666666667"
      ]
     },
     "execution_count": 85,
     "metadata": {},
     "output_type": "execute_result"
    }
   ],
   "source": [
    "recall_score(y_train, y_pred, average='micro')"
   ]
  },
  {
   "cell_type": "markdown",
   "id": "ef4d1662",
   "metadata": {},
   "source": [
    "## F1 Score"
   ]
  },
  {
   "cell_type": "code",
   "execution_count": 86,
   "id": "23dfe114",
   "metadata": {},
   "outputs": [
    {
     "data": {
      "text/plain": [
       "0.8446166666666667"
      ]
     },
     "execution_count": 86,
     "metadata": {},
     "output_type": "execute_result"
    }
   ],
   "source": [
    "from sklearn.metrics import f1_score\n",
    "\n",
    "f1_score(y_train, y_pred, average='micro')"
   ]
  },
  {
   "cell_type": "markdown",
   "id": "4328dc7d",
   "metadata": {},
   "source": [
    "# Multilayer Perceptron | X_test"
   ]
  },
  {
   "cell_type": "markdown",
   "id": "d43bf925",
   "metadata": {},
   "source": [
    "## momentum = 0.2"
   ]
  },
  {
   "cell_type": "code",
   "execution_count": 87,
   "id": "70582531",
   "metadata": {},
   "outputs": [],
   "source": [
    "clf = MLPClassifier(random_state=1, max_iter=300, solver='sgd', momentum=0.2).fit(X_train, y_train)\n",
    "y_pred = clf.predict(X_test)"
   ]
  },
  {
   "cell_type": "code",
   "execution_count": 88,
   "id": "079164e1",
   "metadata": {},
   "outputs": [
    {
     "data": {
      "text/plain": [
       "array([[786,   8,   9,  28,   1,   1, 152,   2,  13,   0],\n",
       "       [ 10, 961,   0,   8,   1,   1,  18,   0,   1,   0],\n",
       "       [ 13,   2, 736,   8,  57,   0, 175,   0,   9,   0],\n",
       "       [ 68,  31,  11, 829,  15,   1,  37,   0,   8,   0],\n",
       "       [  2,   5, 154,  55, 527,   0, 247,   0,  10,   0],\n",
       "       [  2,   0,   3,   0,   0, 900,   0,  51,   7,  37],\n",
       "       [154,   4,  86,  22,  36,   0, 674,   0,  24,   0],\n",
       "       [  0,   0,   0,   0,   0,  25,   0, 907,   3,  65],\n",
       "       [  0,   1,   2,   3,   1,   7,  35,   6, 945,   0],\n",
       "       [  0,   0,   0,   0,   0,  12,   0,  34,   0, 954]], dtype=int64)"
      ]
     },
     "execution_count": 88,
     "metadata": {},
     "output_type": "execute_result"
    }
   ],
   "source": [
    "confusion_matrix(y_test, y_pred)"
   ]
  },
  {
   "cell_type": "code",
   "execution_count": 89,
   "id": "5a118ea4",
   "metadata": {},
   "outputs": [],
   "source": [
    "cnf_matrix = confusion_matrix(y_test, y_pred)"
   ]
  },
  {
   "cell_type": "code",
   "execution_count": 90,
   "id": "f35fa9e2",
   "metadata": {},
   "outputs": [],
   "source": [
    "FP = cnf_matrix.sum(axis=0) - np.diag(cnf_matrix) \n",
    "FN = cnf_matrix.sum(axis=1) - np.diag(cnf_matrix)\n",
    "TP = np.diag(cnf_matrix)\n",
    "TN = cnf_matrix.sum() - (FP + FN + TP)\n",
    "FP = FP.astype(float)\n",
    "FN = FN.astype(float)\n",
    "TP = TP.astype(float)\n",
    "TN = TN.astype(float)\n",
    "\n",
    "avg_FP=0\n",
    "avg_FN=0\n",
    "avg_TP=0\n",
    "avg_TN=0\n",
    "\n",
    "for i in FP:\n",
    "    avg_FP+=i\n",
    "    \n",
    "for i in FN:\n",
    "    avg_FN+=i\n",
    "    \n",
    "for i in TP:\n",
    "    avg_TP+=i\n",
    "\n",
    "for i in TN:\n",
    "    avg_TN+=i\n",
    "    \n",
    "avg_FP = avg_FP/10\n",
    "avg_FN = avg_FN/10\n",
    "avg_TP = avg_TP/10\n",
    "avg_TN = avg_TN/10"
   ]
  },
  {
   "cell_type": "markdown",
   "id": "61b946c2",
   "metadata": {},
   "source": [
    "## Accuracy"
   ]
  },
  {
   "cell_type": "code",
   "execution_count": 91,
   "id": "0cccca21",
   "metadata": {},
   "outputs": [
    {
     "name": "stdout",
     "output_type": "stream",
     "text": [
      "0.8219\n",
      "8219\n"
     ]
    }
   ],
   "source": [
    "from sklearn.metrics import accuracy_score\n",
    "\n",
    "print(accuracy_score(y_test, y_pred))\n",
    "\n",
    "print(accuracy_score(y_test, y_pred, normalize=False))\n",
    "\n",
    "accuracy = accuracy_score(y_test, y_pred)"
   ]
  },
  {
   "cell_type": "markdown",
   "id": "4ddc5300",
   "metadata": {},
   "source": [
    "Accuracy has further decreased."
   ]
  },
  {
   "cell_type": "markdown",
   "id": "b98ddfc1",
   "metadata": {},
   "source": [
    "## Specificity"
   ]
  },
  {
   "cell_type": "code",
   "execution_count": 92,
   "id": "dab1fc63",
   "metadata": {},
   "outputs": [
    {
     "data": {
      "text/plain": [
       "0.980211111111111"
      ]
     },
     "execution_count": 92,
     "metadata": {},
     "output_type": "execute_result"
    }
   ],
   "source": [
    "avg_TN/(avg_TN+avg_FP)"
   ]
  },
  {
   "cell_type": "markdown",
   "id": "e6f61910",
   "metadata": {},
   "source": [
    "## Precision and Recall"
   ]
  },
  {
   "cell_type": "markdown",
   "id": "badf8035",
   "metadata": {},
   "source": [
    "### precision = TP / (TP+FP)"
   ]
  },
  {
   "cell_type": "code",
   "execution_count": 93,
   "id": "a23db13d",
   "metadata": {},
   "outputs": [
    {
     "data": {
      "text/plain": [
       "0.8219"
      ]
     },
     "execution_count": 93,
     "metadata": {},
     "output_type": "execute_result"
    }
   ],
   "source": [
    "from sklearn.metrics import precision_score, recall_score\n",
    "\n",
    "precision_score(y_test, y_pred, average='micro')"
   ]
  },
  {
   "cell_type": "markdown",
   "id": "5b5ca715",
   "metadata": {},
   "source": [
    "### Recall"
   ]
  },
  {
   "cell_type": "code",
   "execution_count": 94,
   "id": "f5e0d25e",
   "metadata": {},
   "outputs": [
    {
     "data": {
      "text/plain": [
       "0.8219"
      ]
     },
     "execution_count": 94,
     "metadata": {},
     "output_type": "execute_result"
    }
   ],
   "source": [
    "recall_score(y_test, y_pred, average='micro')"
   ]
  },
  {
   "cell_type": "markdown",
   "id": "c3282d5d",
   "metadata": {},
   "source": [
    "## F1 Score"
   ]
  },
  {
   "cell_type": "code",
   "execution_count": 95,
   "id": "95946fc7",
   "metadata": {},
   "outputs": [
    {
     "data": {
      "text/plain": [
       "0.8219"
      ]
     },
     "execution_count": 95,
     "metadata": {},
     "output_type": "execute_result"
    }
   ],
   "source": [
    "from sklearn.metrics import f1_score\n",
    "\n",
    "f1_score(y_test, y_pred, average='micro')"
   ]
  },
  {
   "cell_type": "markdown",
   "id": "ad4a9ed4",
   "metadata": {},
   "source": [
    "# Multilayer Perceptron | X_train"
   ]
  },
  {
   "cell_type": "markdown",
   "id": "26632ea0",
   "metadata": {},
   "source": [
    "## momentum = 1.0"
   ]
  },
  {
   "cell_type": "code",
   "execution_count": 96,
   "id": "086442cb",
   "metadata": {},
   "outputs": [],
   "source": [
    "clf = MLPClassifier(random_state=1, max_iter=300, solver='sgd', momentum=1.0).fit(X_train, y_train)\n",
    "y_pred = clf.predict(X_train)"
   ]
  },
  {
   "cell_type": "code",
   "execution_count": 97,
   "id": "4ce452f2",
   "metadata": {},
   "outputs": [
    {
     "data": {
      "text/plain": [
       "array([[   0,    0,    0,    0,    0,    0,    0,    0, 6000,    0],\n",
       "       [   0,    0,    0,    0,    0,    0,    0,    0, 6000,    0],\n",
       "       [   0,    0,    0,    0,    0,    0,    0,    0, 6000,    0],\n",
       "       [   0,    0,    0,    0,    0,    0,    0,    0, 6000,    0],\n",
       "       [   0,    0,    0,    0,    0,    0,    0,    0, 6000,    0],\n",
       "       [   0,    0,    0,    0,    0,    3,    0,    0, 5997,    0],\n",
       "       [   0,    0,    0,    0,    0,    0,    0,    0, 6000,    0],\n",
       "       [   0,    0,    0,    0,    0,    0,    0,    0, 6000,    0],\n",
       "       [   0,    0,    0,    0,    0,    0,    0,    0, 6000,    0],\n",
       "       [   0,    0,    0,    0,    0,    0,    0,    0, 6000,    0]],\n",
       "      dtype=int64)"
      ]
     },
     "execution_count": 97,
     "metadata": {},
     "output_type": "execute_result"
    }
   ],
   "source": [
    "confusion_matrix(y_train, y_pred)"
   ]
  },
  {
   "cell_type": "code",
   "execution_count": 98,
   "id": "8cf32c7c",
   "metadata": {},
   "outputs": [],
   "source": [
    "cnf_matrix = confusion_matrix(y_train, y_pred)"
   ]
  },
  {
   "cell_type": "code",
   "execution_count": 99,
   "id": "174a1ed8",
   "metadata": {},
   "outputs": [],
   "source": [
    "FP = cnf_matrix.sum(axis=0) - np.diag(cnf_matrix) \n",
    "FN = cnf_matrix.sum(axis=1) - np.diag(cnf_matrix)\n",
    "TP = np.diag(cnf_matrix)\n",
    "TN = cnf_matrix.sum() - (FP + FN + TP)\n",
    "FP = FP.astype(float)\n",
    "FN = FN.astype(float)\n",
    "TP = TP.astype(float)\n",
    "TN = TN.astype(float)\n",
    "\n",
    "avg_FP=0\n",
    "avg_FN=0\n",
    "avg_TP=0\n",
    "avg_TN=0\n",
    "\n",
    "for i in FP:\n",
    "    avg_FP+=i\n",
    "    \n",
    "for i in FN:\n",
    "    avg_FN+=i\n",
    "    \n",
    "for i in TP:\n",
    "    avg_TP+=i\n",
    "\n",
    "for i in TN:\n",
    "    avg_TN+=i\n",
    "    \n",
    "avg_FP = avg_FP/10\n",
    "avg_FN = avg_FN/10\n",
    "avg_TP = avg_TP/10\n",
    "avg_TN = avg_TN/10"
   ]
  },
  {
   "cell_type": "markdown",
   "id": "2cc8e660",
   "metadata": {},
   "source": [
    "## Accuracy"
   ]
  },
  {
   "cell_type": "code",
   "execution_count": 100,
   "id": "9eb64317",
   "metadata": {},
   "outputs": [
    {
     "name": "stdout",
     "output_type": "stream",
     "text": [
      "0.10005\n",
      "6003\n"
     ]
    }
   ],
   "source": [
    "from sklearn.metrics import accuracy_score\n",
    "\n",
    "print(accuracy_score(y_train, y_pred))\n",
    "\n",
    "print(accuracy_score(y_train, y_pred, normalize=False))\n",
    "\n",
    "accuracy = accuracy_score(y_train, y_pred)"
   ]
  },
  {
   "cell_type": "markdown",
   "id": "d22d3f69",
   "metadata": {},
   "source": [
    "## Specificity"
   ]
  },
  {
   "cell_type": "code",
   "execution_count": 101,
   "id": "b1defeab",
   "metadata": {},
   "outputs": [
    {
     "data": {
      "text/plain": [
       "0.9000055555555556"
      ]
     },
     "execution_count": 101,
     "metadata": {},
     "output_type": "execute_result"
    }
   ],
   "source": [
    "avg_TN/(avg_TN+avg_FP)"
   ]
  },
  {
   "cell_type": "markdown",
   "id": "5b4964e4",
   "metadata": {},
   "source": [
    "## Precision and Recall"
   ]
  },
  {
   "cell_type": "markdown",
   "id": "bfe7dc65",
   "metadata": {},
   "source": [
    "### precision = TP / (TP+FP)"
   ]
  },
  {
   "cell_type": "code",
   "execution_count": 102,
   "id": "266fd852",
   "metadata": {},
   "outputs": [
    {
     "data": {
      "text/plain": [
       "0.10005"
      ]
     },
     "execution_count": 102,
     "metadata": {},
     "output_type": "execute_result"
    }
   ],
   "source": [
    "from sklearn.metrics import precision_score, recall_score\n",
    "\n",
    "precision_score(y_train, y_pred, average='micro')"
   ]
  },
  {
   "cell_type": "markdown",
   "id": "0894e361",
   "metadata": {},
   "source": [
    "### Recall"
   ]
  },
  {
   "cell_type": "code",
   "execution_count": 103,
   "id": "c58747b9",
   "metadata": {},
   "outputs": [
    {
     "data": {
      "text/plain": [
       "0.10005"
      ]
     },
     "execution_count": 103,
     "metadata": {},
     "output_type": "execute_result"
    }
   ],
   "source": [
    "recall_score(y_train, y_pred, average='micro')"
   ]
  },
  {
   "cell_type": "markdown",
   "id": "b194f874",
   "metadata": {},
   "source": [
    "## F1 Score"
   ]
  },
  {
   "cell_type": "code",
   "execution_count": 104,
   "id": "79a90473",
   "metadata": {},
   "outputs": [
    {
     "data": {
      "text/plain": [
       "0.10005"
      ]
     },
     "execution_count": 104,
     "metadata": {},
     "output_type": "execute_result"
    }
   ],
   "source": [
    "from sklearn.metrics import f1_score\n",
    "\n",
    "f1_score(y_train, y_pred, average='micro')"
   ]
  },
  {
   "cell_type": "markdown",
   "id": "23e1cbf6",
   "metadata": {},
   "source": [
    "# Multilayer Perceptron | X_test"
   ]
  },
  {
   "cell_type": "markdown",
   "id": "ccbf1e89",
   "metadata": {},
   "source": [
    "## momentum = 1.0"
   ]
  },
  {
   "cell_type": "code",
   "execution_count": 105,
   "id": "e78209fa",
   "metadata": {},
   "outputs": [],
   "source": [
    "clf = MLPClassifier(random_state=1, max_iter=300, solver='sgd', momentum=1.0).fit(X_train, y_train)\n",
    "y_pred = clf.predict(X_test)"
   ]
  },
  {
   "cell_type": "code",
   "execution_count": 106,
   "id": "bab0a3f6",
   "metadata": {},
   "outputs": [
    {
     "data": {
      "text/plain": [
       "array([[   0,    0,    0,    0,    0,    0,    0,    0, 1000,    0],\n",
       "       [   0,    0,    0,    0,    0,    0,    0,    0, 1000,    0],\n",
       "       [   0,    0,    0,    0,    0,    0,    0,    0, 1000,    0],\n",
       "       [   0,    0,    0,    0,    0,    0,    0,    0, 1000,    0],\n",
       "       [   0,    0,    0,    0,    0,    0,    0,    0, 1000,    0],\n",
       "       [   0,    0,    0,    0,    0,    1,    0,    0,  999,    0],\n",
       "       [   0,    0,    0,    0,    0,    0,    0,    0, 1000,    0],\n",
       "       [   0,    0,    0,    0,    0,    0,    0,    0, 1000,    0],\n",
       "       [   0,    0,    0,    0,    0,    0,    0,    0, 1000,    0],\n",
       "       [   0,    0,    0,    0,    0,    0,    0,    0, 1000,    0]],\n",
       "      dtype=int64)"
      ]
     },
     "execution_count": 106,
     "metadata": {},
     "output_type": "execute_result"
    }
   ],
   "source": [
    "confusion_matrix(y_test, y_pred)"
   ]
  },
  {
   "cell_type": "code",
   "execution_count": 107,
   "id": "13dbeee4",
   "metadata": {},
   "outputs": [],
   "source": [
    "cnf_matrix = confusion_matrix(y_test, y_pred)"
   ]
  },
  {
   "cell_type": "code",
   "execution_count": 108,
   "id": "204a9b85",
   "metadata": {},
   "outputs": [],
   "source": [
    "FP = cnf_matrix.sum(axis=0) - np.diag(cnf_matrix) \n",
    "FN = cnf_matrix.sum(axis=1) - np.diag(cnf_matrix)\n",
    "TP = np.diag(cnf_matrix)\n",
    "TN = cnf_matrix.sum() - (FP + FN + TP)\n",
    "FP = FP.astype(float)\n",
    "FN = FN.astype(float)\n",
    "TP = TP.astype(float)\n",
    "TN = TN.astype(float)\n",
    "\n",
    "avg_FP=0\n",
    "avg_FN=0\n",
    "avg_TP=0\n",
    "avg_TN=0\n",
    "\n",
    "for i in FP:\n",
    "    avg_FP+=i\n",
    "    \n",
    "for i in FN:\n",
    "    avg_FN+=i\n",
    "    \n",
    "for i in TP:\n",
    "    avg_TP+=i\n",
    "\n",
    "for i in TN:\n",
    "    avg_TN+=i\n",
    "    \n",
    "avg_FP = avg_FP/10\n",
    "avg_FN = avg_FN/10\n",
    "avg_TP = avg_TP/10\n",
    "avg_TN = avg_TN/10"
   ]
  },
  {
   "cell_type": "markdown",
   "id": "f0740524",
   "metadata": {},
   "source": [
    "## Accuracy"
   ]
  },
  {
   "cell_type": "code",
   "execution_count": 109,
   "id": "6a0e3675",
   "metadata": {},
   "outputs": [
    {
     "name": "stdout",
     "output_type": "stream",
     "text": [
      "0.1001\n",
      "1001\n"
     ]
    }
   ],
   "source": [
    "from sklearn.metrics import accuracy_score\n",
    "\n",
    "print(accuracy_score(y_test, y_pred))\n",
    "\n",
    "print(accuracy_score(y_test, y_pred, normalize=False))\n",
    "\n",
    "accuracy = accuracy_score(y_test, y_pred)"
   ]
  },
  {
   "cell_type": "markdown",
   "id": "7743d7fe",
   "metadata": {},
   "source": [
    "## Specificity"
   ]
  },
  {
   "cell_type": "code",
   "execution_count": 110,
   "id": "7673dfcc",
   "metadata": {},
   "outputs": [
    {
     "data": {
      "text/plain": [
       "0.9000111111111112"
      ]
     },
     "execution_count": 110,
     "metadata": {},
     "output_type": "execute_result"
    }
   ],
   "source": [
    "avg_TN/(avg_TN+avg_FP)"
   ]
  },
  {
   "cell_type": "markdown",
   "id": "73dbcaa3",
   "metadata": {},
   "source": [
    "## Precision and Recall"
   ]
  },
  {
   "cell_type": "markdown",
   "id": "3a527b10",
   "metadata": {},
   "source": [
    "### precision = TP / (TP+FP)"
   ]
  },
  {
   "cell_type": "code",
   "execution_count": 111,
   "id": "749b9333",
   "metadata": {},
   "outputs": [
    {
     "data": {
      "text/plain": [
       "0.1001"
      ]
     },
     "execution_count": 111,
     "metadata": {},
     "output_type": "execute_result"
    }
   ],
   "source": [
    "from sklearn.metrics import precision_score, recall_score\n",
    "\n",
    "precision_score(y_test, y_pred, average='micro')"
   ]
  },
  {
   "cell_type": "markdown",
   "id": "dd3847b1",
   "metadata": {},
   "source": [
    "### Recall"
   ]
  },
  {
   "cell_type": "code",
   "execution_count": 112,
   "id": "0a087983",
   "metadata": {},
   "outputs": [
    {
     "data": {
      "text/plain": [
       "0.1001"
      ]
     },
     "execution_count": 112,
     "metadata": {},
     "output_type": "execute_result"
    }
   ],
   "source": [
    "recall_score(y_test, y_pred, average='micro')"
   ]
  },
  {
   "cell_type": "markdown",
   "id": "80ffeca9",
   "metadata": {},
   "source": [
    "## F1 Score"
   ]
  },
  {
   "cell_type": "code",
   "execution_count": 113,
   "id": "6a6c0b61",
   "metadata": {},
   "outputs": [
    {
     "data": {
      "text/plain": [
       "0.1001"
      ]
     },
     "execution_count": 113,
     "metadata": {},
     "output_type": "execute_result"
    }
   ],
   "source": [
    "from sklearn.metrics import f1_score\n",
    "\n",
    "f1_score(y_test, y_pred, average='micro')"
   ]
  },
  {
   "cell_type": "markdown",
   "id": "94a61d33",
   "metadata": {},
   "source": [
    "# Multilayer Perceptron | X_train"
   ]
  },
  {
   "cell_type": "markdown",
   "id": "c51c1e4f",
   "metadata": {},
   "source": [
    "## validation threshold"
   ]
  },
  {
   "cell_type": "markdown",
   "id": "16f20dc8",
   "metadata": {},
   "source": [
    "## early_stopping=True with default validation_fraction=0.1"
   ]
  },
  {
   "cell_type": "code",
   "execution_count": 114,
   "id": "05b30ed8",
   "metadata": {},
   "outputs": [],
   "source": [
    "clf = MLPClassifier(random_state=1, max_iter=300, early_stopping=True).fit(X_train, y_train)\n",
    "y_pred = clf.predict(X_train)"
   ]
  },
  {
   "cell_type": "code",
   "execution_count": 115,
   "id": "440379f8",
   "metadata": {},
   "outputs": [
    {
     "data": {
      "text/plain": [
       "array([[5025,    4,  117,  137,   14,    0,  656,    0,   47,    0],\n",
       "       [   1, 5924,    7,   48,    3,    0,   15,    1,    1,    0],\n",
       "       [  20,    3, 5053,   33,  527,    0,  352,    0,   12,    0],\n",
       "       [ 183,   84,   83, 5276,  228,    0,  134,    0,   12,    0],\n",
       "       [   2,    9,  504,  143, 4941,    0,  380,    0,   21,    0],\n",
       "       [   0,    0,    0,    0,    0, 5881,    2,   98,    4,   15],\n",
       "       [ 697,   10,  728,  103,  396,    0, 3995,    0,   71,    0],\n",
       "       [   0,    0,    0,    0,    0,   35,    0, 5882,    3,   80],\n",
       "       [   2,    1,   10,   11,    8,    9,   85,   29, 5845,    0],\n",
       "       [   0,    0,    0,    0,    0,   12,    2,  309,    1, 5676]],\n",
       "      dtype=int64)"
      ]
     },
     "execution_count": 115,
     "metadata": {},
     "output_type": "execute_result"
    }
   ],
   "source": [
    "confusion_matrix(y_train, y_pred)"
   ]
  },
  {
   "cell_type": "code",
   "execution_count": 116,
   "id": "7eba956a",
   "metadata": {},
   "outputs": [],
   "source": [
    "cnf_matrix = confusion_matrix(y_train, y_pred)"
   ]
  },
  {
   "cell_type": "code",
   "execution_count": 117,
   "id": "35035905",
   "metadata": {},
   "outputs": [],
   "source": [
    "FP = cnf_matrix.sum(axis=0) - np.diag(cnf_matrix) \n",
    "FN = cnf_matrix.sum(axis=1) - np.diag(cnf_matrix)\n",
    "TP = np.diag(cnf_matrix)\n",
    "TN = cnf_matrix.sum() - (FP + FN + TP)\n",
    "FP = FP.astype(float)\n",
    "FN = FN.astype(float)\n",
    "TP = TP.astype(float)\n",
    "TN = TN.astype(float)\n",
    "\n",
    "avg_FP=0\n",
    "avg_FN=0\n",
    "avg_TP=0\n",
    "avg_TN=0\n",
    "\n",
    "for i in FP:\n",
    "    avg_FP+=i\n",
    "    \n",
    "for i in FN:\n",
    "    avg_FN+=i\n",
    "    \n",
    "for i in TP:\n",
    "    avg_TP+=i\n",
    "\n",
    "for i in TN:\n",
    "    avg_TN+=i\n",
    "    \n",
    "avg_FP = avg_FP/10\n",
    "avg_FN = avg_FN/10\n",
    "avg_TP = avg_TP/10\n",
    "avg_TN = avg_TN/10"
   ]
  },
  {
   "cell_type": "markdown",
   "id": "200e4f66",
   "metadata": {},
   "source": [
    "## Accuracy"
   ]
  },
  {
   "cell_type": "code",
   "execution_count": 118,
   "id": "4da5d901",
   "metadata": {},
   "outputs": [
    {
     "name": "stdout",
     "output_type": "stream",
     "text": [
      "0.8916333333333334\n",
      "53498\n"
     ]
    }
   ],
   "source": [
    "from sklearn.metrics import accuracy_score\n",
    "\n",
    "print(accuracy_score(y_train, y_pred))\n",
    "\n",
    "print(accuracy_score(y_train, y_pred, normalize=False))\n",
    "\n",
    "accuracy = accuracy_score(y_train, y_pred)"
   ]
  },
  {
   "cell_type": "markdown",
   "id": "7e453c32",
   "metadata": {},
   "source": [
    "0.8919 on the original config, a slight decrease here but not by much."
   ]
  },
  {
   "cell_type": "markdown",
   "id": "b01f1fd0",
   "metadata": {},
   "source": [
    "## Specificity"
   ]
  },
  {
   "cell_type": "code",
   "execution_count": 119,
   "id": "38c36387",
   "metadata": {},
   "outputs": [
    {
     "data": {
      "text/plain": [
       "0.9879592592592593"
      ]
     },
     "execution_count": 119,
     "metadata": {},
     "output_type": "execute_result"
    }
   ],
   "source": [
    "avg_TN/(avg_TN+avg_FP)"
   ]
  },
  {
   "cell_type": "markdown",
   "id": "c8f9895b",
   "metadata": {},
   "source": [
    "## Precision and Recall"
   ]
  },
  {
   "cell_type": "markdown",
   "id": "1a3e0fac",
   "metadata": {},
   "source": [
    "### precision = TP / (TP+FP)"
   ]
  },
  {
   "cell_type": "code",
   "execution_count": 120,
   "id": "6e7ea7ad",
   "metadata": {},
   "outputs": [
    {
     "data": {
      "text/plain": [
       "0.8916333333333334"
      ]
     },
     "execution_count": 120,
     "metadata": {},
     "output_type": "execute_result"
    }
   ],
   "source": [
    "from sklearn.metrics import precision_score, recall_score\n",
    "\n",
    "precision_score(y_train, y_pred, average='micro')"
   ]
  },
  {
   "cell_type": "markdown",
   "id": "c45aaccf",
   "metadata": {},
   "source": [
    "### Recall"
   ]
  },
  {
   "cell_type": "code",
   "execution_count": 121,
   "id": "e3be9931",
   "metadata": {},
   "outputs": [
    {
     "data": {
      "text/plain": [
       "0.8916333333333334"
      ]
     },
     "execution_count": 121,
     "metadata": {},
     "output_type": "execute_result"
    }
   ],
   "source": [
    "recall_score(y_train, y_pred, average='micro')"
   ]
  },
  {
   "cell_type": "markdown",
   "id": "0e45ca5f",
   "metadata": {},
   "source": [
    "## F1 Score"
   ]
  },
  {
   "cell_type": "code",
   "execution_count": 122,
   "id": "8df58916",
   "metadata": {},
   "outputs": [
    {
     "data": {
      "text/plain": [
       "0.8916333333333334"
      ]
     },
     "execution_count": 122,
     "metadata": {},
     "output_type": "execute_result"
    }
   ],
   "source": [
    "from sklearn.metrics import f1_score\n",
    "\n",
    "f1_score(y_train, y_pred, average='micro')"
   ]
  },
  {
   "cell_type": "markdown",
   "id": "5f794142",
   "metadata": {},
   "source": [
    "# Multilayer Perceptron | X_test"
   ]
  },
  {
   "cell_type": "markdown",
   "id": "7c9d174b",
   "metadata": {},
   "source": [
    "## validation threshold"
   ]
  },
  {
   "cell_type": "markdown",
   "id": "a46c387a",
   "metadata": {},
   "source": [
    "## early_stopping=True with default validation_fraction=0.1"
   ]
  },
  {
   "cell_type": "code",
   "execution_count": 123,
   "id": "e023d980",
   "metadata": {},
   "outputs": [],
   "source": [
    "clf = MLPClassifier(random_state=1, max_iter=300, early_stopping=True).fit(X_train, y_train)\n",
    "y_pred = clf.predict(X_test)"
   ]
  },
  {
   "cell_type": "code",
   "execution_count": 124,
   "id": "6dc84cdc",
   "metadata": {},
   "outputs": [
    {
     "data": {
      "text/plain": [
       "array([[815,   2,  23,  26,   1,   1, 117,   0,  15,   0],\n",
       "       [  2, 985,   1,  10,   0,   1,   1,   0,   0,   0],\n",
       "       [  4,   2, 811,   8,  94,   0,  76,   0,   5,   0],\n",
       "       [ 32,  29,  16, 855,  34,   0,  30,   0,   4,   0],\n",
       "       [  0,   4,  76,  21, 826,   0,  68,   0,   5,   0],\n",
       "       [  0,   0,   0,   1,   0, 921,   1,  54,   3,  20],\n",
       "       [134,   3, 113,  24,  75,   0, 634,   0,  17,   0],\n",
       "       [  0,   0,   0,   0,   0,  12,   0, 963,   0,  25],\n",
       "       [  1,   0,   4,   1,   4,   3,  20,   7, 960,   0],\n",
       "       [  0,   0,   0,   0,   0,   3,   1,  59,   1, 936]], dtype=int64)"
      ]
     },
     "execution_count": 124,
     "metadata": {},
     "output_type": "execute_result"
    }
   ],
   "source": [
    "confusion_matrix(y_test, y_pred)"
   ]
  },
  {
   "cell_type": "code",
   "execution_count": 125,
   "id": "8ccccd87",
   "metadata": {},
   "outputs": [],
   "source": [
    "cnf_matrix = confusion_matrix(y_test, y_pred)"
   ]
  },
  {
   "cell_type": "code",
   "execution_count": 126,
   "id": "8df5cdc0",
   "metadata": {},
   "outputs": [],
   "source": [
    "FP = cnf_matrix.sum(axis=0) - np.diag(cnf_matrix) \n",
    "FN = cnf_matrix.sum(axis=1) - np.diag(cnf_matrix)\n",
    "TP = np.diag(cnf_matrix)\n",
    "TN = cnf_matrix.sum() - (FP + FN + TP)\n",
    "FP = FP.astype(float)\n",
    "FN = FN.astype(float)\n",
    "TP = TP.astype(float)\n",
    "TN = TN.astype(float)\n",
    "\n",
    "avg_FP=0\n",
    "avg_FN=0\n",
    "avg_TP=0\n",
    "avg_TN=0\n",
    "\n",
    "for i in FP:\n",
    "    avg_FP+=i\n",
    "    \n",
    "for i in FN:\n",
    "    avg_FN+=i\n",
    "    \n",
    "for i in TP:\n",
    "    avg_TP+=i\n",
    "\n",
    "for i in TN:\n",
    "    avg_TN+=i\n",
    "    \n",
    "avg_FP = avg_FP/10\n",
    "avg_FN = avg_FN/10\n",
    "avg_TP = avg_TP/10\n",
    "avg_TN = avg_TN/10"
   ]
  },
  {
   "cell_type": "markdown",
   "id": "4c736b3e",
   "metadata": {},
   "source": [
    "## Accuracy"
   ]
  },
  {
   "cell_type": "code",
   "execution_count": 127,
   "id": "dff42238",
   "metadata": {},
   "outputs": [
    {
     "name": "stdout",
     "output_type": "stream",
     "text": [
      "0.8706\n",
      "8706\n"
     ]
    }
   ],
   "source": [
    "from sklearn.metrics import accuracy_score\n",
    "\n",
    "print(accuracy_score(y_test, y_pred))\n",
    "\n",
    "print(accuracy_score(y_test, y_pred, normalize=False))\n",
    "\n",
    "accuracy = accuracy_score(y_test, y_pred)"
   ]
  },
  {
   "cell_type": "markdown",
   "id": "cce16ca5",
   "metadata": {},
   "source": [
    "0.8578 with the original config, and here it has 87% accuracy, so a slight increase in it's ability to generalize to unseen data. Early stopping with validation_fraction=0.1 is benefitial with this dataset."
   ]
  },
  {
   "cell_type": "markdown",
   "id": "e3d1830e",
   "metadata": {},
   "source": [
    "## Specificity"
   ]
  },
  {
   "cell_type": "code",
   "execution_count": 128,
   "id": "73564866",
   "metadata": {},
   "outputs": [
    {
     "data": {
      "text/plain": [
       "0.9856222222222223"
      ]
     },
     "execution_count": 128,
     "metadata": {},
     "output_type": "execute_result"
    }
   ],
   "source": [
    "avg_TN/(avg_TN+avg_FP)"
   ]
  },
  {
   "cell_type": "markdown",
   "id": "3a1b8875",
   "metadata": {},
   "source": [
    "## Precision and Recall"
   ]
  },
  {
   "cell_type": "markdown",
   "id": "dcca59b4",
   "metadata": {},
   "source": [
    "### precision = TP / (TP+FP)"
   ]
  },
  {
   "cell_type": "code",
   "execution_count": 129,
   "id": "728b3b37",
   "metadata": {},
   "outputs": [
    {
     "data": {
      "text/plain": [
       "0.8706"
      ]
     },
     "execution_count": 129,
     "metadata": {},
     "output_type": "execute_result"
    }
   ],
   "source": [
    "from sklearn.metrics import precision_score, recall_score\n",
    "\n",
    "precision_score(y_test, y_pred, average='micro')"
   ]
  },
  {
   "cell_type": "markdown",
   "id": "9759a097",
   "metadata": {},
   "source": [
    "### Recall"
   ]
  },
  {
   "cell_type": "code",
   "execution_count": 130,
   "id": "0f5c2f1c",
   "metadata": {},
   "outputs": [
    {
     "data": {
      "text/plain": [
       "0.8706"
      ]
     },
     "execution_count": 130,
     "metadata": {},
     "output_type": "execute_result"
    }
   ],
   "source": [
    "recall_score(y_test, y_pred, average='micro')"
   ]
  },
  {
   "cell_type": "markdown",
   "id": "f90448c8",
   "metadata": {},
   "source": [
    "## F1 Score"
   ]
  },
  {
   "cell_type": "code",
   "execution_count": 131,
   "id": "ec7b8778",
   "metadata": {},
   "outputs": [
    {
     "data": {
      "text/plain": [
       "0.8706"
      ]
     },
     "execution_count": 131,
     "metadata": {},
     "output_type": "execute_result"
    }
   ],
   "source": [
    "from sklearn.metrics import f1_score\n",
    "\n",
    "f1_score(y_test, y_pred, average='micro')"
   ]
  },
  {
   "cell_type": "markdown",
   "id": "d0178a3f",
   "metadata": {},
   "source": [
    "# Multilayer Perceptron | X_train"
   ]
  },
  {
   "cell_type": "markdown",
   "id": "cedd424a",
   "metadata": {},
   "source": [
    "## validation threshold"
   ]
  },
  {
   "cell_type": "markdown",
   "id": "119898a5",
   "metadata": {},
   "source": [
    "## early_stopping=True with validation_fraction=0.5"
   ]
  },
  {
   "cell_type": "code",
   "execution_count": 132,
   "id": "35f980e7",
   "metadata": {},
   "outputs": [],
   "source": [
    "clf = MLPClassifier(random_state=1, max_iter=300, early_stopping=True, validation_fraction=0.5).fit(X_train, y_train)\n",
    "y_pred = clf.predict(X_train)"
   ]
  },
  {
   "cell_type": "code",
   "execution_count": 133,
   "id": "7bb77200",
   "metadata": {},
   "outputs": [
    {
     "data": {
      "text/plain": [
       "array([[4803,   36,  126,  165,   26,    4,  790,    0,   49,    1],\n",
       "       [   8, 5890,    9,   44,   15,    1,   32,    0,    1,    0],\n",
       "       [  22,    2, 5039,   21,  508,    1,  398,    0,    8,    1],\n",
       "       [ 110,  127,  206, 4987,  340,    2,  210,    0,   18,    0],\n",
       "       [   5,    6,  880,   87, 4575,    0,  435,    0,   12,    0],\n",
       "       [   3,    0,    1,    1,    0, 5809,    0,  105,   18,   63],\n",
       "       [ 715,   13,  846,   80,  476,    1, 3828,    0,   41,    0],\n",
       "       [   1,    0,    0,    0,    0,   79,    1, 5733,    5,  181],\n",
       "       [   3,    3,   33,    8,   37,   14,  101,   23, 5778,    0],\n",
       "       [   0,    0,    0,    0,    0,   54,    0,  156,    4, 5786]],\n",
       "      dtype=int64)"
      ]
     },
     "execution_count": 133,
     "metadata": {},
     "output_type": "execute_result"
    }
   ],
   "source": [
    "confusion_matrix(y_train, y_pred)"
   ]
  },
  {
   "cell_type": "code",
   "execution_count": 134,
   "id": "18773cf1",
   "metadata": {},
   "outputs": [],
   "source": [
    "cnf_matrix = confusion_matrix(y_train, y_pred)"
   ]
  },
  {
   "cell_type": "code",
   "execution_count": 135,
   "id": "47b99b83",
   "metadata": {},
   "outputs": [],
   "source": [
    "FP = cnf_matrix.sum(axis=0) - np.diag(cnf_matrix) \n",
    "FN = cnf_matrix.sum(axis=1) - np.diag(cnf_matrix)\n",
    "TP = np.diag(cnf_matrix)\n",
    "TN = cnf_matrix.sum() - (FP + FN + TP)\n",
    "FP = FP.astype(float)\n",
    "FN = FN.astype(float)\n",
    "TP = TP.astype(float)\n",
    "TN = TN.astype(float)\n",
    "\n",
    "avg_FP=0\n",
    "avg_FN=0\n",
    "avg_TP=0\n",
    "avg_TN=0\n",
    "\n",
    "for i in FP:\n",
    "    avg_FP+=i\n",
    "    \n",
    "for i in FN:\n",
    "    avg_FN+=i\n",
    "    \n",
    "for i in TP:\n",
    "    avg_TP+=i\n",
    "\n",
    "for i in TN:\n",
    "    avg_TN+=i\n",
    "    \n",
    "avg_FP = avg_FP/10\n",
    "avg_FN = avg_FN/10\n",
    "avg_TP = avg_TP/10\n",
    "avg_TN = avg_TN/10"
   ]
  },
  {
   "cell_type": "markdown",
   "id": "50cc29c4",
   "metadata": {},
   "source": [
    "## Accuracy"
   ]
  },
  {
   "cell_type": "code",
   "execution_count": 136,
   "id": "a4ec26b8",
   "metadata": {},
   "outputs": [
    {
     "name": "stdout",
     "output_type": "stream",
     "text": [
      "0.8704666666666667\n",
      "52228\n"
     ]
    }
   ],
   "source": [
    "from sklearn.metrics import accuracy_score\n",
    "\n",
    "print(accuracy_score(y_train, y_pred))\n",
    "\n",
    "print(accuracy_score(y_train, y_pred, normalize=False))\n",
    "\n",
    "accuracy = accuracy_score(y_train, y_pred)"
   ]
  },
  {
   "cell_type": "markdown",
   "id": "959368ab",
   "metadata": {},
   "source": [
    "A slight decrease in accuracy."
   ]
  },
  {
   "cell_type": "markdown",
   "id": "22aa484c",
   "metadata": {},
   "source": [
    "## Specificity"
   ]
  },
  {
   "cell_type": "code",
   "execution_count": 137,
   "id": "3de213a4",
   "metadata": {},
   "outputs": [
    {
     "data": {
      "text/plain": [
       "0.9856074074074075"
      ]
     },
     "execution_count": 137,
     "metadata": {},
     "output_type": "execute_result"
    }
   ],
   "source": [
    "avg_TN/(avg_TN+avg_FP)"
   ]
  },
  {
   "cell_type": "markdown",
   "id": "f14cec81",
   "metadata": {},
   "source": [
    "## Precision and Recall"
   ]
  },
  {
   "cell_type": "markdown",
   "id": "60801216",
   "metadata": {},
   "source": [
    "### precision = TP / (TP+FP)"
   ]
  },
  {
   "cell_type": "code",
   "execution_count": 138,
   "id": "150dc1d6",
   "metadata": {},
   "outputs": [
    {
     "data": {
      "text/plain": [
       "0.8704666666666667"
      ]
     },
     "execution_count": 138,
     "metadata": {},
     "output_type": "execute_result"
    }
   ],
   "source": [
    "from sklearn.metrics import precision_score, recall_score\n",
    "\n",
    "precision_score(y_train, y_pred, average='micro')"
   ]
  },
  {
   "cell_type": "markdown",
   "id": "12926551",
   "metadata": {},
   "source": [
    "### Recall"
   ]
  },
  {
   "cell_type": "code",
   "execution_count": 139,
   "id": "304f6d54",
   "metadata": {},
   "outputs": [
    {
     "data": {
      "text/plain": [
       "0.8704666666666667"
      ]
     },
     "execution_count": 139,
     "metadata": {},
     "output_type": "execute_result"
    }
   ],
   "source": [
    "recall_score(y_train, y_pred, average='micro')"
   ]
  },
  {
   "cell_type": "markdown",
   "id": "957833de",
   "metadata": {},
   "source": [
    "## F1 Score"
   ]
  },
  {
   "cell_type": "code",
   "execution_count": 140,
   "id": "7f559094",
   "metadata": {},
   "outputs": [
    {
     "data": {
      "text/plain": [
       "0.8704666666666667"
      ]
     },
     "execution_count": 140,
     "metadata": {},
     "output_type": "execute_result"
    }
   ],
   "source": [
    "from sklearn.metrics import f1_score\n",
    "\n",
    "f1_score(y_train, y_pred, average='micro')"
   ]
  },
  {
   "cell_type": "markdown",
   "id": "7288ff3c",
   "metadata": {},
   "source": [
    "# Multilayer Perceptron | X_test"
   ]
  },
  {
   "cell_type": "markdown",
   "id": "a317e921",
   "metadata": {},
   "source": [
    "## validation threshold"
   ]
  },
  {
   "cell_type": "markdown",
   "id": "11986993",
   "metadata": {},
   "source": [
    "## early_stopping=True with default validation_fraction=0.5"
   ]
  },
  {
   "cell_type": "code",
   "execution_count": 141,
   "id": "87aa6ff7",
   "metadata": {},
   "outputs": [],
   "source": [
    "clf = MLPClassifier(random_state=1, max_iter=300, early_stopping=True, validation_fraction=0.5).fit(X_train, y_train)\n",
    "y_pred = clf.predict(X_test)"
   ]
  },
  {
   "cell_type": "code",
   "execution_count": 142,
   "id": "6881cb54",
   "metadata": {},
   "outputs": [
    {
     "data": {
      "text/plain": [
       "array([[776,   6,  22,  33,   2,   3, 150,   0,   8,   0],\n",
       "       [  1, 983,   1,   6,   2,   2,   5,   0,   0,   0],\n",
       "       [  5,   1, 833,   1,  78,   0,  79,   0,   3,   0],\n",
       "       [ 24,  30,  29, 826,  48,   1,  40,   0,   2,   0],\n",
       "       [  0,   3, 138,  13, 773,   0,  72,   0,   1,   0],\n",
       "       [  1,   0,   0,   0,   0, 929,   3,  42,   4,  21],\n",
       "       [126,   4, 124,  15,  79,   0, 641,   1,  10,   0],\n",
       "       [  0,   0,   0,   0,   0,  24,   1, 934,   0,  41],\n",
       "       [  0,   2,   9,   2,  11,   5,  21,   2, 948,   0],\n",
       "       [  0,   0,   0,   0,   0,   9,   1,  37,   0, 953]], dtype=int64)"
      ]
     },
     "execution_count": 142,
     "metadata": {},
     "output_type": "execute_result"
    }
   ],
   "source": [
    "confusion_matrix(y_test, y_pred)"
   ]
  },
  {
   "cell_type": "code",
   "execution_count": 143,
   "id": "9c806ece",
   "metadata": {},
   "outputs": [],
   "source": [
    "cnf_matrix = confusion_matrix(y_test, y_pred)"
   ]
  },
  {
   "cell_type": "code",
   "execution_count": 144,
   "id": "50943970",
   "metadata": {},
   "outputs": [],
   "source": [
    "FP = cnf_matrix.sum(axis=0) - np.diag(cnf_matrix) \n",
    "FN = cnf_matrix.sum(axis=1) - np.diag(cnf_matrix)\n",
    "TP = np.diag(cnf_matrix)\n",
    "TN = cnf_matrix.sum() - (FP + FN + TP)\n",
    "FP = FP.astype(float)\n",
    "FN = FN.astype(float)\n",
    "TP = TP.astype(float)\n",
    "TN = TN.astype(float)\n",
    "\n",
    "avg_FP=0\n",
    "avg_FN=0\n",
    "avg_TP=0\n",
    "avg_TN=0\n",
    "\n",
    "for i in FP:\n",
    "    avg_FP+=i\n",
    "    \n",
    "for i in FN:\n",
    "    avg_FN+=i\n",
    "    \n",
    "for i in TP:\n",
    "    avg_TP+=i\n",
    "\n",
    "for i in TN:\n",
    "    avg_TN+=i\n",
    "    \n",
    "avg_FP = avg_FP/10\n",
    "avg_FN = avg_FN/10\n",
    "avg_TP = avg_TP/10\n",
    "avg_TN = avg_TN/10"
   ]
  },
  {
   "cell_type": "markdown",
   "id": "7ae64131",
   "metadata": {},
   "source": [
    "## Accuracy"
   ]
  },
  {
   "cell_type": "code",
   "execution_count": 145,
   "id": "d4fdb974",
   "metadata": {},
   "outputs": [
    {
     "name": "stdout",
     "output_type": "stream",
     "text": [
      "0.8596\n",
      "8596\n"
     ]
    }
   ],
   "source": [
    "from sklearn.metrics import accuracy_score\n",
    "\n",
    "print(accuracy_score(y_test, y_pred))\n",
    "\n",
    "print(accuracy_score(y_test, y_pred, normalize=False))\n",
    "\n",
    "accuracy = accuracy_score(y_test, y_pred)"
   ]
  },
  {
   "cell_type": "markdown",
   "id": "6ea55465",
   "metadata": {},
   "source": [
    "0.8578 with the original config, 87 with validation_fraction = 0.1, here it is ever so slightly higher than the original config."
   ]
  },
  {
   "cell_type": "markdown",
   "id": "042474b2",
   "metadata": {},
   "source": [
    "## Specificity"
   ]
  },
  {
   "cell_type": "code",
   "execution_count": 146,
   "id": "7cc21e60",
   "metadata": {},
   "outputs": [
    {
     "data": {
      "text/plain": [
       "0.9844"
      ]
     },
     "execution_count": 146,
     "metadata": {},
     "output_type": "execute_result"
    }
   ],
   "source": [
    "avg_TN/(avg_TN+avg_FP)"
   ]
  },
  {
   "cell_type": "markdown",
   "id": "ff96ef52",
   "metadata": {},
   "source": [
    "## Precision and Recall"
   ]
  },
  {
   "cell_type": "markdown",
   "id": "a76e9a88",
   "metadata": {},
   "source": [
    "### precision = TP / (TP+FP)"
   ]
  },
  {
   "cell_type": "code",
   "execution_count": 147,
   "id": "3925f321",
   "metadata": {},
   "outputs": [
    {
     "data": {
      "text/plain": [
       "0.8596"
      ]
     },
     "execution_count": 147,
     "metadata": {},
     "output_type": "execute_result"
    }
   ],
   "source": [
    "from sklearn.metrics import precision_score, recall_score\n",
    "\n",
    "precision_score(y_test, y_pred, average='micro')"
   ]
  },
  {
   "cell_type": "markdown",
   "id": "ec1a3081",
   "metadata": {},
   "source": [
    "### Recall"
   ]
  },
  {
   "cell_type": "code",
   "execution_count": 148,
   "id": "691d73b4",
   "metadata": {},
   "outputs": [
    {
     "data": {
      "text/plain": [
       "0.8596"
      ]
     },
     "execution_count": 148,
     "metadata": {},
     "output_type": "execute_result"
    }
   ],
   "source": [
    "recall_score(y_test, y_pred, average='micro')"
   ]
  },
  {
   "cell_type": "markdown",
   "id": "3ebd020a",
   "metadata": {},
   "source": [
    "## F1 Score"
   ]
  },
  {
   "cell_type": "code",
   "execution_count": 149,
   "id": "d6e88364",
   "metadata": {},
   "outputs": [
    {
     "data": {
      "text/plain": [
       "0.8596"
      ]
     },
     "execution_count": 149,
     "metadata": {},
     "output_type": "execute_result"
    }
   ],
   "source": [
    "from sklearn.metrics import f1_score\n",
    "\n",
    "f1_score(y_test, y_pred, average='micro')"
   ]
  },
  {
   "cell_type": "markdown",
   "id": "ef9bf82a",
   "metadata": {},
   "source": [
    "# What conclusions can you make about the dataset complexity"
   ]
  },
  {
   "cell_type": "markdown",
   "id": "20461b61",
   "metadata": {},
   "source": [
    "Can still conclude that the dataset is not fully linerally seperable, it is with some classes, but much like before, the Multilayer Perceptron still cant avoid the non-linear seperability of classes 0, 2, 4, and 6."
   ]
  },
  {
   "cell_type": "markdown",
   "id": "4e62a885",
   "metadata": {},
   "source": [
    "# Deep neural networks ability to generalize to new data"
   ]
  },
  {
   "cell_type": "markdown",
   "id": "e5851d58",
   "metadata": {},
   "source": [
    "Neural networks ability to generalize to new data is much better than previous methods such as decision trees and clustering, but it could still be better.\n",
    "\n",
    "Something to metion is that 3 hidden layers with 200 hidden units each returned 97% and 89% accuracy on train and test sets resepctively -> Great accuracy, bad generalization, but better accuracies than any others."
   ]
  },
  {
   "cell_type": "markdown",
   "id": "683c8bc6",
   "metadata": {},
   "source": [
    "# Can you make any conclusions about the effect of activation functions?"
   ]
  },
  {
   "cell_type": "markdown",
   "id": "fc98a771",
   "metadata": {},
   "source": [
    "The effect of different activation functions to that of the default 'relu' function was negative on the results. Some activation functions showed good generalization, but only in comparison to themselves, where their training set accuracy was low, and their test set accuracy would get close to that, but consequently be low too.\n",
    "\n",
    "ReLU had 89% and 86% accuracy for train and test respectively. -> Good accuracy, decent generalization.\n",
    "\n",
    "Identity had 82% and 79% accuracy for train and test respectively. -> Bad accuracy, decent generalization.\n",
    "\n",
    "Logistic had 83% and 83% accuracy for train and test respectively. -> Super generalization but low accuracy.\n",
    "\n",
    "Tanh had 81% and 80% accuracy for train and test respectively. -> Good generalization but low accuracy."
   ]
  },
  {
   "cell_type": "markdown",
   "id": "05d031a9",
   "metadata": {},
   "source": [
    "# Convolutional Neural Network (CNN)"
   ]
  },
  {
   "cell_type": "markdown",
   "id": "7d1de9f2",
   "metadata": {},
   "source": [
    "#### Imports"
   ]
  },
  {
   "cell_type": "code",
   "execution_count": 4,
   "id": "0401553d",
   "metadata": {},
   "outputs": [],
   "source": [
    "import tensorflow as tf\n",
    "\n",
    "from tensorflow.keras import layers, models\n",
    "import matplotlib.pyplot as plt"
   ]
  },
  {
   "cell_type": "code",
   "execution_count": 5,
   "id": "488adae8",
   "metadata": {},
   "outputs": [],
   "source": [
    "X_train = np.reshape(X_train, (60000, 28 ,28 ,1))\n",
    "X_test = np.reshape(X_test, (10000, 28 ,28 ,1))"
   ]
  },
  {
   "cell_type": "markdown",
   "id": "0e8be49b",
   "metadata": {},
   "source": [
    "## Convolutional & Pooling"
   ]
  },
  {
   "cell_type": "markdown",
   "id": "1588a6c4",
   "metadata": {},
   "source": [
    "#### Create the convolutional base"
   ]
  },
  {
   "cell_type": "markdown",
   "id": "837ae6ac",
   "metadata": {},
   "source": [
    "The lines of code below define the convolutional base using a common pattern: a stack of Conv2D, MaxPooling2D layers and dense layers.\n",
    "\n",
    "As input, a CNN takes tensors of shape (image_height, image_width, color_channels), ignoring the batch size. In this example, I configure the CNN to process inputs of shape (28, 28, 1), which is the format of MNIST fashion images."
   ]
  },
  {
   "cell_type": "code",
   "execution_count": 6,
   "id": "a89b5b2a",
   "metadata": {},
   "outputs": [],
   "source": [
    "model = models.Sequential()\n",
    "model.add(layers.Conv2D(32, (3, 3), activation='relu', input_shape=(28, 28, 1))) #Convolutional Layer\n",
    "model.add(layers.MaxPooling2D((2, 2))) #Pooling Layer 2x2\n",
    "model.add(layers.Conv2D(64, (3, 3), activation='relu'))\n",
    "model.add(layers.MaxPooling2D((2, 2)))\n",
    "model.add(layers.Conv2D(64, (3, 3), activation='relu'))\n",
    "model.add(layers.Flatten()) #Flatten to 1D\n",
    "model.add(layers.Dense(64, activation='relu'))\n",
    "model.add(layers.Dense(10))"
   ]
  },
  {
   "cell_type": "code",
   "execution_count": 7,
   "id": "74815a77",
   "metadata": {},
   "outputs": [
    {
     "name": "stdout",
     "output_type": "stream",
     "text": [
      "Model: \"sequential\"\n",
      "_________________________________________________________________\n",
      " Layer (type)                Output Shape              Param #   \n",
      "=================================================================\n",
      " conv2d (Conv2D)             (None, 26, 26, 32)        320       \n",
      "                                                                 \n",
      " max_pooling2d (MaxPooling2D  (None, 13, 13, 32)       0         \n",
      " )                                                               \n",
      "                                                                 \n",
      " conv2d_1 (Conv2D)           (None, 11, 11, 64)        18496     \n",
      "                                                                 \n",
      " max_pooling2d_1 (MaxPooling  (None, 5, 5, 64)         0         \n",
      " 2D)                                                             \n",
      "                                                                 \n",
      " conv2d_2 (Conv2D)           (None, 3, 3, 64)          36928     \n",
      "                                                                 \n",
      " flatten (Flatten)           (None, 576)               0         \n",
      "                                                                 \n",
      " dense (Dense)               (None, 64)                36928     \n",
      "                                                                 \n",
      " dense_1 (Dense)             (None, 10)                650       \n",
      "                                                                 \n",
      "=================================================================\n",
      "Total params: 93,322\n",
      "Trainable params: 93,322\n",
      "Non-trainable params: 0\n",
      "_________________________________________________________________\n"
     ]
    }
   ],
   "source": [
    "model.summary()"
   ]
  },
  {
   "cell_type": "markdown",
   "id": "f4239098",
   "metadata": {},
   "source": [
    "Above, you can see that the output of every Conv2D and MaxPooling2D layer is a 3D tensor of shape (height, width, channels). The width and height dimensions tend to shrink as you go deeper in the network. The number of output channels for each Conv2D layer is controlled by the first argument (e.g., 32 or 64). Typically, as the width and height shrink, you can afford (computationally) to add more output channels in each Conv2D layer."
   ]
  },
  {
   "cell_type": "markdown",
   "id": "de576520",
   "metadata": {},
   "source": [
    "To complete the model, we feed the last output tensor from the convolutional base (of shape (3, 3, 64)) into one or more Dense layers to perform classification. Dense layers take vectors as input (which are 1D), while the current output is a 3D tensor. First, you will flatten (or unroll) the 3D output to 1D, then add one or more Dense layers on top. My dataset has 10 output classes, so I use a final Dense layer with 10 outputs."
   ]
  },
  {
   "cell_type": "code",
   "execution_count": 8,
   "id": "8d6b0f0d",
   "metadata": {},
   "outputs": [
    {
     "name": "stdout",
     "output_type": "stream",
     "text": [
      "Epoch 1/10\n",
      "1875/1875 [==============================] - 24s 12ms/step - loss: 0.5764 - accuracy: 0.8117 - val_loss: 0.3668 - val_accuracy: 0.8692\n",
      "Epoch 2/10\n",
      "1875/1875 [==============================] - 20s 11ms/step - loss: 0.3519 - accuracy: 0.8715 - val_loss: 0.3560 - val_accuracy: 0.8685\n",
      "Epoch 3/10\n",
      "1875/1875 [==============================] - 21s 11ms/step - loss: 0.3166 - accuracy: 0.8853 - val_loss: 0.3042 - val_accuracy: 0.8895\n",
      "Epoch 4/10\n",
      "1875/1875 [==============================] - 21s 11ms/step - loss: 0.2905 - accuracy: 0.8941 - val_loss: 0.2965 - val_accuracy: 0.8937\n",
      "Epoch 5/10\n",
      "1875/1875 [==============================] - 21s 11ms/step - loss: 0.2680 - accuracy: 0.9020 - val_loss: 0.2863 - val_accuracy: 0.8966\n",
      "Epoch 6/10\n",
      "1875/1875 [==============================] - 21s 11ms/step - loss: 0.2504 - accuracy: 0.9075 - val_loss: 0.2726 - val_accuracy: 0.9020\n",
      "Epoch 7/10\n",
      "1875/1875 [==============================] - 21s 11ms/step - loss: 0.2324 - accuracy: 0.9148 - val_loss: 0.2762 - val_accuracy: 0.9001\n",
      "Epoch 8/10\n",
      "1875/1875 [==============================] - 21s 11ms/step - loss: 0.2247 - accuracy: 0.9154 - val_loss: 0.2753 - val_accuracy: 0.9000\n",
      "Epoch 9/10\n",
      "1875/1875 [==============================] - 21s 11ms/step - loss: 0.2124 - accuracy: 0.9214 - val_loss: 0.2851 - val_accuracy: 0.9015\n",
      "Epoch 10/10\n",
      "1875/1875 [==============================] - 21s 11ms/step - loss: 0.2024 - accuracy: 0.9242 - val_loss: 0.3044 - val_accuracy: 0.8966\n"
     ]
    }
   ],
   "source": [
    "model.compile(optimizer='adam',\n",
    "              loss=tf.keras.losses.SparseCategoricalCrossentropy(from_logits=True),\n",
    "              metrics=['accuracy'])\n",
    "\n",
    "history = model.fit(X_train, y_train, epochs=10,\n",
    "                    validation_data=(X_test, y_test))"
   ]
  },
  {
   "cell_type": "code",
   "execution_count": 9,
   "id": "28c3d022",
   "metadata": {},
   "outputs": [
    {
     "name": "stdout",
     "output_type": "stream",
     "text": [
      "313/313 - 1s - loss: 0.3044 - accuracy: 0.8966 - 915ms/epoch - 3ms/step\n"
     ]
    },
    {
     "data": {
      "image/png": "[encoded data removed]",
      "text/plain": [
       "<Figure size 432x288 with 1 Axes>"
      ]
     },
     "metadata": {
      "needs_background": "light"
     },
     "output_type": "display_data"
    }
   ],
   "source": [
    "plt.plot(history.history['accuracy'], label='accuracy')\n",
    "plt.plot(history.history['val_accuracy'], label = 'val_accuracy')\n",
    "plt.xlabel('Epoch')\n",
    "plt.ylabel('Accuracy')\n",
    "plt.ylim([0.5, 1])\n",
    "plt.legend(loc='lower right')\n",
    "\n",
    "test_loss, test_acc = model.evaluate(X_test,  y_test, verbose=2)"
   ]
  },
  {
   "cell_type": "code",
   "execution_count": 10,
   "id": "dab1307f",
   "metadata": {},
   "outputs": [
    {
     "name": "stdout",
     "output_type": "stream",
     "text": [
      "0.8966000080108643\n"
     ]
    }
   ],
   "source": [
    "print(test_acc)"
   ]
  },
  {
   "cell_type": "markdown",
   "id": "2e893145",
   "metadata": {},
   "source": [
    "90% accuracy is pretty good."
   ]
  },
  {
   "cell_type": "markdown",
   "id": "f1b2a495",
   "metadata": {},
   "source": [
    "# Different Values"
   ]
  },
  {
   "cell_type": "code",
   "execution_count": 12,
   "id": "a231bba0",
   "metadata": {},
   "outputs": [],
   "source": [
    "model = models.Sequential()\n",
    "model.add(layers.Conv2D(32, (12, 12), activation='relu', input_shape=(28, 28, 1))) # was (32, (3, 3), activa..\n",
    "model.add(layers.MaxPooling2D((1, 1))) #Was 2x2, now 1x1\n",
    "model.add(layers.Conv2D(64, (3, 3), activation='relu'))\n",
    "model.add(layers.MaxPooling2D((2, 2)))\n",
    "model.add(layers.Conv2D(64, (3, 3), activation='relu'))\n",
    "model.add(layers.Flatten()) #Flatten to 1D\n",
    "model.add(layers.Dense(64, activation='relu'))\n",
    "model.add(layers.Dense(10))"
   ]
  },
  {
   "cell_type": "code",
   "execution_count": 13,
   "id": "ace2b62a",
   "metadata": {},
   "outputs": [
    {
     "name": "stdout",
     "output_type": "stream",
     "text": [
      "Model: \"sequential_2\"\n",
      "_________________________________________________________________\n",
      " Layer (type)                Output Shape              Param #   \n",
      "=================================================================\n",
      " conv2d_4 (Conv2D)           (None, 17, 17, 32)        4640      \n",
      "                                                                 \n",
      " max_pooling2d_3 (MaxPooling  (None, 17, 17, 32)       0         \n",
      " 2D)                                                             \n",
      "                                                                 \n",
      " conv2d_5 (Conv2D)           (None, 15, 15, 64)        18496     \n",
      "                                                                 \n",
      " max_pooling2d_4 (MaxPooling  (None, 7, 7, 64)         0         \n",
      " 2D)                                                             \n",
      "                                                                 \n",
      " conv2d_6 (Conv2D)           (None, 5, 5, 64)          36928     \n",
      "                                                                 \n",
      " flatten_2 (Flatten)         (None, 1600)              0         \n",
      "                                                                 \n",
      " dense_4 (Dense)             (None, 64)                102464    \n",
      "                                                                 \n",
      " dense_5 (Dense)             (None, 10)                650       \n",
      "                                                                 \n",
      "=================================================================\n",
      "Total params: 163,178\n",
      "Trainable params: 163,178\n",
      "Non-trainable params: 0\n",
      "_________________________________________________________________\n"
     ]
    }
   ],
   "source": [
    "model.summary()"
   ]
  },
  {
   "cell_type": "markdown",
   "id": "8922c3a3",
   "metadata": {},
   "source": [
    "Output shapes are completely different to what they were originally."
   ]
  },
  {
   "cell_type": "code",
   "execution_count": 15,
   "id": "a20273f2",
   "metadata": {},
   "outputs": [
    {
     "name": "stdout",
     "output_type": "stream",
     "text": [
      "Epoch 1/10\n",
      "1875/1875 [==============================] - 38s 20ms/step - loss: 0.4579 - accuracy: 0.8350 - val_loss: 0.5069 - val_accuracy: 0.8043\n",
      "Epoch 2/10\n",
      "1875/1875 [==============================] - 36s 19ms/step - loss: 0.3934 - accuracy: 0.8558 - val_loss: 0.3768 - val_accuracy: 0.8613\n",
      "Epoch 3/10\n",
      "1875/1875 [==============================] - 36s 19ms/step - loss: 0.3651 - accuracy: 0.8655 - val_loss: 0.3900 - val_accuracy: 0.8612\n",
      "Epoch 4/10\n",
      "1875/1875 [==============================] - 36s 19ms/step - loss: 0.3454 - accuracy: 0.8730 - val_loss: 0.3684 - val_accuracy: 0.8620\n",
      "Epoch 5/10\n",
      "1875/1875 [==============================] - 36s 19ms/step - loss: 0.3320 - accuracy: 0.8768 - val_loss: 0.3645 - val_accuracy: 0.8716\n",
      "Epoch 6/10\n",
      "1875/1875 [==============================] - 37s 19ms/step - loss: 0.3129 - accuracy: 0.8830 - val_loss: 0.3578 - val_accuracy: 0.8723\n",
      "Epoch 7/10\n",
      "1875/1875 [==============================] - 36s 19ms/step - loss: 0.3096 - accuracy: 0.8848 - val_loss: 0.3364 - val_accuracy: 0.8825\n",
      "Epoch 8/10\n",
      "1875/1875 [==============================] - 37s 20ms/step - loss: 0.3055 - accuracy: 0.8867 - val_loss: 0.3733 - val_accuracy: 0.8703\n",
      "Epoch 9/10\n",
      "1875/1875 [==============================] - 38s 20ms/step - loss: 0.2916 - accuracy: 0.8912 - val_loss: 0.3614 - val_accuracy: 0.8758\n",
      "Epoch 10/10\n",
      "1875/1875 [==============================] - 37s 20ms/step - loss: 0.2886 - accuracy: 0.8934 - val_loss: 0.3921 - val_accuracy: 0.8603\n"
     ]
    }
   ],
   "source": [
    "model.compile(optimizer='adam',\n",
    "              loss=tf.keras.losses.SparseCategoricalCrossentropy(from_logits=True),\n",
    "              metrics=['accuracy'])\n",
    "\n",
    "history = model.fit(X_train, y_train, epochs=10,\n",
    "                    validation_data=(X_test, y_test))"
   ]
  },
  {
   "cell_type": "code",
   "execution_count": 16,
   "id": "bbb0079e",
   "metadata": {},
   "outputs": [
    {
     "name": "stdout",
     "output_type": "stream",
     "text": [
      "313/313 - 1s - loss: 0.3921 - accuracy: 0.8603 - 1s/epoch - 4ms/step\n"
     ]
    },
    {
     "data": {
      "image/png": "[encoded data removed]",
      "text/plain": [
       "<Figure size 432x288 with 1 Axes>"
      ]
     },
     "metadata": {
      "needs_background": "light"
     },
     "output_type": "display_data"
    }
   ],
   "source": [
    "plt.plot(history.history['accuracy'], label='accuracy')\n",
    "plt.plot(history.history['val_accuracy'], label = 'val_accuracy')\n",
    "plt.xlabel('Epoch')\n",
    "plt.ylabel('Accuracy')\n",
    "plt.ylim([0.5, 1])\n",
    "plt.legend(loc='lower right')\n",
    "\n",
    "test_loss, test_acc = model.evaluate(X_test,  y_test, verbose=2)"
   ]
  },
  {
   "cell_type": "code",
   "execution_count": 17,
   "id": "c398e5d1",
   "metadata": {},
   "outputs": [
    {
     "name": "stdout",
     "output_type": "stream",
     "text": [
      "0.8603000044822693\n"
     ]
    }
   ],
   "source": [
    "print(test_acc)"
   ]
  },
  {
   "cell_type": "markdown",
   "id": "28b40953",
   "metadata": {},
   "source": [
    "Decrease from 90 to 86."
   ]
  },
  {
   "cell_type": "markdown",
   "id": "cf86993d",
   "metadata": {},
   "source": [
    "# Different Values"
   ]
  },
  {
   "cell_type": "code",
   "execution_count": 18,
   "id": "f5bea323",
   "metadata": {},
   "outputs": [],
   "source": [
    "model = models.Sequential()\n",
    "model.add(layers.Conv2D(64, (3, 3), activation='relu', input_shape=(28, 28, 1))) ## was (32, (3, 3) then (32, (12,12))\n",
    "model.add(layers.MaxPooling2D((3, 3))) # was 2x2, then 1x1\n",
    "model.add(layers.Conv2D(64, (3, 3), activation='relu'))\n",
    "model.add(layers.MaxPooling2D((2, 2)))\n",
    "model.add(layers.Conv2D(64, (3, 3), activation='relu'))\n",
    "model.add(layers.Flatten()) #Flatten to 1D\n",
    "model.add(layers.Dense(64, activation='relu'))\n",
    "model.add(layers.Dense(10))"
   ]
  },
  {
   "cell_type": "code",
   "execution_count": 19,
   "id": "bb6177ce",
   "metadata": {},
   "outputs": [
    {
     "name": "stdout",
     "output_type": "stream",
     "text": [
      "Model: \"sequential_3\"\n",
      "_________________________________________________________________\n",
      " Layer (type)                Output Shape              Param #   \n",
      "=================================================================\n",
      " conv2d_7 (Conv2D)           (None, 26, 26, 64)        640       \n",
      "                                                                 \n",
      " max_pooling2d_5 (MaxPooling  (None, 8, 8, 64)         0         \n",
      " 2D)                                                             \n",
      "                                                                 \n",
      " conv2d_8 (Conv2D)           (None, 6, 6, 64)          36928     \n",
      "                                                                 \n",
      " max_pooling2d_6 (MaxPooling  (None, 3, 3, 64)         0         \n",
      " 2D)                                                             \n",
      "                                                                 \n",
      " conv2d_9 (Conv2D)           (None, 1, 1, 64)          36928     \n",
      "                                                                 \n",
      " flatten_3 (Flatten)         (None, 64)                0         \n",
      "                                                                 \n",
      " dense_6 (Dense)             (None, 64)                4160      \n",
      "                                                                 \n",
      " dense_7 (Dense)             (None, 10)                650       \n",
      "                                                                 \n",
      "=================================================================\n",
      "Total params: 79,306\n",
      "Trainable params: 79,306\n",
      "Non-trainable params: 0\n",
      "_________________________________________________________________\n"
     ]
    }
   ],
   "source": [
    "model.summary()"
   ]
  },
  {
   "cell_type": "code",
   "execution_count": 20,
   "id": "0fac49f6",
   "metadata": {},
   "outputs": [
    {
     "name": "stdout",
     "output_type": "stream",
     "text": [
      "Epoch 1/10\n",
      "1875/1875 [==============================] - 24s 13ms/step - loss: 0.5329 - accuracy: 0.8152 - val_loss: 0.3650 - val_accuracy: 0.8702\n",
      "Epoch 2/10\n",
      "1875/1875 [==============================] - 25s 13ms/step - loss: 0.3646 - accuracy: 0.8660 - val_loss: 0.3318 - val_accuracy: 0.8763\n",
      "Epoch 3/10\n",
      "1875/1875 [==============================] - 24s 13ms/step - loss: 0.3239 - accuracy: 0.8823 - val_loss: 0.3380 - val_accuracy: 0.8747\n",
      "Epoch 4/10\n",
      "1875/1875 [==============================] - 24s 13ms/step - loss: 0.3006 - accuracy: 0.8892 - val_loss: 0.3067 - val_accuracy: 0.8939\n",
      "Epoch 5/10\n",
      "1875/1875 [==============================] - 27s 14ms/step - loss: 0.2790 - accuracy: 0.8967 - val_loss: 0.3007 - val_accuracy: 0.8968\n",
      "Epoch 6/10\n",
      "1875/1875 [==============================] - 25s 13ms/step - loss: 0.2630 - accuracy: 0.9029 - val_loss: 0.3091 - val_accuracy: 0.8933\n",
      "Epoch 7/10\n",
      "1875/1875 [==============================] - 25s 13ms/step - loss: 0.2514 - accuracy: 0.9069 - val_loss: 0.2945 - val_accuracy: 0.8952\n",
      "Epoch 8/10\n",
      "1875/1875 [==============================] - 23s 12ms/step - loss: 0.2386 - accuracy: 0.9104 - val_loss: 0.2838 - val_accuracy: 0.9020\n",
      "Epoch 9/10\n",
      "1875/1875 [==============================] - 23s 12ms/step - loss: 0.2328 - accuracy: 0.9144 - val_loss: 0.3020 - val_accuracy: 0.9000\n",
      "Epoch 10/10\n",
      "1875/1875 [==============================] - 23s 12ms/step - loss: 0.2259 - accuracy: 0.9163 - val_loss: 0.2873 - val_accuracy: 0.8988\n"
     ]
    }
   ],
   "source": [
    "model.compile(optimizer='adam',\n",
    "              loss=tf.keras.losses.SparseCategoricalCrossentropy(from_logits=True),\n",
    "              metrics=['accuracy'])\n",
    "\n",
    "history = model.fit(X_train, y_train, epochs=10,\n",
    "                    validation_data=(X_test, y_test))"
   ]
  },
  {
   "cell_type": "code",
   "execution_count": 21,
   "id": "28cad191",
   "metadata": {},
   "outputs": [
    {
     "name": "stdout",
     "output_type": "stream",
     "text": [
      "313/313 - 1s - loss: 0.2873 - accuracy: 0.8988 - 1s/epoch - 3ms/step\n"
     ]
    },
    {
     "data": {
      "image/png": "[encoded data removed]",
      "text/plain": [
       "<Figure size 432x288 with 1 Axes>"
      ]
     },
     "metadata": {
      "needs_background": "light"
     },
     "output_type": "display_data"
    }
   ],
   "source": [
    "plt.plot(history.history['accuracy'], label='accuracy')\n",
    "plt.plot(history.history['val_accuracy'], label = 'val_accuracy')\n",
    "plt.xlabel('Epoch')\n",
    "plt.ylabel('Accuracy')\n",
    "plt.ylim([0.5, 1])\n",
    "plt.legend(loc='lower right')\n",
    "\n",
    "test_loss, test_acc = model.evaluate(X_test,  y_test, verbose=2)"
   ]
  },
  {
   "cell_type": "code",
   "execution_count": 22,
   "id": "7a621157",
   "metadata": {},
   "outputs": [
    {
     "name": "stdout",
     "output_type": "stream",
     "text": [
      "0.8988000154495239\n"
     ]
    }
   ],
   "source": [
    "print(test_acc)"
   ]
  },
  {
   "cell_type": "markdown",
   "id": "5a5115f1",
   "metadata": {},
   "source": [
    "Originally got 0.896, so a marginal increase here by using 64 instead of 32 on the first convolutional layer."
   ]
  },
  {
   "cell_type": "markdown",
   "id": "88234f8e",
   "metadata": {},
   "source": [
    "# Different activation function for dense layers"
   ]
  },
  {
   "cell_type": "code",
   "execution_count": 23,
   "id": "16652468",
   "metadata": {},
   "outputs": [],
   "source": [
    "model = models.Sequential()\n",
    "model.add(layers.Conv2D(32, (3, 3), activation='relu', input_shape=(28, 28, 1))) #Convolutional Layer\n",
    "model.add(layers.MaxPooling2D((2, 2))) #Pooling Layer 2x2\n",
    "model.add(layers.Conv2D(64, (3, 3), activation='relu'))\n",
    "model.add(layers.MaxPooling2D((2, 2)))\n",
    "model.add(layers.Conv2D(64, (3, 3), activation='relu'))\n",
    "model.add(layers.Flatten()) #Flatten to 1D\n",
    "model.add(layers.Dense(64, activation='sigmoid')) #Sigmoid activation function\n",
    "model.add(layers.Dense(10))"
   ]
  },
  {
   "cell_type": "code",
   "execution_count": 24,
   "id": "f96f3b17",
   "metadata": {},
   "outputs": [
    {
     "name": "stdout",
     "output_type": "stream",
     "text": [
      "Model: \"sequential_4\"\n",
      "_________________________________________________________________\n",
      " Layer (type)                Output Shape              Param #   \n",
      "=================================================================\n",
      " conv2d_10 (Conv2D)          (None, 26, 26, 32)        320       \n",
      "                                                                 \n",
      " max_pooling2d_7 (MaxPooling  (None, 13, 13, 32)       0         \n",
      " 2D)                                                             \n",
      "                                                                 \n",
      " conv2d_11 (Conv2D)          (None, 11, 11, 64)        18496     \n",
      "                                                                 \n",
      " max_pooling2d_8 (MaxPooling  (None, 5, 5, 64)         0         \n",
      " 2D)                                                             \n",
      "                                                                 \n",
      " conv2d_12 (Conv2D)          (None, 3, 3, 64)          36928     \n",
      "                                                                 \n",
      " flatten_4 (Flatten)         (None, 576)               0         \n",
      "                                                                 \n",
      " dense_8 (Dense)             (None, 64)                36928     \n",
      "                                                                 \n",
      " dense_9 (Dense)             (None, 10)                650       \n",
      "                                                                 \n",
      "=================================================================\n",
      "Total params: 93,322\n",
      "Trainable params: 93,322\n",
      "Non-trainable params: 0\n",
      "_________________________________________________________________\n"
     ]
    }
   ],
   "source": [
    "model.summary()"
   ]
  },
  {
   "cell_type": "code",
   "execution_count": 25,
   "id": "14ea5398",
   "metadata": {},
   "outputs": [
    {
     "name": "stdout",
     "output_type": "stream",
     "text": [
      "Epoch 1/10\n",
      "1875/1875 [==============================] - 21s 11ms/step - loss: 0.5242 - accuracy: 0.8231 - val_loss: 0.3783 - val_accuracy: 0.8585\n",
      "Epoch 2/10\n",
      "1875/1875 [==============================] - 21s 11ms/step - loss: 0.3356 - accuracy: 0.8776 - val_loss: 0.3109 - val_accuracy: 0.8856\n",
      "Epoch 3/10\n",
      "1875/1875 [==============================] - 20s 11ms/step - loss: 0.3105 - accuracy: 0.8859 - val_loss: 0.3026 - val_accuracy: 0.8852\n",
      "Epoch 4/10\n",
      "1875/1875 [==============================] - 20s 11ms/step - loss: 0.2931 - accuracy: 0.8921 - val_loss: 0.3130 - val_accuracy: 0.8882\n",
      "Epoch 5/10\n",
      "1875/1875 [==============================] - 21s 11ms/step - loss: 0.2823 - accuracy: 0.8972 - val_loss: 0.3052 - val_accuracy: 0.8891\n",
      "Epoch 6/10\n",
      "1875/1875 [==============================] - 22s 12ms/step - loss: 0.2905 - accuracy: 0.8940 - val_loss: 0.2981 - val_accuracy: 0.8926\n",
      "Epoch 7/10\n",
      "1875/1875 [==============================] - 21s 11ms/step - loss: 0.2868 - accuracy: 0.8944 - val_loss: 0.3153 - val_accuracy: 0.8863\n",
      "Epoch 8/10\n",
      "1875/1875 [==============================] - 21s 11ms/step - loss: 0.2905 - accuracy: 0.8938 - val_loss: 0.2985 - val_accuracy: 0.8937\n",
      "Epoch 9/10\n",
      "1875/1875 [==============================] - 22s 12ms/step - loss: 0.2940 - accuracy: 0.8923 - val_loss: 0.3221 - val_accuracy: 0.8849\n",
      "Epoch 10/10\n",
      "1875/1875 [==============================] - 22s 12ms/step - loss: 0.3067 - accuracy: 0.8886 - val_loss: 0.3485 - val_accuracy: 0.8713\n"
     ]
    }
   ],
   "source": [
    "model.compile(optimizer='adam',\n",
    "              loss=tf.keras.losses.SparseCategoricalCrossentropy(from_logits=True),\n",
    "              metrics=['accuracy'])\n",
    "\n",
    "history = model.fit(X_train, y_train, epochs=10,\n",
    "                    validation_data=(X_test, y_test))"
   ]
  },
  {
   "cell_type": "code",
   "execution_count": 26,
   "id": "377d8f08",
   "metadata": {},
   "outputs": [
    {
     "name": "stdout",
     "output_type": "stream",
     "text": [
      "313/313 - 1s - loss: 0.3485 - accuracy: 0.8713 - 961ms/epoch - 3ms/step\n"
     ]
    },
    {
     "data": {
      "image/png": "[encoded data removed]",
      "text/plain": [
       "<Figure size 432x288 with 1 Axes>"
      ]
     },
     "metadata": {
      "needs_background": "light"
     },
     "output_type": "display_data"
    }
   ],
   "source": [
    "plt.plot(history.history['accuracy'], label='accuracy')\n",
    "plt.plot(history.history['val_accuracy'], label = 'val_accuracy')\n",
    "plt.xlabel('Epoch')\n",
    "plt.ylabel('Accuracy')\n",
    "plt.ylim([0.5, 1])\n",
    "plt.legend(loc='lower right')\n",
    "\n",
    "test_loss, test_acc = model.evaluate(X_test,  y_test, verbose=2)"
   ]
  },
  {
   "cell_type": "code",
   "execution_count": 27,
   "id": "6ff61eeb",
   "metadata": {},
   "outputs": [
    {
     "name": "stdout",
     "output_type": "stream",
     "text": [
      "0.8712999820709229\n"
     ]
    }
   ],
   "source": [
    "print(test_acc)"
   ]
  },
  {
   "cell_type": "markdown",
   "id": "3a54856a",
   "metadata": {},
   "source": [
    "Sigmoid activation function decreased the accuracy."
   ]
  },
  {
   "cell_type": "markdown",
   "id": "cd6c4a61",
   "metadata": {},
   "source": [
    "# Different activation function for conv and pooling layers"
   ]
  },
  {
   "cell_type": "code",
   "execution_count": 28,
   "id": "01415d5f",
   "metadata": {},
   "outputs": [],
   "source": [
    "model = models.Sequential()\n",
    "model.add(layers.Conv2D(32, (3, 3), activation='sigmoid', input_shape=(28, 28, 1))) #Convolutional Layer\n",
    "model.add(layers.MaxPooling2D((2, 2))) #Pooling Layer 2x2\n",
    "model.add(layers.Conv2D(64, (3, 3), activation='sigmoid'))\n",
    "model.add(layers.MaxPooling2D((2, 2)))\n",
    "model.add(layers.Conv2D(64, (3, 3), activation='sigmoid'))\n",
    "model.add(layers.Flatten()) #Flatten to 1D\n",
    "model.add(layers.Dense(64, activation='relu'))\n",
    "model.add(layers.Dense(10))"
   ]
  },
  {
   "cell_type": "code",
   "execution_count": 29,
   "id": "8bf88001",
   "metadata": {},
   "outputs": [
    {
     "name": "stdout",
     "output_type": "stream",
     "text": [
      "Model: \"sequential_5\"\n",
      "_________________________________________________________________\n",
      " Layer (type)                Output Shape              Param #   \n",
      "=================================================================\n",
      " conv2d_13 (Conv2D)          (None, 26, 26, 32)        320       \n",
      "                                                                 \n",
      " max_pooling2d_9 (MaxPooling  (None, 13, 13, 32)       0         \n",
      " 2D)                                                             \n",
      "                                                                 \n",
      " conv2d_14 (Conv2D)          (None, 11, 11, 64)        18496     \n",
      "                                                                 \n",
      " max_pooling2d_10 (MaxPoolin  (None, 5, 5, 64)         0         \n",
      " g2D)                                                            \n",
      "                                                                 \n",
      " conv2d_15 (Conv2D)          (None, 3, 3, 64)          36928     \n",
      "                                                                 \n",
      " flatten_5 (Flatten)         (None, 576)               0         \n",
      "                                                                 \n",
      " dense_10 (Dense)            (None, 64)                36928     \n",
      "                                                                 \n",
      " dense_11 (Dense)            (None, 10)                650       \n",
      "                                                                 \n",
      "=================================================================\n",
      "Total params: 93,322\n",
      "Trainable params: 93,322\n",
      "Non-trainable params: 0\n",
      "_________________________________________________________________\n"
     ]
    }
   ],
   "source": [
    "model.summary()"
   ]
  },
  {
   "cell_type": "code",
   "execution_count": 30,
   "id": "75552693",
   "metadata": {},
   "outputs": [
    {
     "name": "stdout",
     "output_type": "stream",
     "text": [
      "Epoch 1/10\n",
      "1875/1875 [==============================] - 24s 13ms/step - loss: 0.6480 - accuracy: 0.7553 - val_loss: 0.4386 - val_accuracy: 0.8385\n",
      "Epoch 2/10\n",
      "1875/1875 [==============================] - 24s 13ms/step - loss: 0.3957 - accuracy: 0.8548 - val_loss: 0.3808 - val_accuracy: 0.8573\n",
      "Epoch 3/10\n",
      "1875/1875 [==============================] - 24s 13ms/step - loss: 0.3362 - accuracy: 0.8769 - val_loss: 0.3058 - val_accuracy: 0.8860\n",
      "Epoch 4/10\n",
      "1875/1875 [==============================] - 23s 13ms/step - loss: 0.3036 - accuracy: 0.8885 - val_loss: 0.2908 - val_accuracy: 0.8919\n",
      "Epoch 5/10\n",
      "1875/1875 [==============================] - 23s 12ms/step - loss: 0.2802 - accuracy: 0.8964 - val_loss: 0.2742 - val_accuracy: 0.8984\n",
      "Epoch 6/10\n",
      "1875/1875 [==============================] - 23s 12ms/step - loss: 0.2670 - accuracy: 0.9014 - val_loss: 0.2727 - val_accuracy: 0.9005\n",
      "Epoch 7/10\n",
      "1875/1875 [==============================] - 23s 12ms/step - loss: 0.2518 - accuracy: 0.9061 - val_loss: 0.2786 - val_accuracy: 0.8973\n",
      "Epoch 8/10\n",
      "1875/1875 [==============================] - 23s 12ms/step - loss: 0.2413 - accuracy: 0.9107 - val_loss: 0.2680 - val_accuracy: 0.9038\n",
      "Epoch 9/10\n",
      "1875/1875 [==============================] - 23s 12ms/step - loss: 0.2286 - accuracy: 0.9153 - val_loss: 0.2410 - val_accuracy: 0.9127\n",
      "Epoch 10/10\n",
      "1875/1875 [==============================] - 22s 12ms/step - loss: 0.2185 - accuracy: 0.9181 - val_loss: 0.2414 - val_accuracy: 0.9131\n"
     ]
    }
   ],
   "source": [
    "model.compile(optimizer='adam',\n",
    "              loss=tf.keras.losses.SparseCategoricalCrossentropy(from_logits=True),\n",
    "              metrics=['accuracy'])\n",
    "\n",
    "history = model.fit(X_train, y_train, epochs=10,\n",
    "                    validation_data=(X_test, y_test))"
   ]
  },
  {
   "cell_type": "code",
   "execution_count": 31,
   "id": "b2faff2e",
   "metadata": {},
   "outputs": [
    {
     "name": "stdout",
     "output_type": "stream",
     "text": [
      "313/313 - 1s - loss: 0.2414 - accuracy: 0.9131 - 1s/epoch - 3ms/step\n"
     ]
    },
    {
     "data": {
      "image/png": "[encoded data removed]",
      "text/plain": [
       "<Figure size 432x288 with 1 Axes>"
      ]
     },
     "metadata": {
      "needs_background": "light"
     },
     "output_type": "display_data"
    }
   ],
   "source": [
    "plt.plot(history.history['accuracy'], label='accuracy')\n",
    "plt.plot(history.history['val_accuracy'], label = 'val_accuracy')\n",
    "plt.xlabel('Epoch')\n",
    "plt.ylabel('Accuracy')\n",
    "plt.ylim([0.5, 1])\n",
    "plt.legend(loc='lower right')\n",
    "\n",
    "test_loss, test_acc = model.evaluate(X_test,  y_test, verbose=2)"
   ]
  },
  {
   "cell_type": "code",
   "execution_count": 32,
   "id": "105283b8",
   "metadata": {},
   "outputs": [
    {
     "name": "stdout",
     "output_type": "stream",
     "text": [
      "0.913100004196167\n"
     ]
    }
   ],
   "source": [
    "print(test_acc)"
   ]
  },
  {
   "cell_type": "markdown",
   "id": "deabf350",
   "metadata": {},
   "source": [
    "Sigmoid actiavtion function increased the accuracy when used on convolutional and pooling layers."
   ]
  }
 ],
 "metadata": {
  "kernelspec": {
   "display_name": "Python 3",
   "language": "python",
   "name": "python3"
  },
  "language_info": {
   "codemirror_mode": {
    "name": "ipython",
    "version": 3
   },
   "file_extension": ".py",
   "mimetype": "text/x-python",
   "name": "python",
   "nbconvert_exporter": "python",
   "pygments_lexer": "ipython3",
   "version": "3.8.8"
  }
 },
 "nbformat": 4,
 "nbformat_minor": 5
}
